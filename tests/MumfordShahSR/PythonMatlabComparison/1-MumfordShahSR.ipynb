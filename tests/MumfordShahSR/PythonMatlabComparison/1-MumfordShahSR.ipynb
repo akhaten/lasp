{
 "cells": [
  {
   "attachments": {},
   "cell_type": "markdown",
   "metadata": {},
   "source": [
    "- Mumford Shah pour la super resolution\n",
    "- Notebook basé sur la v4 de CMST_..."
   ]
  },
  {
   "cell_type": "code",
   "execution_count": 1,
   "metadata": {},
   "outputs": [],
   "source": [
    "import sys\n",
    "sys.path.append('../../..')"
   ]
  },
  {
   "cell_type": "markdown",
   "metadata": {},
   "source": [
    "## Path"
   ]
  },
  {
   "cell_type": "code",
   "execution_count": null,
   "metadata": {},
   "outputs": [],
   "source": [
    "import pathlib\n",
    "\n",
    "PATH_DATASET = pathlib.Path('dataset_2')\n",
    "PATH_DATASET_NPY = PATH_DATASET / 'npy'\n",
    "PATH_DATASET_PNG = PATH_DATASET / 'png'\n",
    "\n",
    "\n",
    "PATH_RESULTS = PATH_DATASET / pathlib.Path('results')\n",
    "PATH_RESULTS_PNG = PATH_RESULTS / 'png'\n",
    "PATH_RESULTS_NPY = PATH_RESULTS / 'npy'\n",
    "PATH_RESULTS_CSV = PATH_RESULTS / 'csv'\n",
    "\n",
    "if not(PATH_RESULTS.exists()):\n",
    "    PATH_RESULTS.mkdir()\n",
    "\n",
    "if not(PATH_RESULTS_PNG.exists()):\n",
    "    PATH_RESULTS_PNG.mkdir()\n",
    "\n",
    "if not(PATH_RESULTS_NPY.exists()):\n",
    "    PATH_RESULTS_NPY.mkdir()\n",
    "\n",
    "if not(PATH_RESULTS_PNG.exists()):\n",
    "    PATH_RESULTS_PNG.mkdir()\n",
    "\n",
    "if not(PATH_RESULTS_CSV.exists()):\n",
    "    PATH_RESULTS_CSV.mkdir()"
   ]
  },
  {
   "cell_type": "markdown",
   "metadata": {},
   "source": [
    "## Configuration matplotlib"
   ]
  },
  {
   "cell_type": "code",
   "execution_count": 1,
   "metadata": {},
   "outputs": [],
   "source": [
    "import matplotlib\n",
    "matplotlib.rcParams['figure.facecolor'] = '303030'\n",
    "matplotlib.rcParams['axes.facecolor'] = '303030'\n",
    "matplotlib.rcParams['text.color'] = 'FFFFFF'\n",
    "matplotlib.rcParams['xtick.color'] = 'FFFFFF'\n",
    "matplotlib.rcParams['ytick.color'] = 'FFFFFF'\n",
    "matplotlib.rcParams['axes.labelcolor'] = 'FFFFFF'"
   ]
  },
  {
   "attachments": {},
   "cell_type": "markdown",
   "metadata": {},
   "source": [
    "##  Mumford-Shah for Super-Resolution"
   ]
  },
  {
   "cell_type": "code",
   "execution_count": 2,
   "metadata": {},
   "outputs": [],
   "source": [
    "import numpy\n",
    "import lasp.differential\n",
    "import lasp.utils\n",
    "import lasp.filters.linear\n",
    "import lasp.thresholding\n",
    "\n",
    "import PIL.Image\n",
    "\n",
    "def decimation(image: numpy.ndarray, d: int) -> numpy.ndarray:\n",
    "    if d <= 0:\n",
    "        raise AssertionError('d <= 0')\n",
    "    return numpy.copy(image[0::d, 0::d])\n",
    "\n",
    "def mumford_shah_sr(\n",
    "    img: numpy.ndarray, \n",
    "    h: numpy.ndarray, \n",
    "    alpha: float,\n",
    "    beta0: float,\n",
    "    beta1: float,\n",
    "    sigma: float,\n",
    "    d: int,\n",
    "    nb_iterations: int,\n",
    "    tolerance: float,\n",
    "    error_history: list[float] = None\n",
    ") -> numpy.ndarray:\n",
    "\n",
    "    bicubic_resized = img\n",
    "    \n",
    "    Dx = lasp.differential.dx\n",
    "    Dy = lasp.differential.dy\n",
    "    Dxt = lasp.differential.dxT\n",
    "    Dyt = lasp.differential.dyT\n",
    "\n",
    "    # Build kernel\n",
    "\n",
    "    laplacian = lasp.filters.linear.laplacian()\n",
    "    lap_diag = lasp.utils.fourier_diagonalization(\n",
    "        kernel = laplacian,\n",
    "        shape_out = img.shape \n",
    "    )\n",
    "   \n",
    "    h_diag = lasp.utils.fourier_diagonalization(\n",
    "        kernel = h,\n",
    "        shape_out = img.shape\n",
    "    )\n",
    "\n",
    "    h2_diag = numpy.abs(h_diag)**2\n",
    "\n",
    "\n",
    "    # uker = alpha * h2_diag + (beta+sigma) * lap_diag\n",
    "    # uker = alpha * h2_diag + (1+sigma) * lap_diag\n",
    "\n",
    "    uker = (1/d) * alpha * h2_diag + (2*beta0+sigma) * lap_diag\n",
    "\n",
    "\n",
    "    # print('Bicubic Resized : \\t {}'.format(bicubic_resized.shape))\n",
    "    # print('H Diag : \\t {}'.format(h_diag.shape))\n",
    "    # rhs1fft = alpha * numpy.conj(h_diag) * numpy.fft.fft2(img)\n",
    "    rhs1fft = alpha * h_diag * numpy.fft.fft2(bicubic_resized)\n",
    "\n",
    "    # Initialization\n",
    "    u = numpy.copy(img) \n",
    "    d_x=numpy.zeros_like(img)\n",
    "    d_y=numpy.zeros_like(img)\n",
    "    b_x=numpy.zeros_like(img)\n",
    "    b_y=numpy.zeros_like(img)\n",
    "\n",
    "    for _ in range(0, nb_iterations):\n",
    "\n",
    "        rhs2 = sigma*Dxt(d_x-b_x)+sigma*Dyt(d_y-b_y)\n",
    "        rhsfft = rhs1fft + numpy.fft.fft2(rhs2)\n",
    "\n",
    "        u0=numpy.copy(u)\n",
    "        \n",
    "        u = numpy.real(numpy.fft.ifft2(rhsfft / uker))    \n",
    "\n",
    "        err = numpy.linalg.norm(u-u0, 'fro') / numpy.linalg.norm(u, 'fro')\n",
    "        \n",
    "        if not(error_history is None):\n",
    "            error_history.append(err)\n",
    "\n",
    "        if err < tolerance:\n",
    "            break\n",
    "        \n",
    "        # d_x, d_y = lasp.thresholding.multidimensional_soft(\n",
    "        #     d = numpy.array([ Dx(u)+b_x, Dy(u)+b_y ]),\n",
    "        #     epsilon = 1/sigma\n",
    "        # )\n",
    "\n",
    "        d_x, d_y = lasp.thresholding.multidimensional_soft(\n",
    "            d = numpy.array([ Dx(u)+b_x, Dy(u)+b_y ]),\n",
    "            epsilon = beta1/sigma\n",
    "        )\n",
    "\n",
    "        b_x=b_x+Dx(u)-d_x\n",
    "        b_y=b_y+Dy(u)-d_y\n",
    "\n",
    "    u_normalized = lasp.utils.normalize(u)\n",
    "\n",
    "    return u_normalized"
   ]
  },
  {
   "cell_type": "code",
   "execution_count": null,
   "metadata": {},
   "outputs": [],
   "source": [
    "import lasp.filters.linear\n",
    "import lasp.noise\n",
    "import lasp.io\n",
    "\n",
    "\n",
    "import pathlib\n",
    "\n",
    "import numpy\n",
    "\n",
    "import scipy.signal\n",
    "import scipy.io\n",
    "\n",
    "import matplotlib.pyplot\n",
    "\n",
    "img_original = numpy.array(\n",
    "    matplotlib.pyplot.imread('Boats.bmp'),\n",
    "    dtype=numpy.double\n",
    ")\n",
    "\n",
    "h = lasp.filters.linear.gaussian_filter(size=7, sigma=3)\n",
    "\n",
    "img_blurred = numpy.array(\n",
    "    scipy.signal.convolve2d(img_original, h, mode='same'),\n",
    "    dtype=numpy.double\n",
    ")\n",
    "\n",
    "img_decim = decimation(img_blurred, d=2)\n",
    " \n",
    "img_decim_resized = numpy.array(\n",
    "    PIL.Image.Image.resize(\n",
    "        PIL.Image.fromarray(img_blurred), \n",
    "        (img_blurred.shape[1], img_blurred.shape[0]), \n",
    "        PIL.Image.Resampling.BICUBIC\n",
    "    )\n",
    ")\n",
    "\n",
    "img_noised = lasp.noise.awgn(img_decim_resized, snr=30)\n",
    "# img_noised = img_blurred\n",
    "\n",
    "\n",
    "img = numpy.copy(img_noised)\n",
    "#Img = lasp.noise.awgn(Img_blurred, snr=20)"
   ]
  },
  {
   "cell_type": "code",
   "execution_count": null,
   "metadata": {},
   "outputs": [],
   "source": [
    "path = pathlib.Path('outputs')\n",
    "lasp.io.save(img, path / 'input.png')\n",
    "lasp.io.save(h, path / 'kernel.png')\n",
    "\n",
    "# Save img input and kernel as array for matlab\n",
    "datas_matlab = {}\n",
    "datas_matlab['input'] = img\n",
    "datas_matlab['kernel'] = h\n",
    "scipy.io.savemat(path / 'datas_for_matlab.mat', datas_matlab)"
   ]
  },
  {
   "cell_type": "code",
   "execution_count": null,
   "metadata": {},
   "outputs": [],
   "source": [
    "figure = matplotlib.pyplot.figure(figsize=(20, 20))\n",
    "\n",
    "matplotlib.pyplot.subplot(2, 2, 1)\n",
    "matplotlib.pyplot.axis('off')\n",
    "matplotlib.pyplot.title('Original')\n",
    "_ = matplotlib.pyplot.imshow(img_original, cmap='gray')\n",
    "\n",
    "matplotlib.pyplot.subplot(2, 2, 2)\n",
    "matplotlib.pyplot.axis('off')\n",
    "matplotlib.pyplot.title('Blurred')\n",
    "_ = matplotlib.pyplot.imshow(img_blurred, cmap='gray')\n",
    "\n",
    "matplotlib.pyplot.subplot(2, 2, 3)\n",
    "matplotlib.pyplot.axis('off')\n",
    "matplotlib.pyplot.title('Decimate and Resized')\n",
    "_ = matplotlib.pyplot.imshow(img_decim_resized, cmap='gray')\n",
    "\n",
    "matplotlib.pyplot.subplot(2, 2, 4)\n",
    "matplotlib.pyplot.axis('off')\n",
    "matplotlib.pyplot.title('Noised')\n",
    "_ = matplotlib.pyplot.imshow(img_noised, cmap='gray')"
   ]
  },
  {
   "cell_type": "code",
   "execution_count": null,
   "metadata": {},
   "outputs": [],
   "source": [
    "# img_decim = decimation(Img, 5)\n",
    " \n",
    "# bicubic_resized = numpy.array(\n",
    "#     PIL.Image.Image.resize(\n",
    "#         PIL.Image.fromarray(img_decim), \n",
    "#         (Img.shape[1], Img.shape[0]), \n",
    "#         PIL.Image.Resampling.BICUBIC\n",
    "#     )\n",
    "# )\n",
    "# matplotlib.pyplot.imshow(bicubic_resized, cmap='gray')"
   ]
  },
  {
   "cell_type": "code",
   "execution_count": null,
   "metadata": {},
   "outputs": [],
   "source": [
    "import lasp.utils\n",
    "\n",
    "import numpy\n",
    "import numpy.linalg\n",
    "\n",
    "\n",
    "img_normalized = lasp.utils.normalize(img)\n",
    "errors = []\n",
    "res = mumford_shah_sr(\n",
    "    img=img_normalized,\n",
    "    h=h,\n",
    "    alpha=100,\n",
    "    beta0=1/2,\n",
    "    beta1=1,\n",
    "    sigma=2,\n",
    "    d=2,\n",
    "    nb_iterations=300, \n",
    "    tolerance=10**(-6),\n",
    "    error_history=errors\n",
    ")"
   ]
  },
  {
   "cell_type": "code",
   "execution_count": null,
   "metadata": {},
   "outputs": [],
   "source": [
    "# nb_iter = len(errors)\n",
    "# for i in range(0, nb_iter):\n",
    "#     if i%10 == 0:\n",
    "#         print(\n",
    "#             'Iteration {}'.format(i), \n",
    "#             ':', \n",
    "#             '\\t\\t {}'.format(errors[i])\n",
    "#         )\n",
    "# print('Nb iterations : {}'.format(nb_iter))"
   ]
  },
  {
   "cell_type": "code",
   "execution_count": null,
   "metadata": {},
   "outputs": [],
   "source": [
    "nb_iter = len(errors)\n",
    "x = numpy.arange(0, nb_iter)\n",
    "y = errors\n",
    "matplotlib.pyplot.xlabel(xlabel='Nb iteration')\n",
    "matplotlib.pyplot.ylabel(ylabel='Error')\n",
    "matplotlib.pyplot.title('Errors history')\n",
    "_ = matplotlib.pyplot.plot(x[0:20], y[0:20])\n",
    "_ = matplotlib.pyplot.plot(x[0:20], y[0:20], 'or')"
   ]
  },
  {
   "cell_type": "code",
   "execution_count": null,
   "metadata": {},
   "outputs": [],
   "source": [
    "import lasp.io\n",
    "\n",
    "figure = matplotlib.pyplot.figure(figsize=(20, 20))\n",
    "\n",
    "matplotlib.pyplot.subplot(1, 2, 1)\n",
    "matplotlib.pyplot.imshow(img, cmap='gray')\n",
    "\n",
    "matplotlib.pyplot.subplot(1, 2, 2)\n",
    "matplotlib.pyplot.imshow(numpy.real(res), cmap='gray')\n",
    "\n",
    "lasp.io.save(res, path / 'output.png')"
   ]
  },
  {
   "cell_type": "code",
   "execution_count": null,
   "metadata": {},
   "outputs": [],
   "source": [
    "# import scipy.io.matlab\n",
    "# import numpy\n",
    "# a = scipy.io.matlab.loadmat('uu.mat')\n",
    "# mat_res = numpy.array(numpy.array(a['uu']), dtype=numpy.double) \n",
    "# matplotlib.pyplot.imshow(mat_res, cmap='gray')\n",
    "# print(numpy.max(numpy.abs(mat_res-res)))"
   ]
  },
  {
   "cell_type": "code",
   "execution_count": null,
   "metadata": {},
   "outputs": [],
   "source": [
    "# diff = numpy.abs(mat_res-res)\n",
    "# print(numpy.max(diff))\n",
    "# diff[1e-6 < diff].shape"
   ]
  },
  {
   "cell_type": "code",
   "execution_count": null,
   "metadata": {},
   "outputs": [],
   "source": [
    "# _ = matplotlib.pyplot.imshow(numpy.abs(mat_res-res), cmap='gray')"
   ]
  },
  {
   "cell_type": "code",
   "execution_count": 30,
   "metadata": {},
   "outputs": [
    {
     "data": {
      "text/html": [
       "<div>\n",
       "<style scoped>\n",
       "    .dataframe tbody tr th:only-of-type {\n",
       "        vertical-align: middle;\n",
       "    }\n",
       "\n",
       "    .dataframe tbody tr th {\n",
       "        vertical-align: top;\n",
       "    }\n",
       "\n",
       "    .dataframe thead th {\n",
       "        text-align: right;\n",
       "    }\n",
       "</style>\n",
       "<table border=\"1\" class=\"dataframe\">\n",
       "  <thead>\n",
       "    <tr style=\"text-align: right;\">\n",
       "      <th></th>\n",
       "      <th>image</th>\n",
       "      <th>alpha</th>\n",
       "      <th>beta</th>\n",
       "      <th>sigma</th>\n",
       "      <th>tol</th>\n",
       "      <th>iterations</th>\n",
       "      <th>blur</th>\n",
       "      <th>noise</th>\n",
       "    </tr>\n",
       "  </thead>\n",
       "  <tbody>\n",
       "    <tr>\n",
       "      <th>0</th>\n",
       "      <td>dataset_1</td>\n",
       "      <td>100</td>\n",
       "      <td>1</td>\n",
       "      <td>2</td>\n",
       "      <td>0.0001</td>\n",
       "      <td>300</td>\n",
       "      <td>(3, 3)</td>\n",
       "      <td>None</td>\n",
       "    </tr>\n",
       "  </tbody>\n",
       "</table>\n",
       "</div>"
      ],
      "text/plain": [
       "       image  alpha  beta  sigma     tol  iterations    blur noise\n",
       "0  dataset_1    100     1      2  0.0001         300  (3, 3)  None"
      ]
     },
     "execution_count": 30,
     "metadata": {},
     "output_type": "execute_result"
    }
   ],
   "source": [
    "\n",
    "\n"
   ]
  },
  {
   "cell_type": "code",
   "execution_count": 31,
   "metadata": {},
   "outputs": [],
   "source": []
  },
  {
   "cell_type": "code",
   "execution_count": 32,
   "metadata": {},
   "outputs": [
    {
     "name": "stdout",
     "output_type": "stream",
     "text": [
      "3\n"
     ]
    },
    {
     "data": {
      "text/html": [
       "<div>\n",
       "<style scoped>\n",
       "    .dataframe tbody tr th:only-of-type {\n",
       "        vertical-align: middle;\n",
       "    }\n",
       "\n",
       "    .dataframe tbody tr th {\n",
       "        vertical-align: top;\n",
       "    }\n",
       "\n",
       "    .dataframe thead th {\n",
       "        text-align: right;\n",
       "    }\n",
       "</style>\n",
       "<table border=\"1\" class=\"dataframe\">\n",
       "  <thead>\n",
       "    <tr style=\"text-align: right;\">\n",
       "      <th></th>\n",
       "      <th>image</th>\n",
       "      <th>alpha</th>\n",
       "      <th>beta</th>\n",
       "      <th>sigma</th>\n",
       "      <th>tol</th>\n",
       "      <th>iterations</th>\n",
       "      <th>blur</th>\n",
       "      <th>noise</th>\n",
       "    </tr>\n",
       "  </thead>\n",
       "  <tbody>\n",
       "    <tr>\n",
       "      <th>0</th>\n",
       "      <td>dataset_1</td>\n",
       "      <td>100</td>\n",
       "      <td>1</td>\n",
       "      <td>2</td>\n",
       "      <td>0.0001</td>\n",
       "      <td>300</td>\n",
       "      <td>(3, 3)</td>\n",
       "      <td>None</td>\n",
       "    </tr>\n",
       "  </tbody>\n",
       "</table>\n",
       "</div>"
      ],
      "text/plain": [
       "       image  alpha  beta  sigma     tol  iterations    blur noise\n",
       "0  dataset_1    100     1      2  0.0001         300  (3, 3)  None"
      ]
     },
     "execution_count": 32,
     "metadata": {},
     "output_type": "execute_result"
    }
   ],
   "source": [
    "\n"
   ]
  },
  {
   "cell_type": "code",
   "execution_count": 39,
   "metadata": {},
   "outputs": [
    {
     "data": {
      "text/plain": [
       "100"
      ]
     },
     "execution_count": 39,
     "metadata": {},
     "output_type": "execute_result"
    }
   ],
   "source": []
  },
  {
   "cell_type": "code",
   "execution_count": null,
   "metadata": {},
   "outputs": [],
   "source": []
  }
 ],
 "metadata": {
  "kernelspec": {
   "display_name": "Python 3.10.9 64-bit",
   "language": "python",
   "name": "python3"
  },
  "language_info": {
   "codemirror_mode": {
    "name": "ipython",
    "version": 3
   },
   "file_extension": ".py",
   "mimetype": "text/x-python",
   "name": "python",
   "nbconvert_exporter": "python",
   "pygments_lexer": "ipython3",
   "version": "3.10.9"
  },
  "orig_nbformat": 4,
  "vscode": {
   "interpreter": {
    "hash": "ed1c4bfab4690d67806cf533d12ae48a212eb9cbd358ee70c751e08b3ad01a48"
   }
  }
 },
 "nbformat": 4,
 "nbformat_minor": 2
}
