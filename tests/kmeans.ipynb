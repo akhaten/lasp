{
 "cells": [
  {
   "cell_type": "code",
   "execution_count": 61,
   "metadata": {},
   "outputs": [],
   "source": [
    "import typing\n",
    "import numpy\n",
    "import numpy.random\n",
    "\n",
    "T = typing.TypeVar(name='T')\n",
    "\n",
    "        \n",
    "class KMeans:\n",
    "\n",
    "    \n",
    "    def __init__(self, k: int) -> None:\n",
    "        # Number of class\n",
    "        self.k = k\n",
    "        # Sum of elements in clusters\n",
    "        self.__cluster_acc = numpy.empty(shape=k)\n",
    "        # Number of elements in clusters\n",
    "        self.__cluster_length = numpy.zeros(shape=k)\n",
    "        # Indices of element in clusters\n",
    "        # self.__cluster_indices = numpy.empty(shape=k, dtype=list)\n",
    "        self.__cluster_indices = { i : [] for i in range(0, k) }\n",
    "        \n",
    "    \n",
    "    def cluster(self, i: int) -> numpy.ndarray:\n",
    "        return numpy.array(self.__cluster_indices[i])\n",
    "    \n",
    "    \n",
    "    def centroid(self, i: int) -> T:\n",
    "        return self.__cluster_acc[i] / self.__cluster_length[i]\n",
    "    \n",
    "    \n",
    "    def centroids(self) -> numpy.ndarray:\n",
    "        return self.__cluster_acc / self.__cluster_length\n",
    "    \n",
    "        \n",
    "    def fit(self, \n",
    "        objs: numpy.ndarray, \n",
    "        f_similarity: typing.Callable[[T, T], float]#,\n",
    "        # centroid_indices: typing.Optional[numpy.ndarray] = None\n",
    "    ) -> None:\n",
    "        \n",
    "        N = objs.shape[0]\n",
    "        objs_idx = numpy.arange(start=0, stop=N, step=1)\n",
    "        numpy.random.shuffle(objs_idx)\n",
    "        \n",
    "        # Initialize centroids\n",
    "        idx_centroid = objs_idx[:self.k]\n",
    "        for i in range(0, self.k):\n",
    "            self.__cluster_acc[i] = objs[idx_centroid[i]].copy()\n",
    "            self.__cluster_indices[i].append(idx_centroid[i])\n",
    "            self.__cluster_length[i] += 1\n",
    "            \n",
    "        # Class element into clusters:\n",
    "        for i in range(self.k, N):\n",
    "            \n",
    "            current_idx = objs_idx[i]\n",
    "            current = objs[current_idx]\n",
    "            cluster_idx = self.argmin_cluster(current, f_similarity)\n",
    "            \n",
    "            self.__cluster_acc[cluster_idx] += objs[current_idx]\n",
    "            self.__cluster_indices[cluster_idx].append(current_idx)\n",
    "            self.__cluster_length[cluster_idx] += 1\n",
    "    \n",
    "        \n",
    "    def argmin_cluster(self, \n",
    "        obj: T, \n",
    "        f_similarity: typing.Callable[[T, T | numpy.ndarray], float]\n",
    "    ) -> int:\n",
    "        return numpy.argmin(f_similarity(obj, self.centroids()))"
   ]
  },
  {
   "cell_type": "code",
   "execution_count": 62,
   "metadata": {},
   "outputs": [
    {
     "name": "stdout",
     "output_type": "stream",
     "text": [
      "cluster 0 : [1 2 5 4 6 9 0 3 7 8]\n",
      "cluster 1 : [10 19 18 13 11 17 14 12 16 15]\n"
     ]
    }
   ],
   "source": [
    "kmeans = KMeans(k=2)\n",
    "\n",
    "objs = numpy.arange(0, 20)\n",
    "def f_similarity(a, b) -> float:\n",
    "    return abs(a-b)\n",
    "\n",
    "kmeans.fit(objs, f_similarity)\n",
    "\n",
    "for i in range(0, 2):\n",
    "    print('cluster {} : {}'.format(i, kmeans.cluster(i)))"
   ]
  },
  {
   "cell_type": "code",
   "execution_count": 48,
   "metadata": {},
   "outputs": [
    {
     "data": {
      "text/plain": [
       "0"
      ]
     },
     "execution_count": 48,
     "metadata": {},
     "output_type": "execute_result"
    }
   ],
   "source": [
    "objs = numpy.array([0, 1])\n",
    "objs[0].copy()"
   ]
  },
  {
   "cell_type": "code",
   "execution_count": 7,
   "metadata": {},
   "outputs": [
    {
     "data": {
      "text/plain": [
       "(array([array([0., 0.]), None], dtype=object), array([0., 0.]))"
      ]
     },
     "execution_count": 7,
     "metadata": {},
     "output_type": "execute_result"
    }
   ],
   "source": [
    "a = numpy.empty(shape=2, dtype=numpy.ndarray)\n",
    "b = numpy.zeros(shape=2)\n",
    "a[0] = b.copy()\n",
    "a, b"
   ]
  },
  {
   "cell_type": "code",
   "execution_count": 8,
   "metadata": {},
   "outputs": [
    {
     "data": {
      "text/plain": [
       "(array([array([1., 1.]), None], dtype=object), array([0., 0.]))"
      ]
     },
     "execution_count": 8,
     "metadata": {},
     "output_type": "execute_result"
    }
   ],
   "source": [
    "a[0] += 1\n",
    "a, b"
   ]
  },
  {
   "cell_type": "code",
   "execution_count": 9,
   "metadata": {},
   "outputs": [
    {
     "data": {
      "text/plain": [
       "array(1)"
      ]
     },
     "execution_count": 9,
     "metadata": {},
     "output_type": "execute_result"
    }
   ],
   "source": [
    "numpy.copy(1)"
   ]
  },
  {
   "cell_type": "code",
   "execution_count": 23,
   "metadata": {},
   "outputs": [
    {
     "data": {
      "text/plain": [
       "array([1, 1, 1])"
      ]
     },
     "execution_count": 23,
     "metadata": {},
     "output_type": "execute_result"
    }
   ],
   "source": [
    "lists = numpy.full(shape=3, fill_value=1)\n",
    "lists"
   ]
  },
  {
   "cell_type": "code",
   "execution_count": null,
   "metadata": {},
   "outputs": [],
   "source": []
  }
 ],
 "metadata": {
  "kernelspec": {
   "display_name": "Python 3",
   "language": "python",
   "name": "python3"
  },
  "language_info": {
   "codemirror_mode": {
    "name": "ipython",
    "version": 3
   },
   "file_extension": ".py",
   "mimetype": "text/x-python",
   "name": "python",
   "nbconvert_exporter": "python",
   "pygments_lexer": "ipython3",
   "version": "3.10.13"
  },
  "orig_nbformat": 4
 },
 "nbformat": 4,
 "nbformat_minor": 2
}
