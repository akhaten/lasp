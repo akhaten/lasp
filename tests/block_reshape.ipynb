{
 "cells": [
  {
   "cell_type": "code",
   "execution_count": 1,
   "metadata": {},
   "outputs": [],
   "source": [
    "import numpy"
   ]
  },
  {
   "cell_type": "code",
   "execution_count": 206,
   "metadata": {},
   "outputs": [],
   "source": [
    "def blockproc_reshape_v1(\n",
    "    array: numpy.ndarray,\n",
    "    block_size: numpy.ndarray,\n",
    "    order: str\n",
    ") -> numpy.ndarray:\n",
    "\n",
    "    nb_rows, nb_cols = array.shape\n",
    "    res = None\n",
    "\n",
    "    step_r, step_c = block_size\n",
    "\n",
    "    for j in range(0, nb_cols, step_c):\n",
    "\n",
    "        column = None\n",
    "        \n",
    "        for i in range(0, nb_rows, step_r):\n",
    "            \n",
    "            bloc = numpy.reshape(\n",
    "                array[i:i+step_r, j:j+step_c], \n",
    "                (step_r*step_c, 1),\n",
    "                order=order\n",
    "            )\n",
    "            if column is None:\n",
    "                column = numpy.copy(bloc)\n",
    "            else:\n",
    "                column = numpy.vstack([ column, bloc ])\n",
    "\n",
    "        if res is None:\n",
    "            res = numpy.copy(column)\n",
    "        else:\n",
    "            res = numpy.hstack([ res, column ])\n",
    "\n",
    "    return res\n",
    "\n",
    "def blockproc_reshape_v2(\n",
    "    array: numpy.ndarray,\n",
    "    block_size: numpy.ndarray,\n",
    "    order: str\n",
    ") -> numpy.ndarray:\n",
    "\n",
    "    nb_rows, nb_cols = array.shape\n",
    "    step_r, step_c = block_size\n",
    "    res = numpy.empty(shape = (nb_rows // step_r, nb_cols // step_c), dtype=numpy.ndarray)\n",
    "\n",
    "    for i in range(0, res.shape[0]):\n",
    "        for j in range(0, res.shape[1]):\n",
    "     \n",
    "            res[i, j] = numpy.reshape(\n",
    "                array[\n",
    "                    i*step_r:(i+1)*step_r, \n",
    "                    j*step_c:(j+1)*step_c\n",
    "                ], \n",
    "                (step_r*step_c, 1),\n",
    "                order=order\n",
    "            )\n",
    "\n",
    "    return numpy.hstack([ numpy.vstack(res[:, j]) for j in range(0, res.shape[1])])\n",
    "\n",
    "def blockproc_reshape_v3(\n",
    "    array: numpy.ndarray,\n",
    "    block_size: numpy.ndarray,\n",
    "    order: str\n",
    ") -> numpy.ndarray:\n",
    "\n",
    "    nb_rows, nb_cols = array.shape\n",
    "    step_r, step_c = block_size\n",
    "    res = numpy.empty(shape = (nb_rows // step_r, nb_cols // step_c), dtype=numpy.ndarray)\n",
    "\n",
    "    for i in range(0, res.shape[0]):\n",
    "        for j in range(0, res.shape[1]):\n",
    "     \n",
    "            res[i, j] = numpy.reshape(\n",
    "                array[\n",
    "                    i*step_r:(i+1)*step_r, \n",
    "                    j*step_c:(j+1)*step_c\n",
    "                ], \n",
    "                (step_r*step_c, 1),\n",
    "                order=order\n",
    "            )\n",
    "\n",
    "    out = numpy.zeros(shape=(step_r*step_c*res.shape[0], res.shape[1]))\n",
    "    for i in range(0, res.shape[0]):\n",
    "        for j in range(0, res.shape[1]):\n",
    "            for k in range(0, step_r*step_c):\n",
    "                out[i*(step_r*step_c)+k, j] = res[i, j][k]\n",
    "\n",
    "    return out\n",
    "\n",
    "\n",
    "def blockproc_reshape3D(\n",
    "    array: numpy.ndarray,\n",
    "    block_size: numpy.ndarray,\n",
    "    order: str\n",
    ") -> numpy.ndarray:\n",
    "\n",
    "    nb1, nb2, nb3 = array.shape\n",
    "    step1, step2, step3 = block_size\n",
    "    res = numpy.empty(\n",
    "        shape = [\n",
    "            nb1 // step1, \n",
    "            nb2 // step2,\n",
    "            nb3 // step3,\n",
    "        ], \n",
    "        dtype=numpy.ndarray\n",
    "    )\n",
    "\n",
    "    for i in range(0, res.shape[0]):\n",
    "        for j in range(0, res.shape[1]):\n",
    "            for k in range(0, res.shape[2]):\n",
    "\n",
    "                res[i, j, k] = numpy.reshape(\n",
    "                    array[\n",
    "                        i*step1:(i+1)*step1, \n",
    "                        j*step2:(j+1)*step2,\n",
    "                        k*step3:(k+1)*step3\n",
    "                    ], \n",
    "                    (step1*step2*step3, 1),\n",
    "                    order=order\n",
    "                )\n",
    "\n",
    "    out = numpy.zeros(shape=(step1*step2*step3*res.shape[0], res.shape[1], res.shape[2]))\n",
    "    for i in range(0, res.shape[0]):\n",
    "        for j in range(0, res.shape[1]):\n",
    "            for k in range(0, res.shape[2]):\n",
    "                for l in range(0, step1*step2*step3):\n",
    "                    out[i*(step1*step2*step3)+l, j, k] = res[i, j, k][l]\n",
    "\n",
    "    return out\n",
    "\n",
    "   "
   ]
  },
  {
   "cell_type": "code",
   "execution_count": 207,
   "metadata": {},
   "outputs": [
    {
     "data": {
      "text/plain": [
       "array([[ 0,  1,  2,  3],\n",
       "       [ 4,  5,  6,  7],\n",
       "       [ 8,  9, 10, 11],\n",
       "       [12, 13, 14, 15]])"
      ]
     },
     "execution_count": 207,
     "metadata": {},
     "output_type": "execute_result"
    }
   ],
   "source": [
    "mat4x4 = numpy.reshape(numpy.arange(0, 16), newshape=(4, 4))\n",
    "mat4x4"
   ]
  },
  {
   "cell_type": "code",
   "execution_count": 208,
   "metadata": {},
   "outputs": [
    {
     "data": {
      "text/plain": [
       "array([[ 0,  2],\n",
       "       [ 4,  6],\n",
       "       [ 1,  3],\n",
       "       [ 5,  7],\n",
       "       [ 8, 10],\n",
       "       [12, 14],\n",
       "       [ 9, 11],\n",
       "       [13, 15]])"
      ]
     },
     "execution_count": 208,
     "metadata": {},
     "output_type": "execute_result"
    }
   ],
   "source": [
    "blockproc_reshape_v1(mat4x4, block_size=(2, 2), order='F')"
   ]
  },
  {
   "cell_type": "code",
   "execution_count": 209,
   "metadata": {},
   "outputs": [
    {
     "data": {
      "text/plain": [
       "array([[ 0,  2],\n",
       "       [ 4,  6],\n",
       "       [ 1,  3],\n",
       "       [ 5,  7],\n",
       "       [ 8, 10],\n",
       "       [12, 14],\n",
       "       [ 9, 11],\n",
       "       [13, 15]])"
      ]
     },
     "execution_count": 209,
     "metadata": {},
     "output_type": "execute_result"
    }
   ],
   "source": [
    "blockproc_reshape_v2(mat4x4, block_size=(2, 2), order='F')"
   ]
  },
  {
   "cell_type": "code",
   "execution_count": 210,
   "metadata": {},
   "outputs": [
    {
     "data": {
      "text/plain": [
       "array([[ 0.,  2.],\n",
       "       [ 4.,  6.],\n",
       "       [ 1.,  3.],\n",
       "       [ 5.,  7.],\n",
       "       [ 8., 10.],\n",
       "       [12., 14.],\n",
       "       [ 9., 11.],\n",
       "       [13., 15.]])"
      ]
     },
     "execution_count": 210,
     "metadata": {},
     "output_type": "execute_result"
    }
   ],
   "source": [
    "blockproc_reshape_v3(mat4x4, block_size=(2, 2), order='F')"
   ]
  },
  {
   "cell_type": "code",
   "execution_count": 199,
   "metadata": {},
   "outputs": [
    {
     "data": {
      "text/plain": [
       "array([[[ 0,  1,  2,  3],\n",
       "        [ 4,  5,  6,  7],\n",
       "        [ 8,  9, 10, 11],\n",
       "        [12, 13, 14, 15]],\n",
       "\n",
       "       [[16, 17, 18, 19],\n",
       "        [20, 21, 22, 23],\n",
       "        [24, 25, 26, 27],\n",
       "        [28, 29, 30, 31]],\n",
       "\n",
       "       [[32, 33, 34, 35],\n",
       "        [36, 37, 38, 39],\n",
       "        [40, 41, 42, 43],\n",
       "        [44, 45, 46, 47]],\n",
       "\n",
       "       [[48, 49, 50, 51],\n",
       "        [52, 53, 54, 55],\n",
       "        [56, 57, 58, 59],\n",
       "        [60, 61, 62, 63]]])"
      ]
     },
     "execution_count": 199,
     "metadata": {},
     "output_type": "execute_result"
    }
   ],
   "source": [
    "mat4x4x4 = numpy.reshape(numpy.arange(0, 4**3), newshape=(4, 4, 4))\n",
    "mat4x4x4"
   ]
  },
  {
   "cell_type": "code",
   "execution_count": 211,
   "metadata": {},
   "outputs": [
    {
     "data": {
      "text/plain": [
       "array([[ 0.,  2.],\n",
       "       [ 8., 10.]])"
      ]
     },
     "execution_count": 211,
     "metadata": {},
     "output_type": "execute_result"
    }
   ],
   "source": [
    "r = blockproc_reshape3D(mat4x4x4,  block_size=(2, 2, 2), order='F')\n",
    "r[0]"
   ]
  },
  {
   "cell_type": "code",
   "execution_count": 212,
   "metadata": {},
   "outputs": [
    {
     "data": {
      "text/plain": [
       "(16, 2, 2)"
      ]
     },
     "execution_count": 212,
     "metadata": {},
     "output_type": "execute_result"
    }
   ],
   "source": [
    "r.shape"
   ]
  },
  {
   "cell_type": "code",
   "execution_count": 213,
   "metadata": {},
   "outputs": [
    {
     "data": {
      "text/plain": [
       "array([[ 0., 32.,  8., 40.,  2., 34., 10., 42.],\n",
       "       [16., 48., 24., 56., 18., 50., 26., 58.],\n",
       "       [ 4., 36., 12., 44.,  6., 38., 14., 46.],\n",
       "       [20., 52., 28., 60., 22., 54., 30., 62.],\n",
       "       [ 1., 33.,  9., 41.,  3., 35., 11., 43.],\n",
       "       [17., 49., 25., 57., 19., 51., 27., 59.],\n",
       "       [ 5., 37., 13., 45.,  7., 39., 15., 47.],\n",
       "       [21., 53., 29., 61., 23., 55., 31., 63.]])"
      ]
     },
     "execution_count": 213,
     "metadata": {},
     "output_type": "execute_result"
    }
   ],
   "source": [
    "x1 = numpy.reshape(r, newshape=(2**3, 8), order='F')\n",
    "x1"
   ]
  },
  {
   "cell_type": "code",
   "execution_count": 214,
   "metadata": {},
   "outputs": [
    {
     "data": {
      "text/plain": [
       "array([168., 296., 200., 328., 176., 304., 208., 336.])"
      ]
     },
     "execution_count": 214,
     "metadata": {},
     "output_type": "execute_result"
    }
   ],
   "source": [
    "x1 = numpy.sum(x1, axis=1)\n",
    "x1"
   ]
  },
  {
   "cell_type": "code",
   "execution_count": 215,
   "metadata": {},
   "outputs": [
    {
     "data": {
      "text/plain": [
       "array([[[168., 176.],\n",
       "        [200., 208.]],\n",
       "\n",
       "       [[296., 304.],\n",
       "        [328., 336.]]])"
      ]
     },
     "execution_count": 215,
     "metadata": {},
     "output_type": "execute_result"
    }
   ],
   "source": [
    "x = numpy.reshape(x1, newshape=(2, 2, 2), order='F')\n",
    "x"
   ]
  },
  {
   "cell_type": "code",
   "execution_count": 216,
   "metadata": {},
   "outputs": [
    {
     "data": {
      "text/plain": [
       "(2, 2, 2)"
      ]
     },
     "execution_count": 216,
     "metadata": {},
     "output_type": "execute_result"
    }
   ],
   "source": [
    "x.shape"
   ]
  },
  {
   "cell_type": "code",
   "execution_count": null,
   "metadata": {},
   "outputs": [],
   "source": []
  }
 ],
 "metadata": {
  "kernelspec": {
   "display_name": "Python 3",
   "language": "python",
   "name": "python3"
  },
  "language_info": {
   "codemirror_mode": {
    "name": "ipython",
    "version": 3
   },
   "file_extension": ".py",
   "mimetype": "text/x-python",
   "name": "python",
   "nbconvert_exporter": "python",
   "pygments_lexer": "ipython3",
   "version": "3.10.12"
  },
  "orig_nbformat": 4
 },
 "nbformat": 4,
 "nbformat_minor": 2
}
