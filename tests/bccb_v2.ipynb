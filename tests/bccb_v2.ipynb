{
 "cells": [
  {
   "cell_type": "code",
   "execution_count": 109,
   "metadata": {},
   "outputs": [],
   "source": [
    "import sys\n",
    "sys.path.append('..')"
   ]
  },
  {
   "cell_type": "code",
   "execution_count": 110,
   "metadata": {},
   "outputs": [],
   "source": [
    "import numpy"
   ]
  },
  {
   "cell_type": "code",
   "execution_count": 111,
   "metadata": {},
   "outputs": [
    {
     "data": {
      "text/plain": [
       "array([[11, 12, 13, 14, 15],\n",
       "       [21, 22, 23, 24, 25],\n",
       "       [31, 32, 33, 34, 35],\n",
       "       [41, 42, 43, 44, 45],\n",
       "       [51, 52, 53, 54, 55]])"
      ]
     },
     "execution_count": 111,
     "metadata": {},
     "output_type": "execute_result"
    }
   ],
   "source": [
    "# p = numpy.array(\n",
    "#     [\n",
    "#         [11, 12, 13],\n",
    "#         [21, 22, 23],\n",
    "#         [31, 32, 33],\n",
    "#     ]\n",
    "# )\n",
    "\n",
    "\n",
    "p = numpy.array(\n",
    "    [\n",
    "        [11, 12, 13, 14, 15],\n",
    "        [21, 22, 23, 24, 25],\n",
    "        [31, 32, 33, 34, 35],\n",
    "        [41, 42, 43, 44, 45],\n",
    "        [51, 52, 53, 54, 55],\n",
    "    ]\n",
    ")\n",
    "p"
   ]
  },
  {
   "cell_type": "code",
   "execution_count": 112,
   "metadata": {},
   "outputs": [
    {
     "name": "stdout",
     "output_type": "stream",
     "text": [
      "[[33 34 35 31 32]\n",
      " [43 44 45 41 42]\n",
      " [53 54 55 51 52]\n",
      " [13 14 15 11 12]\n",
      " [23 24 25 21 22]]\n"
     ]
    }
   ],
   "source": [
    "import lasp.utils\n",
    "# p_shifted = lasp.utils.pad_circshift_center(p, p.shape)\n",
    "center = numpy.array(p.shape) // 2\n",
    "p_shifted = numpy.roll(p, -center, [0, 1])\n",
    "print(p_shifted)"
   ]
  },
  {
   "cell_type": "code",
   "execution_count": 113,
   "metadata": {},
   "outputs": [],
   "source": [
    "def make_bccb(p: numpy.ndarray) -> numpy.ndarray :\n",
    "    \n",
    "    N, M = p.shape\n",
    "    \n",
    "    dim = numpy.prod(numpy.array(p.shape))\n",
    "    p_cpy = numpy.copy(p)\n",
    "    \n",
    "    p1 = numpy.reshape(p_cpy.T, newshape=dim)\n",
    "    P = numpy.zeros(shape=(dim, dim))\n",
    "    P[:, 0] = p1\n",
    "\n",
    "    # print(\"First Boucle\")\n",
    "    # print(P)\n",
    "    for j in range(1, M):\n",
    "        for i in range(0, M*N, N):\n",
    "            P[i:i+N, j] = numpy.roll(P[i:i+N, j-1], 1)\n",
    "            # print(P)\n",
    "\n",
    "    # print(\"Second Boucle\")\n",
    "    for j in range(1, M):\n",
    "        P[:, N*j: N*j+N] = numpy.roll(P[:, N*(j-1): N*(j-1)+N], (N, 0), (0, 1))\n",
    "        # print(P)\n",
    "\n",
    "\n",
    "    return P"
   ]
  },
  {
   "cell_type": "code",
   "execution_count": 114,
   "metadata": {},
   "outputs": [
    {
     "name": "stdout",
     "output_type": "stream",
     "text": [
      "[[33. 23. 13. 53. 43. 32. 22. 12. 52. 42. 31. 21. 11. 51. 41. 35. 25. 15.\n",
      "  55. 45. 34. 24. 14. 54. 44.]\n",
      " [43. 33. 23. 13. 53. 42. 32. 22. 12. 52. 41. 31. 21. 11. 51. 45. 35. 25.\n",
      "  15. 55. 44. 34. 24. 14. 54.]\n",
      " [53. 43. 33. 23. 13. 52. 42. 32. 22. 12. 51. 41. 31. 21. 11. 55. 45. 35.\n",
      "  25. 15. 54. 44. 34. 24. 14.]\n",
      " [13. 53. 43. 33. 23. 12. 52. 42. 32. 22. 11. 51. 41. 31. 21. 15. 55. 45.\n",
      "  35. 25. 14. 54. 44. 34. 24.]\n",
      " [23. 13. 53. 43. 33. 22. 12. 52. 42. 32. 21. 11. 51. 41. 31. 25. 15. 55.\n",
      "  45. 35. 24. 14. 54. 44. 34.]\n",
      " [34. 24. 14. 54. 44. 33. 23. 13. 53. 43. 32. 22. 12. 52. 42. 31. 21. 11.\n",
      "  51. 41. 35. 25. 15. 55. 45.]\n",
      " [44. 34. 24. 14. 54. 43. 33. 23. 13. 53. 42. 32. 22. 12. 52. 41. 31. 21.\n",
      "  11. 51. 45. 35. 25. 15. 55.]\n",
      " [54. 44. 34. 24. 14. 53. 43. 33. 23. 13. 52. 42. 32. 22. 12. 51. 41. 31.\n",
      "  21. 11. 55. 45. 35. 25. 15.]\n",
      " [14. 54. 44. 34. 24. 13. 53. 43. 33. 23. 12. 52. 42. 32. 22. 11. 51. 41.\n",
      "  31. 21. 15. 55. 45. 35. 25.]\n",
      " [24. 14. 54. 44. 34. 23. 13. 53. 43. 33. 22. 12. 52. 42. 32. 21. 11. 51.\n",
      "  41. 31. 25. 15. 55. 45. 35.]\n",
      " [35. 25. 15. 55. 45. 34. 24. 14. 54. 44. 33. 23. 13. 53. 43. 32. 22. 12.\n",
      "  52. 42. 31. 21. 11. 51. 41.]\n",
      " [45. 35. 25. 15. 55. 44. 34. 24. 14. 54. 43. 33. 23. 13. 53. 42. 32. 22.\n",
      "  12. 52. 41. 31. 21. 11. 51.]\n",
      " [55. 45. 35. 25. 15. 54. 44. 34. 24. 14. 53. 43. 33. 23. 13. 52. 42. 32.\n",
      "  22. 12. 51. 41. 31. 21. 11.]\n",
      " [15. 55. 45. 35. 25. 14. 54. 44. 34. 24. 13. 53. 43. 33. 23. 12. 52. 42.\n",
      "  32. 22. 11. 51. 41. 31. 21.]\n",
      " [25. 15. 55. 45. 35. 24. 14. 54. 44. 34. 23. 13. 53. 43. 33. 22. 12. 52.\n",
      "  42. 32. 21. 11. 51. 41. 31.]\n",
      " [31. 21. 11. 51. 41. 35. 25. 15. 55. 45. 34. 24. 14. 54. 44. 33. 23. 13.\n",
      "  53. 43. 32. 22. 12. 52. 42.]\n",
      " [41. 31. 21. 11. 51. 45. 35. 25. 15. 55. 44. 34. 24. 14. 54. 43. 33. 23.\n",
      "  13. 53. 42. 32. 22. 12. 52.]\n",
      " [51. 41. 31. 21. 11. 55. 45. 35. 25. 15. 54. 44. 34. 24. 14. 53. 43. 33.\n",
      "  23. 13. 52. 42. 32. 22. 12.]\n",
      " [11. 51. 41. 31. 21. 15. 55. 45. 35. 25. 14. 54. 44. 34. 24. 13. 53. 43.\n",
      "  33. 23. 12. 52. 42. 32. 22.]\n",
      " [21. 11. 51. 41. 31. 25. 15. 55. 45. 35. 24. 14. 54. 44. 34. 23. 13. 53.\n",
      "  43. 33. 22. 12. 52. 42. 32.]\n",
      " [32. 22. 12. 52. 42. 31. 21. 11. 51. 41. 35. 25. 15. 55. 45. 34. 24. 14.\n",
      "  54. 44. 33. 23. 13. 53. 43.]\n",
      " [42. 32. 22. 12. 52. 41. 31. 21. 11. 51. 45. 35. 25. 15. 55. 44. 34. 24.\n",
      "  14. 54. 43. 33. 23. 13. 53.]\n",
      " [52. 42. 32. 22. 12. 51. 41. 31. 21. 11. 55. 45. 35. 25. 15. 54. 44. 34.\n",
      "  24. 14. 53. 43. 33. 23. 13.]\n",
      " [12. 52. 42. 32. 22. 11. 51. 41. 31. 21. 15. 55. 45. 35. 25. 14. 54. 44.\n",
      "  34. 24. 13. 53. 43. 33. 23.]\n",
      " [22. 12. 52. 42. 32. 21. 11. 51. 41. 31. 25. 15. 55. 45. 35. 24. 14. 54.\n",
      "  44. 34. 23. 13. 53. 43. 33.]]\n"
     ]
    }
   ],
   "source": [
    "bccb = make_bccb(p_shifted)\n",
    "print(bccb)\n"
   ]
  },
  {
   "cell_type": "code",
   "execution_count": 115,
   "metadata": {},
   "outputs": [
    {
     "name": "stdout",
     "output_type": "stream",
     "text": [
      "[[11. 21. 31. 41. 51.]\n",
      " [12. 22. 32. 42. 52.]\n",
      " [13. 23. 33. 43. 53.]\n",
      " [14. 24. 34. 44. 54.]\n",
      " [15. 25. 35. 45. 55.]]\n"
     ]
    }
   ],
   "source": [
    "bccb_col = bccb[:, 0]\n",
    "reshaped = bccb_col.reshape(p.shape)\n",
    "# print(reshaped)\n",
    "print(numpy.roll(reshaped, center, [0, 1]))"
   ]
  },
  {
   "cell_type": "code",
   "execution_count": 116,
   "metadata": {},
   "outputs": [
    {
     "name": "stdout",
     "output_type": "stream",
     "text": [
      "[[55. 45. 35. 25. 15.]\n",
      " [54. 44. 34. 24. 14.]\n",
      " [53. 43. 33. 23. 13.]\n",
      " [52. 42. 32. 22. 12.]\n",
      " [51. 41. 31. 21. 11.]]\n"
     ]
    }
   ],
   "source": [
    "bccb_col = bccb.T[:, 0]\n",
    "reshaped = bccb_col.reshape(p.shape)\n",
    "# print(reshaped)\n",
    "print(numpy.roll(reshaped, center, [0, 1]))"
   ]
  },
  {
   "cell_type": "code",
   "execution_count": 117,
   "metadata": {},
   "outputs": [
    {
     "data": {
      "text/plain": [
       "array([[55, 54, 53, 52, 51],\n",
       "       [45, 44, 43, 42, 41],\n",
       "       [35, 34, 33, 32, 31],\n",
       "       [25, 24, 23, 22, 21],\n",
       "       [15, 14, 13, 12, 11]])"
      ]
     },
     "execution_count": 117,
     "metadata": {},
     "output_type": "execute_result"
    }
   ],
   "source": [
    "numpy.flip(p)"
   ]
  },
  {
   "cell_type": "code",
   "execution_count": null,
   "metadata": {},
   "outputs": [],
   "source": []
  }
 ],
 "metadata": {
  "kernelspec": {
   "display_name": "Python 3.10.9 64-bit",
   "language": "python",
   "name": "python3"
  },
  "language_info": {
   "codemirror_mode": {
    "name": "ipython",
    "version": 3
   },
   "file_extension": ".py",
   "mimetype": "text/x-python",
   "name": "python",
   "nbconvert_exporter": "python",
   "pygments_lexer": "ipython3",
   "version": "3.10.12"
  },
  "orig_nbformat": 4,
  "vscode": {
   "interpreter": {
    "hash": "ed1c4bfab4690d67806cf533d12ae48a212eb9cbd358ee70c751e08b3ad01a48"
   }
  }
 },
 "nbformat": 4,
 "nbformat_minor": 2
}
