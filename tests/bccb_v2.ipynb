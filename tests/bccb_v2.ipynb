{
 "cells": [
  {
   "cell_type": "code",
   "execution_count": 1,
   "metadata": {},
   "outputs": [],
   "source": [
    "import sys\n",
    "sys.path.append('..')"
   ]
  },
  {
   "cell_type": "code",
   "execution_count": 2,
   "metadata": {},
   "outputs": [],
   "source": [
    "import numpy"
   ]
  },
  {
   "cell_type": "code",
   "execution_count": 5,
   "metadata": {},
   "outputs": [
    {
     "data": {
      "text/plain": [
       "array([[11, 12, 13],\n",
       "       [21, 22, 23],\n",
       "       [31, 32, 33]])"
      ]
     },
     "execution_count": 5,
     "metadata": {},
     "output_type": "execute_result"
    }
   ],
   "source": [
    "p = numpy.array(\n",
    "    [\n",
    "        [11, 12, 13],\n",
    "        [21, 22, 23],\n",
    "        [31, 32, 33],\n",
    "    ]\n",
    ")\n",
    "\n",
    "\n",
    "# p = numpy.array(\n",
    "#     [\n",
    "#         [11, 12, 13, 14, 15],\n",
    "#         [21, 22, 23, 24, 25],\n",
    "#         [31, 32, 33, 34, 35],\n",
    "#         [41, 42, 43, 44, 45],\n",
    "#         [51, 52, 53, 54, 55],\n",
    "#     ]\n",
    "# )\n",
    "\n",
    "p"
   ]
  },
  {
   "cell_type": "code",
   "execution_count": 6,
   "metadata": {},
   "outputs": [
    {
     "name": "stdout",
     "output_type": "stream",
     "text": [
      "[[22 23 21]\n",
      " [32 33 31]\n",
      " [12 13 11]]\n"
     ]
    }
   ],
   "source": [
    "import lasp.utils\n",
    "# p_shifted = lasp.utils.pad_circshift_center(p, p.shape)\n",
    "center = numpy.array(p.shape) // 2\n",
    "p_shifted = numpy.roll(p, -center, [0, 1])\n",
    "print(p_shifted)"
   ]
  },
  {
   "cell_type": "code",
   "execution_count": 7,
   "metadata": {},
   "outputs": [],
   "source": [
    "def make_bccb(p: numpy.ndarray) -> numpy.ndarray :\n",
    "    \n",
    "    N, M = p.shape\n",
    "    \n",
    "    dim = numpy.prod(numpy.array(p.shape))\n",
    "    p_cpy = numpy.copy(p)\n",
    "    \n",
    "    p1 = numpy.reshape(p_cpy.T, newshape=dim)\n",
    "    P = numpy.zeros(shape=(dim, dim))\n",
    "    P[:, 0] = p1\n",
    "\n",
    "    # print(\"First Boucle\")\n",
    "    # print(P)\n",
    "    for j in range(1, M):\n",
    "        for i in range(0, M*N, N):\n",
    "            P[i:i+N, j] = numpy.roll(P[i:i+N, j-1], 1)\n",
    "            # print(P)\n",
    "\n",
    "    # print(\"Second Boucle\")\n",
    "    for j in range(1, M):\n",
    "        P[:, N*j: N*j+N] = numpy.roll(P[:, N*(j-1): N*(j-1)+N], (N, 0), (0, 1))\n",
    "        # print(P)\n",
    "\n",
    "\n",
    "    return P"
   ]
  },
  {
   "cell_type": "code",
   "execution_count": 8,
   "metadata": {},
   "outputs": [
    {
     "name": "stdout",
     "output_type": "stream",
     "text": [
      "[[22. 12. 32. 21. 11. 31. 23. 13. 33.]\n",
      " [32. 22. 12. 31. 21. 11. 33. 23. 13.]\n",
      " [12. 32. 22. 11. 31. 21. 13. 33. 23.]\n",
      " [23. 13. 33. 22. 12. 32. 21. 11. 31.]\n",
      " [33. 23. 13. 32. 22. 12. 31. 21. 11.]\n",
      " [13. 33. 23. 12. 32. 22. 11. 31. 21.]\n",
      " [21. 11. 31. 23. 13. 33. 22. 12. 32.]\n",
      " [31. 21. 11. 33. 23. 13. 32. 22. 12.]\n",
      " [11. 31. 21. 13. 33. 23. 12. 32. 22.]]\n"
     ]
    }
   ],
   "source": [
    "bccb = make_bccb(p_shifted)\n",
    "print(bccb)\n"
   ]
  },
  {
   "cell_type": "code",
   "execution_count": 9,
   "metadata": {},
   "outputs": [
    {
     "name": "stdout",
     "output_type": "stream",
     "text": [
      "[[11. 21. 31.]\n",
      " [12. 22. 32.]\n",
      " [13. 23. 33.]]\n"
     ]
    }
   ],
   "source": [
    "bccb_col = bccb[:, 0]\n",
    "reshaped = bccb_col.reshape(p.shape)\n",
    "# print(reshaped)\n",
    "print(numpy.roll(reshaped, center, [0, 1]))"
   ]
  },
  {
   "cell_type": "code",
   "execution_count": 10,
   "metadata": {},
   "outputs": [
    {
     "name": "stdout",
     "output_type": "stream",
     "text": [
      "[[33. 23. 13.]\n",
      " [32. 22. 12.]\n",
      " [31. 21. 11.]]\n"
     ]
    }
   ],
   "source": [
    "bccb_col = bccb.T[:, 0]\n",
    "reshaped = bccb_col.reshape(p.shape)\n",
    "# print(reshaped)\n",
    "print(numpy.roll(reshaped, center, [0, 1]))"
   ]
  },
  {
   "cell_type": "code",
   "execution_count": 11,
   "metadata": {},
   "outputs": [
    {
     "data": {
      "text/plain": [
       "array([[33, 32, 31],\n",
       "       [23, 22, 21],\n",
       "       [13, 12, 11]])"
      ]
     },
     "execution_count": 11,
     "metadata": {},
     "output_type": "execute_result"
    }
   ],
   "source": [
    "numpy.flip(p)"
   ]
  },
  {
   "cell_type": "code",
   "execution_count": 141,
   "metadata": {},
   "outputs": [
    {
     "data": {
      "text/plain": [
       "array([[198. +0.j        ,   0. -5.19615242j,   0. +5.19615242j],\n",
       "       [  0.-51.96152423j,   0. +0.j        ,   0. +0.j        ],\n",
       "       [  0.+51.96152423j,   0. +0.j        ,   0. +0.j        ]])"
      ]
     },
     "execution_count": 141,
     "metadata": {},
     "output_type": "execute_result"
    }
   ],
   "source": [
    "numpy.fft.fft2(p_shifted)"
   ]
  },
  {
   "cell_type": "code",
   "execution_count": 13,
   "metadata": {},
   "outputs": [
    {
     "data": {
      "text/plain": [
       "array([198.         +0.j        ,  -2.81907786 -3.35964617j,\n",
       "         2.29813333 +0.40522291j,   0.        -51.96152423j,\n",
       "         0.52094453 -1.43128334j,   0.52094453 +1.43128334j,\n",
       "         0.        +51.96152423j,   2.29813333 -0.40522291j,\n",
       "        -2.81907786 +3.35964617j])"
      ]
     },
     "execution_count": 13,
     "metadata": {},
     "output_type": "execute_result"
    }
   ],
   "source": [
    "# numpy.fft.fft(bccb[:, 0])"
   ]
  },
  {
   "cell_type": "code",
   "execution_count": 103,
   "metadata": {},
   "outputs": [
    {
     "data": {
      "text/plain": [
       "True"
      ]
     },
     "execution_count": 103,
     "metadata": {},
     "output_type": "execute_result"
    }
   ],
   "source": [
    "def dftmtx(n):\n",
    "    h = numpy.arange(0, n)\n",
    "    i, j = numpy.meshgrid(h, h)\n",
    "    return numpy.exp(-2j*numpy.pi*i*j / n)\n",
    "\n",
    "def idftmtx(n):\n",
    "    h = numpy.arange(0, n)\n",
    "    i, j = numpy.meshgrid(h, h)\n",
    "    dft = numpy.exp(-2j*numpy.pi*i*j / n)\n",
    "    return numpy.transpose(numpy.conj(dft))\n",
    "\n",
    "# def dftmtx_fft(x):\n",
    "#     n = x.shape[0]\n",
    "#     return (dftmtx(n) @ x ) / numpy.sqrt(n)\n",
    "\n",
    "# def dftmtx_ifft(x):\n",
    "#     n = x.shape[0]\n",
    "#     return (idftmtx @ x ) * numpy.sqrt(n)\n",
    "\n",
    "import scipy.linalg\n",
    "n = 4\n",
    "sp, my = scipy.linalg.dft(n), dftmtx(n)\n",
    "numpy.allclose(sp, my)"
   ]
  },
  {
   "cell_type": "code",
   "execution_count": 104,
   "metadata": {},
   "outputs": [],
   "source": [
    "# dftmtx(2) @ idftmtx(2)"
   ]
  },
  {
   "cell_type": "code",
   "execution_count": 105,
   "metadata": {},
   "outputs": [],
   "source": [
    "# idftmtx(2) @ dftmtx(2)"
   ]
  },
  {
   "cell_type": "code",
   "execution_count": 106,
   "metadata": {},
   "outputs": [
    {
     "name": "stdout",
     "output_type": "stream",
     "text": [
      "x : [0.99381834 0.95481747 0.50045651 0.92542579 0.59155773]\n"
     ]
    }
   ],
   "source": [
    "n = 5\n",
    "x = numpy.random.rand(n);\n",
    "print('x : {}'.format(x))"
   ]
  },
  {
   "attachments": {},
   "cell_type": "markdown",
   "metadata": {},
   "source": [
    "$$\n",
    "\\begin{align*}\n",
    "y = Fx = fft(x) \\implies x = \\frac{1}{\\sqrt n} F^{T} y = ifft(y) \n",
    "\\end{align*}\n",
    "$$"
   ]
  },
  {
   "cell_type": "code",
   "execution_count": 107,
   "metadata": {},
   "outputs": [
    {
     "name": "stdout",
     "output_type": "stream",
     "text": [
      "FFT(x) : [3.96607585+0.j         0.31811154-0.09568986j 0.18339638-0.61768853j\n",
      " 0.18339638+0.61768853j 0.31811154+0.09568986j]\n",
      "\n",
      "F @ x : [3.96607585+0.j         0.31811154-0.09568986j 0.18339638-0.61768853j\n",
      " 0.18339638+0.61768853j 0.31811154+0.09568986j]\n"
     ]
    }
   ],
   "source": [
    "x_fft = numpy.fft.fft(x)\n",
    "x_dft = dftmtx(n) @ x\n",
    "print('FFT(x) : {}\\n'.format(x_fft))\n",
    "print('F @ x : {}'.format(x_dft))"
   ]
  },
  {
   "cell_type": "code",
   "execution_count": 110,
   "metadata": {},
   "outputs": [
    {
     "name": "stdout",
     "output_type": "stream",
     "text": [
      "x : [0.99381834 0.95481747 0.50045651 0.92542579 0.59155773]\n",
      "\n",
      "IFFT(x) : [0.99381834 0.95481747 0.50045651 0.92542579 0.59155773]\n",
      "\n",
      "F.T @ x : [0.99381834 0.95481747 0.50045651 0.92542579 0.59155773]\n"
     ]
    }
   ],
   "source": [
    "x_dft_ifft = numpy.fft.ifft(x_dft)\n",
    "x_dft_ifft = x_dft_ifft.real\n",
    "x_dft_idft = (idftmtx(n) @ x_dft) / n\n",
    "x_dft_idft = x_dft_idft.real\n",
    "print('x : {}\\n'.format(x))\n",
    "print('IFFT(x) : {}\\n'.format(x_dft_ifft))\n",
    "print('F.T @ x : {}'.format(x_dft_idft))"
   ]
  },
  {
   "attachments": {},
   "cell_type": "markdown",
   "metadata": {},
   "source": [
    "$$\n",
    "\\begin{align*}\n",
    "y = F^{T}x = ifft(x) \\implies x = {\\sqrt n} \\times F y = fft(y) \n",
    "\\end{align*}\n",
    "$$"
   ]
  },
  {
   "cell_type": "code",
   "execution_count": 125,
   "metadata": {},
   "outputs": [
    {
     "name": "stdout",
     "output_type": "stream",
     "text": [
      "x : [0.99381834 0.95481747 0.50045651 0.92542579 0.59155773]\n",
      "\n",
      "F.T @ x : [0.79321517+0.j         0.06362231+0.01913797j 0.03667928+0.12353771j\n",
      " 0.03667928-0.12353771j 0.06362231-0.01913797j]\n",
      "\n",
      "IFFT(x) : [0.79321517+0.j         0.06362231+0.01913797j 0.03667928+0.12353771j\n",
      " 0.03667928-0.12353771j 0.06362231-0.01913797j]\n",
      "\n",
      "F.T @ x @ F: [0.99381834 0.95481747 0.50045651 0.92542579 0.59155773]\n",
      "\n",
      "x == F.T @ x @ F : True\n"
     ]
    }
   ],
   "source": [
    "FTx = idftmtx(n) @ x / n\n",
    "FTxF = FTx @ dftmtx(n)\n",
    "FTxF = FTxF.real\n",
    "print('x : {}\\n'.format(x))\n",
    "print('F.T @ x : {}\\n'.format(FTx))\n",
    "print('IFFT(x) : {}\\n'.format(numpy.fft.ifft(x)))\n",
    "print('F.T @ x @ F: {}\\n'.format(FTxF))\n",
    "print('x == F.T @ x @ F : {}'.format(numpy.allclose(x, FTxF)))"
   ]
  },
  {
   "cell_type": "code",
   "execution_count": 118,
   "metadata": {},
   "outputs": [
    {
     "name": "stdout",
     "output_type": "stream",
     "text": [
      "x : [0.99381834 0.95481747 0.50045651 0.92542579 0.59155773]\n",
      "\n",
      "F @ x : [3.96607585+0.j         0.31811154-0.09568986j 0.18339638-0.61768853j\n",
      " 0.18339638+0.61768853j 0.31811154+0.09568986j]\n",
      "\n",
      "F @ x @ F.T: [0.99381834 0.95481747 0.50045651 0.92542579 0.59155773]\n",
      "\n",
      "x == F @ x @ F.T : True\n"
     ]
    }
   ],
   "source": [
    "Fx = dftmtx(n) @ x\n",
    "FxFT =  Fx @ idftmtx(n) / n\n",
    "FxFT = FxFT.real\n",
    "print('x : {}\\n'.format(x))\n",
    "print('F @ x : {}\\n'.format(Fx))\n",
    "print('F @ x @ F.T: {}\\n'.format(FxFT))\n",
    "print('x == F @ x @ F.T : {}'.format(numpy.allclose(x, FxFT)))"
   ]
  },
  {
   "cell_type": "code",
   "execution_count": 158,
   "metadata": {},
   "outputs": [],
   "source": [
    "A = numpy.array(\n",
    "    [\n",
    "        [ 1, 2, 3, 4 ],\n",
    "        [ 2, 1, 4, 3 ],\n",
    "        [ 3, 4, 1, 2 ],\n",
    "        [ 4, 3, 2, 1 ]\n",
    "    ]\n",
    ")\n",
    "M, N = A.shape[0] / 2, A.shape[1] / 2"
   ]
  },
  {
   "cell_type": "code",
   "execution_count": 179,
   "metadata": {},
   "outputs": [
    {
     "data": {
      "text/plain": [
       "array([[ 1. +0.00000000e+00j,  1. +0.00000000e+00j,  1. +0.00000000e+00j,\n",
       "         1. +0.00000000e+00j,  1. +0.00000000e+00j,  1. +0.00000000e+00j,\n",
       "         1. +0.00000000e+00j,  1. +0.00000000e+00j,  1. +0.00000000e+00j],\n",
       "       [ 1. +0.00000000e+00j, -0.5-8.66025404e-01j, -0.5+8.66025404e-01j,\n",
       "         1. +0.00000000e+00j, -0.5-8.66025404e-01j, -0.5+8.66025404e-01j,\n",
       "         1. +0.00000000e+00j, -0.5-8.66025404e-01j, -0.5+8.66025404e-01j],\n",
       "       [ 1. +0.00000000e+00j, -0.5+8.66025404e-01j, -0.5-8.66025404e-01j,\n",
       "         1. +0.00000000e+00j, -0.5+8.66025404e-01j, -0.5-8.66025404e-01j,\n",
       "         1. +0.00000000e+00j, -0.5+8.66025404e-01j, -0.5-8.66025404e-01j],\n",
       "       [ 1. +0.00000000e+00j,  1. +0.00000000e+00j,  1. +0.00000000e+00j,\n",
       "        -0.5-8.66025404e-01j, -0.5-8.66025404e-01j, -0.5-8.66025404e-01j,\n",
       "        -0.5+8.66025404e-01j, -0.5+8.66025404e-01j, -0.5+8.66025404e-01j],\n",
       "       [ 1. +0.00000000e+00j, -0.5-8.66025404e-01j, -0.5+8.66025404e-01j,\n",
       "        -0.5-8.66025404e-01j, -0.5+8.66025404e-01j,  1. +6.10622664e-16j,\n",
       "        -0.5+8.66025404e-01j,  1. +6.10622664e-16j, -0.5-8.66025404e-01j],\n",
       "       [ 1. +0.00000000e+00j, -0.5+8.66025404e-01j, -0.5-8.66025404e-01j,\n",
       "        -0.5-8.66025404e-01j,  1. +7.21644966e-16j, -0.5+8.66025404e-01j,\n",
       "        -0.5+8.66025404e-01j, -0.5-8.66025404e-01j,  1. +1.44328993e-15j],\n",
       "       [ 1. +0.00000000e+00j,  1. +0.00000000e+00j,  1. +0.00000000e+00j,\n",
       "        -0.5+8.66025404e-01j, -0.5+8.66025404e-01j, -0.5+8.66025404e-01j,\n",
       "        -0.5-8.66025404e-01j, -0.5-8.66025404e-01j, -0.5-8.66025404e-01j],\n",
       "       [ 1. +0.00000000e+00j, -0.5-8.66025404e-01j, -0.5+8.66025404e-01j,\n",
       "        -0.5+8.66025404e-01j,  1. +7.21644966e-16j, -0.5-8.66025404e-01j,\n",
       "        -0.5-8.66025404e-01j, -0.5+8.66025404e-01j,  1. +1.44328993e-15j],\n",
       "       [ 1. +0.00000000e+00j, -0.5+8.66025404e-01j, -0.5-8.66025404e-01j,\n",
       "        -0.5+8.66025404e-01j, -0.5-8.66025404e-01j,  1. +1.55431223e-15j,\n",
       "        -0.5-8.66025404e-01j,  1. +1.55431223e-15j, -0.5+8.66025404e-01j]])"
      ]
     },
     "execution_count": 179,
     "metadata": {},
     "output_type": "execute_result"
    }
   ],
   "source": [
    "F = numpy.kron(scipy.linalg.dft(M), scipy.linalg.dft(N))\n",
    "F = F\n",
    "F"
   ]
  },
  {
   "cell_type": "code",
   "execution_count": 174,
   "metadata": {},
   "outputs": [
    {
     "data": {
      "text/plain": [
       "array([[ 1.,  1.,  1.,  1.],\n",
       "       [ 1., -1.,  1., -1.],\n",
       "       [ 1.,  1., -1., -1.],\n",
       "       [ 1., -1., -1.,  1.]])"
      ]
     },
     "execution_count": 174,
     "metadata": {},
     "output_type": "execute_result"
    }
   ],
   "source": [
    "FT = numpy.transpose(numpy.conj(F))\n",
    "FT"
   ]
  },
  {
   "cell_type": "code",
   "execution_count": 175,
   "metadata": {},
   "outputs": [
    {
     "data": {
      "text/plain": [
       "array([10., -2., -4.,  0.])"
      ]
     },
     "execution_count": 175,
     "metadata": {},
     "output_type": "execute_result"
    }
   ],
   "source": [
    "D = FT @ A @ F / (M*N)\n",
    "D\n",
    "numpy.diag(D).real"
   ]
  },
  {
   "cell_type": "code",
   "execution_count": 176,
   "metadata": {},
   "outputs": [],
   "source": [
    "# numpy.fft.fft(bccb[:, 0])"
   ]
  },
  {
   "cell_type": "code",
   "execution_count": 178,
   "metadata": {},
   "outputs": [
    {
     "data": {
      "text/plain": [
       "array([[ 1. +0.00000000e+00j,  1. +0.00000000e+00j,  1. +0.00000000e+00j,\n",
       "         1. +0.00000000e+00j,  1. +0.00000000e+00j,  1. +0.00000000e+00j,\n",
       "         1. +0.00000000e+00j,  1. +0.00000000e+00j,  1. +0.00000000e+00j],\n",
       "       [ 1. +0.00000000e+00j, -0.5-8.66025404e-01j, -0.5+8.66025404e-01j,\n",
       "         1. +0.00000000e+00j, -0.5-8.66025404e-01j, -0.5+8.66025404e-01j,\n",
       "         1. +0.00000000e+00j, -0.5-8.66025404e-01j, -0.5+8.66025404e-01j],\n",
       "       [ 1. +0.00000000e+00j, -0.5+8.66025404e-01j, -0.5-8.66025404e-01j,\n",
       "         1. +0.00000000e+00j, -0.5+8.66025404e-01j, -0.5-8.66025404e-01j,\n",
       "         1. +0.00000000e+00j, -0.5+8.66025404e-01j, -0.5-8.66025404e-01j],\n",
       "       [ 1. +0.00000000e+00j,  1. +0.00000000e+00j,  1. +0.00000000e+00j,\n",
       "        -0.5-8.66025404e-01j, -0.5-8.66025404e-01j, -0.5-8.66025404e-01j,\n",
       "        -0.5+8.66025404e-01j, -0.5+8.66025404e-01j, -0.5+8.66025404e-01j],\n",
       "       [ 1. +0.00000000e+00j, -0.5-8.66025404e-01j, -0.5+8.66025404e-01j,\n",
       "        -0.5-8.66025404e-01j, -0.5+8.66025404e-01j,  1. +6.10622664e-16j,\n",
       "        -0.5+8.66025404e-01j,  1. +6.10622664e-16j, -0.5-8.66025404e-01j],\n",
       "       [ 1. +0.00000000e+00j, -0.5+8.66025404e-01j, -0.5-8.66025404e-01j,\n",
       "        -0.5-8.66025404e-01j,  1. +7.21644966e-16j, -0.5+8.66025404e-01j,\n",
       "        -0.5+8.66025404e-01j, -0.5-8.66025404e-01j,  1. +1.44328993e-15j],\n",
       "       [ 1. +0.00000000e+00j,  1. +0.00000000e+00j,  1. +0.00000000e+00j,\n",
       "        -0.5+8.66025404e-01j, -0.5+8.66025404e-01j, -0.5+8.66025404e-01j,\n",
       "        -0.5-8.66025404e-01j, -0.5-8.66025404e-01j, -0.5-8.66025404e-01j],\n",
       "       [ 1. +0.00000000e+00j, -0.5-8.66025404e-01j, -0.5+8.66025404e-01j,\n",
       "        -0.5+8.66025404e-01j,  1. +7.21644966e-16j, -0.5-8.66025404e-01j,\n",
       "        -0.5-8.66025404e-01j, -0.5+8.66025404e-01j,  1. +1.44328993e-15j],\n",
       "       [ 1. +0.00000000e+00j, -0.5+8.66025404e-01j, -0.5-8.66025404e-01j,\n",
       "        -0.5+8.66025404e-01j, -0.5-8.66025404e-01j,  1. +1.55431223e-15j,\n",
       "        -0.5-8.66025404e-01j,  1. +1.55431223e-15j, -0.5+8.66025404e-01j]])"
      ]
     },
     "execution_count": 178,
     "metadata": {},
     "output_type": "execute_result"
    }
   ],
   "source": [
    "M, N = 3, 3\n",
    "F = numpy.kron(scipy.linalg.dft(M), scipy.linalg.dft(N))\n",
    "F = F\n",
    "F"
   ]
  },
  {
   "cell_type": "code",
   "execution_count": null,
   "metadata": {},
   "outputs": [],
   "source": []
  }
 ],
 "metadata": {
  "kernelspec": {
   "display_name": "Python 3.10.9 64-bit",
   "language": "python",
   "name": "python3"
  },
  "language_info": {
   "codemirror_mode": {
    "name": "ipython",
    "version": 3
   },
   "file_extension": ".py",
   "mimetype": "text/x-python",
   "name": "python",
   "nbconvert_exporter": "python",
   "pygments_lexer": "ipython3",
   "version": "3.10.12"
  },
  "orig_nbformat": 4,
  "vscode": {
   "interpreter": {
    "hash": "ed1c4bfab4690d67806cf533d12ae48a212eb9cbd358ee70c751e08b3ad01a48"
   }
  }
 },
 "nbformat": 4,
 "nbformat_minor": 2
}
