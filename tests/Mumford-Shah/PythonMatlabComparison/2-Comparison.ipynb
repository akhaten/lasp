{
 "cells": [
  {
   "cell_type": "code",
   "execution_count": 1,
   "metadata": {},
   "outputs": [],
   "source": [
    "import sys\n",
    "sys.path.append('../../..')"
   ]
  },
  {
   "cell_type": "code",
   "execution_count": 2,
   "metadata": {},
   "outputs": [],
   "source": [
    "import lasp.io\n",
    "import pathlib\n",
    "import numpy\n",
    "import scipy.io\n",
    "\n",
    "import matplotlib.pyplot\n",
    "\n",
    "pyres_path = pathlib.Path('python_results')\n",
    "py_filenames = list(pyres_path.glob('*'))\n",
    "py_filenames.sort()\n",
    "pyres = [ lasp.io.read(filename) for filename in py_filenames ]\n",
    "\n",
    "matres_path = pathlib.Path('matlab_results')\n",
    "matres_filenames = list(matres_path.glob('*'))\n",
    "matres_filenames.sort()\n",
    "matres = [ scipy.io.matlab.loadmat(filename)['uu'] for filename in matres_filenames ]\n",
    "\n",
    "NB_IMAGES = len(pyres)"
   ]
  },
  {
   "cell_type": "code",
   "execution_count": 3,
   "metadata": {},
   "outputs": [
    {
     "name": "stdout",
     "output_type": "stream",
     "text": [
      "       BaboonBlurred : 2.0539125955565396e-15\n",
      "        BaboonNoised : 1.3322676295501878e-15\n",
      "      BaboonOriginal : 7.771561172376096e-16\n",
      "        BoatsBlurred : 1.5543122344752192e-15\n",
      "         BoatsNoised : 1.2212453270876722e-15\n",
      "       BoatsOriginal : 6.661338147750939e-16\n",
      "    CameramanBlurred : 1.1102230246251565e-15\n",
      "     CameramanNoised : 8.881784197001252e-16\n",
      "   CameramanOriginal : 4.440892098500626e-16\n",
      "     GoldhillBlurred : 1.2212453270876722e-15\n",
      "      GoldhillNoised : 8.881784197001252e-16\n",
      "    GoldhillOriginal : 8.881784197001252e-16\n",
      "      PeppersBlurred : 9.992007221626409e-16\n",
      "       PeppersNoised : 1.1102230246251565e-15\n",
      "     PeppersOriginal : 7.771561172376096e-16\n"
     ]
    }
   ],
   "source": [
    "for i in range(0, NB_IMAGES):\n",
    "\n",
    "    name = py_filenames[i].stem\n",
    "    py = pyres[i]\n",
    "    mat = matres[i]\n",
    "\n",
    "    print('{:>20} : {:>20}'.format(name, numpy.max(numpy.abs(py-mat))))"
   ]
  },
  {
   "cell_type": "code",
   "execution_count": null,
   "metadata": {},
   "outputs": [],
   "source": []
  }
 ],
 "metadata": {
  "kernelspec": {
   "display_name": "Python 3.10.6 64-bit",
   "language": "python",
   "name": "python3"
  },
  "language_info": {
   "codemirror_mode": {
    "name": "ipython",
    "version": 3
   },
   "file_extension": ".py",
   "mimetype": "text/x-python",
   "name": "python",
   "nbconvert_exporter": "python",
   "pygments_lexer": "ipython3",
   "version": "3.10.6"
  },
  "orig_nbformat": 4,
  "vscode": {
   "interpreter": {
    "hash": "916dbcbb3f70747c44a77c7bcd40155683ae19c65e1c03b4aa3499c5328201f1"
   }
  }
 },
 "nbformat": 4,
 "nbformat_minor": 2
}
