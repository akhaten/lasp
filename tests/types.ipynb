{
 "cells": [
  {
   "cell_type": "code",
   "execution_count": null,
   "metadata": {},
   "outputs": [],
   "source": [
    "import typing\n",
    "\n",
    "\n",
    "a = snr_db(1.0)\n",
    "a, type(a)\n",
    "\n",
    "class snr_db(snr_db):"
   ]
  },
  {
   "cell_type": "code",
   "execution_count": 1,
   "metadata": {},
   "outputs": [],
   "source": [
    "from typing import NewType\n",
    "\n",
    "UserId = NewType('UserId', int)\n",
    "some_id = UserId(524313)"
   ]
  },
  {
   "cell_type": "code",
   "execution_count": 4,
   "metadata": {},
   "outputs": [
    {
     "ename": "TypeError",
     "evalue": "isinstance() arg 2 must be a type, a tuple of types, or a union",
     "output_type": "error",
     "traceback": [
      "\u001b[0;31m---------------------------------------------------------------------------\u001b[0m",
      "\u001b[0;31mTypeError\u001b[0m                                 Traceback (most recent call last)",
      "Cell \u001b[0;32mIn[4], line 7\u001b[0m\n\u001b[1;32m      4\u001b[0m     \u001b[39mprint\u001b[39m(user_id)\n\u001b[1;32m      6\u001b[0m \u001b[39m# passes type checking\u001b[39;00m\n\u001b[0;32m----> 7\u001b[0m user_a \u001b[39m=\u001b[39m get_user_name(UserId(\u001b[39m42351\u001b[39;49m))\n\u001b[1;32m      9\u001b[0m \u001b[39m# fails type checking; an int is not a UserId\u001b[39;00m\n\u001b[1;32m     10\u001b[0m user_b \u001b[39m=\u001b[39m get_user_name(\u001b[39m-\u001b[39m\u001b[39m1\u001b[39m)\n",
      "Cell \u001b[0;32mIn[4], line 2\u001b[0m, in \u001b[0;36mget_user_name\u001b[0;34m(user_id)\u001b[0m\n\u001b[1;32m      1\u001b[0m \u001b[39mdef\u001b[39;00m \u001b[39mget_user_name\u001b[39m(user_id: UserId) \u001b[39m-\u001b[39m\u001b[39m>\u001b[39m \u001b[39mstr\u001b[39m:\n\u001b[0;32m----> 2\u001b[0m     \u001b[39mif\u001b[39;00m \u001b[39mnot\u001b[39;00m(\u001b[39misinstance\u001b[39;49m(\u001b[39mtype\u001b[39;49m(user_id), UserId)):\n\u001b[1;32m      3\u001b[0m         \u001b[39mraise\u001b[39;00m \u001b[39mTypeError\u001b[39;00m(\u001b[39m'\u001b[39m\u001b[39muser_id must be UserId object\u001b[39m\u001b[39m'\u001b[39m)\n\u001b[1;32m      4\u001b[0m     \u001b[39mprint\u001b[39m(user_id)\n",
      "\u001b[0;31mTypeError\u001b[0m: isinstance() arg 2 must be a type, a tuple of types, or a union"
     ]
    }
   ],
   "source": [
    "def get_user_name(user_id: UserId) -> str:\n",
    "    if not(isinstance(type(user_id), UserId)):\n",
    "        raise TypeError('user_id must be UserId object')\n",
    "    print(user_id)\n",
    "\n",
    "# passes type checking\n",
    "user_a = get_user_name(UserId(42351))\n",
    "\n",
    "# fails type checking; an int is not a UserId\n",
    "user_b = get_user_name(-1)"
   ]
  },
  {
   "cell_type": "code",
   "execution_count": 9,
   "metadata": {},
   "outputs": [],
   "source": [
    "import typing\n",
    "import sys\n",
    "sys.path.append('..')\n",
    "\n",
    "import lasp.convert\n",
    "import numpy\n",
    "\n",
    "\n",
    "SNR_DB = typing.NewType(name='SNR_DB', tp=float)\n",
    "SNR = typing.NewType(name='SNR', tp=float)\n",
    "\n",
    "# @typing.overload\n",
    "# def awgn(signal: numpy.ndarray, snr: SNR_DB) -> numpy.ndarray:\n",
    "#     ...\n",
    "\n",
    "# @typing.overload\n",
    "# def awgn(signal: numpy.ndarray, snr: SNR) -> numpy.ndarray:\n",
    "#     ...\n",
    "\n",
    "# def awgn(signal: numpy.ndarray, snr: float) -> numpy.ndarray:\n",
    "#     \"\"\"Additive White Gaussian Noise (AWGN)\n",
    "    \n",
    "#     Params:\n",
    "#         - signal: signal\n",
    "#         - snr : signal to noise ratio (not in db)\n",
    "\n",
    "#     Returns:\n",
    "#         Signal noised\n",
    "#     \"\"\"\n",
    "\n",
    "#     # if signal.dtype == numpy.complex64:\n",
    "#     #     nb_points = len(signal)\n",
    "#     #     power_signal = sum(numpy.abs(signal)**2) / len(signal) # puissance de l’image \n",
    "#     #     power_noise = power_signal/(10**(snr/10)) # % puissance du bruit\n",
    "#     #     reals = numpy.random.randn(1, nb_points)\n",
    "#     #     imags = numpy.random.randn(1, nb_points)\n",
    "#     #     noise = [(numpy.sqrt(power_noise) * numpy.sqrt(1/2) * (reals[0][i] + 1j * imags[0][i])) for i in range(0, N)]# bruit Gaussien \n",
    "#     #     return signal + noise\n",
    "\n",
    "#     # signal_noised = numpy.array(signal, numpy.double)\n",
    "#     signal_double = signal.astype(numpy.double)\n",
    "\n",
    "#     signal_power = lasp.metrics.power(signal_double)\n",
    "#     noise_power = signal_power / snr\n",
    "#     sigma, mu = numpy.sqrt(noise_power), 0.0\n",
    "#     noise = numpy.random.normal(loc=mu, scale=sigma, size=signal_double.shape)\n",
    "#     signal_noised = signal_double+noise\n",
    "#     # grey level image must not have negative value\n",
    "#     # signal_noised[signal_noised < 0.0] = 0.0\n",
    "\n",
    "#     signal_noised = lasp.utils.normalize(signal_noised) * 255\n",
    "\n",
    "#     return signal_noised\n",
    "\n",
    "\n",
    "\n",
    "\n",
    "# @typing.overload\n",
    "# def process(response: ) -> None:\n",
    "#     ...\n",
    "# @typing.overload\n",
    "# def process(response: float) -> None:\n",
    "#     ...\n",
    "\n",
    "# def process(response) -> None:\n",
    "#     print(response, type(response))"
   ]
  },
  {
   "cell_type": "code",
   "execution_count": 10,
   "metadata": {},
   "outputs": [
    {
     "name": "stdout",
     "output_type": "stream",
     "text": [
      "0 <class 'int'>\n"
     ]
    }
   ],
   "source": [
    "process(0)"
   ]
  },
  {
   "cell_type": "code",
   "execution_count": 11,
   "metadata": {},
   "outputs": [
    {
     "name": "stdout",
     "output_type": "stream",
     "text": [
      "0.0 <class 'float'>\n"
     ]
    }
   ],
   "source": [
    "process(0.0)"
   ]
  },
  {
   "cell_type": "code",
   "execution_count": 14,
   "metadata": {},
   "outputs": [],
   "source": [
    "\n",
    "\n",
    "class snr(float):\n",
    "\n",
    "    def __init__(self, value) -> None:\n",
    "        super().__init__(value)\n",
    "        self.value = value\n",
    "\n",
    "    def to_snr_db(self) -> snr_db:\n",
    "        return snr_db(value = lasp.convert.snr_to_snrdb(self.value))\n",
    "\n",
    "class snr_db(float):\n",
    "\n",
    "    def __init__(self, value) -> None:\n",
    "        super().__init__(value)\n",
    "        self.value = value\n",
    "\n",
    "    def to_snr(self) -> snr:\n",
    "        return snr_db(value = lasp.convert.snrdb_to_snr(self.value))\n",
    "\n",
    "\n",
    "    "
   ]
  },
  {
   "cell_type": "code",
   "execution_count": 15,
   "metadata": {},
   "outputs": [
    {
     "ename": "TypeError",
     "evalue": "object.__init__() takes exactly one argument (the instance to initialize)",
     "output_type": "error",
     "traceback": [
      "\u001b[0;31m---------------------------------------------------------------------------\u001b[0m",
      "\u001b[0;31mTypeError\u001b[0m                                 Traceback (most recent call last)",
      "Cell \u001b[0;32mIn[15], line 1\u001b[0m\n\u001b[0;32m----> 1\u001b[0m snr \u001b[39m=\u001b[39m snr(\u001b[39m20.0\u001b[39;49m)\n",
      "Cell \u001b[0;32mIn[14], line 9\u001b[0m, in \u001b[0;36msnr.__init__\u001b[0;34m(self, value)\u001b[0m\n\u001b[1;32m      8\u001b[0m \u001b[39mdef\u001b[39;00m \u001b[39m__init__\u001b[39m(\u001b[39mself\u001b[39m, value) \u001b[39m-\u001b[39m\u001b[39m>\u001b[39m \u001b[39mNone\u001b[39;00m:\n\u001b[0;32m----> 9\u001b[0m     \u001b[39msuper\u001b[39;49m()\u001b[39m.\u001b[39;49m\u001b[39m__init__\u001b[39;49m(value)\n\u001b[1;32m     10\u001b[0m     \u001b[39mself\u001b[39m\u001b[39m.\u001b[39mvalue \u001b[39m=\u001b[39m value\n",
      "\u001b[0;31mTypeError\u001b[0m: object.__init__() takes exactly one argument (the instance to initialize)"
     ]
    }
   ],
   "source": [
    "snr = snr(20.0)"
   ]
  },
  {
   "cell_type": "code",
   "execution_count": null,
   "metadata": {},
   "outputs": [],
   "source": []
  }
 ],
 "metadata": {
  "kernelspec": {
   "display_name": "Python 3",
   "language": "python",
   "name": "python3"
  },
  "language_info": {
   "codemirror_mode": {
    "name": "ipython",
    "version": 3
   },
   "file_extension": ".py",
   "mimetype": "text/x-python",
   "name": "python",
   "nbconvert_exporter": "python",
   "pygments_lexer": "ipython3",
   "version": "3.10.12"
  },
  "orig_nbformat": 4
 },
 "nbformat": 4,
 "nbformat_minor": 2
}
