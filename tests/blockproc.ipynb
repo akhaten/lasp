{
 "cells": [
  {
   "cell_type": "code",
   "execution_count": 89,
   "metadata": {},
   "outputs": [],
   "source": [
    "import numpy\n",
    "import typing\n",
    "\n",
    "def matlab_reshape(array: numpy.ndarray, newshape) -> numpy.ndarray:\n",
    "    return numpy.reshape(array, newshape, order='F')\n",
    "\n",
    "def blockproc_reshape(\n",
    "    array: numpy.ndarray,\n",
    "    block_size: numpy.ndarray,\n",
    "    order: str\n",
    ") -> numpy.ndarray:\n",
    "\n",
    "    nb_rows, nb_cols = array.shape\n",
    "    res = None\n",
    "\n",
    "    step_r, step_c = block_size\n",
    "\n",
    "    range(0, nb_rows, step_r)\n",
    "\n",
    "    for j in range(0, nb_cols, step_c):\n",
    "\n",
    "        column = None\n",
    "        \n",
    "        for i in range(0, nb_rows, step_r):\n",
    "            \n",
    "            bloc = numpy.reshape(\n",
    "                array[i:i+step_r, j:j+step_c], \n",
    "                (step_r*step_c, 1),\n",
    "                order=order\n",
    "            )\n",
    "            if column is None:\n",
    "                column = numpy.copy(bloc)\n",
    "            else:\n",
    "                column = numpy.vstack([ column, bloc ])\n",
    "\n",
    "        if res is None:\n",
    "            res = numpy.copy(column)\n",
    "        else:\n",
    "            res = numpy.hstack([ res, column ])\n",
    "\n",
    "    return res\n",
    "\n",
    "def blockproc(\n",
    "    array: numpy.ndarray, \n",
    "    block_shape: numpy.ndarray,\n",
    "    fun: typing.Callable[[numpy.ndarray], numpy.ndarray]\n",
    ") -> numpy.ndarray:\n",
    "    \n",
    "    nb_rows, nb_cols = array.shape\n",
    "    nb_block_rows, nb_block_cols = block_shape\n",
    "    \n",
    "    for i in range(0, nb_rows, nb_block_rows):\n",
    "        for j in range(0, nb_cols, nb_block_cols):\n",
    "            array[i:i+nb_block_rows, j:j+nb_block_cols] = \\\n",
    "                fun(array[i:i+nb_block_rows, j:j+nb_block_cols])\n",
    "    \n",
    "    return array\n",
    "                \n",
    "def block_mm(nr, nc, Nb, x1, order: str) -> numpy.ndarray:\n",
    "\n",
    "    block_shape = numpy.array([nr, nc])\n",
    "\n",
    "    x1 = blockproc_reshape(x1, block_shape, order)\n",
    "    x1 = numpy.reshape(x1, newshape=(nr*nc, Nb), order=order)\n",
    "    x1 = numpy.sum(x1, axis=1)\n",
    "    x = numpy.reshape(x1, newshape=(nr, nc), order=order)\n",
    "\n",
    "    return x\n"
   ]
  },
  {
   "cell_type": "code",
   "execution_count": 92,
   "metadata": {},
   "outputs": [
    {
     "data": {
      "text/plain": [
       "array([[   1,   51,  101, ..., 2351, 2401, 2451],\n",
       "       [   2,   52,  102, ..., 2352, 2402, 2452],\n",
       "       [   3,   53,  103, ..., 2353, 2403, 2453],\n",
       "       ...,\n",
       "       [  48,   98,  148, ..., 2398, 2448, 2498],\n",
       "       [  49,   99,  149, ..., 2399, 2449, 2499],\n",
       "       [  50,  100,  150, ..., 2400, 2450, 2500]])"
      ]
     },
     "execution_count": 92,
     "metadata": {},
     "output_type": "execute_result"
    }
   ],
   "source": [
    "d = 5\n",
    "nr, nc = 10, 10\n",
    "\n",
    "arr = numpy.reshape(numpy.arange(1, d*d*nr*nc + 1), (d*nr, d*nc), order='F')\n",
    "arr"
   ]
  },
  {
   "cell_type": "code",
   "execution_count": 93,
   "metadata": {},
   "outputs": [
    {
     "data": {
      "text/plain": [
       "array([[25525, 26775, 28025, 29275, 30525, 31775, 33025, 34275, 35525,\n",
       "        36775],\n",
       "       [25550, 26800, 28050, 29300, 30550, 31800, 33050, 34300, 35550,\n",
       "        36800],\n",
       "       [25575, 26825, 28075, 29325, 30575, 31825, 33075, 34325, 35575,\n",
       "        36825],\n",
       "       [25600, 26850, 28100, 29350, 30600, 31850, 33100, 34350, 35600,\n",
       "        36850],\n",
       "       [25625, 26875, 28125, 29375, 30625, 31875, 33125, 34375, 35625,\n",
       "        36875],\n",
       "       [25650, 26900, 28150, 29400, 30650, 31900, 33150, 34400, 35650,\n",
       "        36900],\n",
       "       [25675, 26925, 28175, 29425, 30675, 31925, 33175, 34425, 35675,\n",
       "        36925],\n",
       "       [25700, 26950, 28200, 29450, 30700, 31950, 33200, 34450, 35700,\n",
       "        36950],\n",
       "       [25725, 26975, 28225, 29475, 30725, 31975, 33225, 34475, 35725,\n",
       "        36975],\n",
       "       [25750, 27000, 28250, 29500, 30750, 32000, 33250, 34500, 35750,\n",
       "        37000]])"
      ]
     },
     "execution_count": 93,
     "metadata": {},
     "output_type": "execute_result"
    }
   ],
   "source": [
    "Nb = d*d\n",
    "block_mm(nr, nc, d*d, arr, order='F')"
   ]
  },
  {
   "cell_type": "code",
   "execution_count": null,
   "metadata": {},
   "outputs": [],
   "source": []
  },
  {
   "cell_type": "code",
   "execution_count": null,
   "metadata": {},
   "outputs": [],
   "source": []
  }
 ],
 "metadata": {
  "kernelspec": {
   "display_name": "Python 3.10.9 64-bit",
   "language": "python",
   "name": "python3"
  },
  "language_info": {
   "codemirror_mode": {
    "name": "ipython",
    "version": 3
   },
   "file_extension": ".py",
   "mimetype": "text/x-python",
   "name": "python",
   "nbconvert_exporter": "python",
   "pygments_lexer": "ipython3",
   "version": "3.10.9"
  },
  "orig_nbformat": 4,
  "vscode": {
   "interpreter": {
    "hash": "ed1c4bfab4690d67806cf533d12ae48a212eb9cbd358ee70c751e08b3ad01a48"
   }
  }
 },
 "nbformat": 4,
 "nbformat_minor": 2
}
