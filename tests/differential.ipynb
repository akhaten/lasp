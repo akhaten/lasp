{
 "cells": [
  {
   "cell_type": "code",
   "execution_count": 1,
   "metadata": {},
   "outputs": [],
   "source": [
    "import scipy.signal\n",
    "import numpy\n",
    "import sys\n",
    "sys.path.append('..')"
   ]
  },
  {
   "cell_type": "code",
   "execution_count": 2,
   "metadata": {},
   "outputs": [],
   "source": [
    "import lasp.differential\n",
    "import lasp.utils\n",
    "import lasp.filters.linear"
   ]
  },
  {
   "cell_type": "code",
   "execution_count": 3,
   "metadata": {},
   "outputs": [
    {
     "name": "stdout",
     "output_type": "stream",
     "text": [
      "[[ 0  1  2  3]\n",
      " [ 4  5  6  7]\n",
      " [ 8  9 10 11]\n",
      " [12 13 14 15]]\n"
     ]
    }
   ],
   "source": [
    "arr = numpy.reshape(numpy.arange(0, 16), (4, 4))\n",
    "arr_fft = numpy.fft.fft2(arr) # img in frequency domain\n",
    "print(arr)"
   ]
  },
  {
   "attachments": {},
   "cell_type": "markdown",
   "metadata": {},
   "source": [
    "## dx (with periodic boundary ie circular convolution)"
   ]
  },
  {
   "cell_type": "code",
   "execution_count": 4,
   "metadata": {},
   "outputs": [
    {
     "name": "stdout",
     "output_type": "stream",
     "text": [
      "padded :\n",
      " [[ 0.  0.  0.  0.]\n",
      " [ 0.  1. -1.  0.]\n",
      " [ 0.  0.  0.  0.]\n",
      " [ 0.  0.  0.  0.]]\n",
      "Kernel identity :\n",
      " [[0 0 0]\n",
      " [0 1 0]\n",
      " [0 0 0]]\n",
      "dx_oper :\n",
      " [[ 0.  0.  0.]\n",
      " [ 0.  1. -1.]\n",
      " [ 0.  0.  0.]]\n"
     ]
    }
   ],
   "source": [
    "# Derivation\n",
    "#dx_oper = numpy.array([[ 1, -1 ]]) # operator\n",
    "kernel2d_id = numpy.pad(numpy.array([[1]]), pad_width=1)\n",
    "dx_oper = lasp.differential.dx(kernel2d_id)\n",
    "\n",
    "\n",
    "## With convolution (ie spatial domain)\n",
    "arr_dx_v1 = scipy.signal.convolve2d(\n",
    "    arr, \n",
    "    dx_oper, \n",
    "    mode='same',\n",
    "    boundary='circular'\n",
    ")\n",
    "\n",
    "\n",
    "## With point wise product (THIS IS NOT CONVOLITION CIRCULARY)\n",
    "### Spatial convolution becomes a point wise product in frequency domain\n",
    "### For apply a filter in frequency domain, you must padded filter with\n",
    "### even dimensions that image then you make point wise product in frequency doamin\n",
    "dx_oper_pad = lasp.utils.pad(dx_oper, arr.shape)\n",
    "print('padded :\\n', dx_oper_pad)\n",
    "dx_oper_pad_fft = numpy.fft.fft2(dx_oper_pad) # operator in frequency domain\n",
    "arr_dx_fft_v2 = dx_oper_pad_fft * arr_fft # Point wise product in frequency domain\n",
    "arr_dx_v2 = numpy.real(numpy.fft.ifft2(arr_dx_fft_v2)) # Return in sptial\n",
    "\n",
    "\n",
    "# ## BCCB tricks\n",
    "dx_oper_diag = lasp.utils.fourier_diagonalization(dx_oper, arr.shape)\n",
    "arr_fft_dx_v3 = dx_oper_diag * arr_fft\n",
    "arr_dx_v3 = numpy.real(numpy.fft.ifft2(arr_fft_dx_v3))\n",
    "\n",
    "\n",
    "## With numpy\n",
    "arr_dx_v4 = lasp.differential.dx(arr)\n",
    "\n",
    "print('Kernel identity :\\n', kernel2d_id)\n",
    "print('dx_oper :\\n', dx_oper)\n",
    "axis = 1\n",
    "n= kernel2d_id.shape[axis]\n",
    "#print('numpy.diff :\\n', numpy.transpose(kernel2d_id[:, 0]))\n",
    "#print('numpy.diff :\\n', numpy.diff(kernel2d_id, prepend=numpy.transpose(kernel2d_id[:, 0])))\n",
    "#print('conv2d :\\n', arr_dx_v1)\n",
    "#print('spatial :\\n', arr_dx_v2)\n",
    "#print('BCCB :\\n', arr_dx_v3)\n",
    "#print('Direct :\\n', arr_dx_v4)\n",
    "#numpy.reshape(kernel2d_id[:, n-1], (-1, 1))\n"
   ]
  },
  {
   "attachments": {},
   "cell_type": "markdown",
   "metadata": {},
   "source": [
    "## dy"
   ]
  },
  {
   "cell_type": "code",
   "execution_count": 5,
   "metadata": {},
   "outputs": [
    {
     "name": "stdout",
     "output_type": "stream",
     "text": [
      "[[-12 -12 -12 -12]\n",
      " [  4   4   4   4]\n",
      " [  4   4   4   4]\n",
      " [  4   4   4   4]]\n",
      "[[-12. -12. -12. -12.]\n",
      " [  4.   4.   4.   4.]\n",
      " [  4.   4.   4.   4.]\n",
      " [  4.   4.   4.   4.]]\n",
      "[[  4.   4.   4.   4.]\n",
      " [  4.   4.   4.   4.]\n",
      " [  4.   4.   4.   4.]\n",
      " [-12. -12. -12. -12.]]\n",
      "[[-12. -12. -12. -12.]\n",
      " [  4.   4.   4.   4.]\n",
      " [  4.   4.   4.   4.]\n",
      " [  4.   4.   4.   4.]]\n"
     ]
    }
   ],
   "source": [
    "# Derivation\n",
    "dy_oper = numpy.transpose(numpy.array([[ 1, -1 ]])) # operator\n",
    "\n",
    "\n",
    "## With convolution (ie spatial domain)\n",
    "arr_dy_v1 = scipy.signal.convolve2d(\n",
    "    arr, \n",
    "    dy_oper, \n",
    "    mode ='same',\n",
    "    boundary = 'wrap'\n",
    ")\n",
    "\n",
    "\n",
    "## With point wise product\n",
    "### Spatial convolution becomes a point wise product in frequency domain\n",
    "### For apply a filter in frequency domain, you must padded filter with\n",
    "### even dimensions that image then you make point wise product in frequency doamin\n",
    "dy_oper_pad = lasp.utils.pad(dy_oper, arr.shape)\n",
    "dy_oper_pad_fft = numpy.fft.fft2(dy_oper_pad) # operator in frequency domain\n",
    "arr_dy_fft_v2 = dy_oper_pad_fft * arr_fft # Point wise product in frequency domain\n",
    "arr_dy_v2 = numpy.real(numpy.fft.ifft2(arr_dy_fft_v2)) # Return in sptial\n",
    "\n",
    "\n",
    "# ## BCCB tricks\n",
    "dy_oper_diag = lasp.utils.fourier_diagonalization(dy_oper, arr.shape)\n",
    "arr_fft_dy_v3 = dy_oper_diag * arr_fft\n",
    "arr_dy_v3 = numpy.real(numpy.fft.ifft2(arr_fft_dy_v3))\n",
    "\n",
    "\n",
    "## With numpy\n",
    "arr_dy_v4 = lasp.differential.dy(arr)\n",
    "\n",
    "print(arr_dy_v1)\n",
    "print(arr_dy_v2)\n",
    "print(arr_dy_v3)\n",
    "print(arr_dy_v4)"
   ]
  },
  {
   "attachments": {},
   "cell_type": "markdown",
   "metadata": {},
   "source": [
    "## dxT"
   ]
  },
  {
   "cell_type": "code",
   "execution_count": 6,
   "metadata": {},
   "outputs": [
    {
     "name": "stdout",
     "output_type": "stream",
     "text": [
      "Convolution : Not spatial operator\n",
      "Hadamard in Fourier:\n",
      " [[-1. -1. -1.  3.]\n",
      " [-1. -1. -1.  3.]\n",
      " [-1. -1. -1.  3.]\n",
      " [-1. -1. -1.  3.]]\n",
      "BCCB :\n",
      " [[ 3. -1. -1. -1.]\n",
      " [ 3. -1. -1. -1.]\n",
      " [ 3. -1. -1. -1.]\n",
      " [ 3. -1. -1. -1.]]\n",
      "dxT :\n",
      " [[-1. -1. -1.  3.]\n",
      " [-1. -1. -1.  3.]\n",
      " [-1. -1. -1.  3.]\n",
      " [-1. -1. -1.  3.]]\n"
     ]
    }
   ],
   "source": [
    "# Derivation\n",
    "\n",
    "dx_oper = numpy.array([[ 1, -1 ]]) # operator\n",
    "\n",
    "## With point wise product\n",
    "### Spatial convolution becomes a point wise product in frequency domain\n",
    "### For apply a filter in frequency domain, you must padded filter with\n",
    "### even dimensions that image then you make point wise product in frequency doamin\n",
    "dx_oper_pad = lasp.utils.pad(dx_oper, arr.shape)\n",
    "dx_oper_pad_fft = numpy.fft.fft2(dx_oper_pad)\n",
    "dxT_oper_pad_fft = numpy.conj(dx_oper_diag)\n",
    "arr_dxT_fft_v1 = dxT_oper_pad_fft * arr_fft # Point wise product in frequency domain\n",
    "arr_dxT_v1 = numpy.real(numpy.fft.ifft2(arr_dxT_fft_v1)) # Return in sptial\n",
    "\n",
    "\n",
    "# ## BCCB tricks\n",
    "# Derivation\n",
    "dx_oper_diag = lasp.utils.fourier_diagonalization(dx_oper, arr.shape)\n",
    "dxT_oper_diag = numpy.conj(dx_oper_diag)\n",
    "arr_fft_dxT_v2 = dxT_oper_diag * arr_fft\n",
    "arr_dxT_v2 = numpy.real(numpy.fft.ifft2(arr_fft_dxT_v2))\n",
    "\n",
    "\n",
    "## With numpy\n",
    "arr_dxT_v3 = lasp.differential.dxT(arr)\n",
    "\n",
    "\n",
    "\n",
    "print('Convolution :', 'Not spatial operator')\n",
    "print('Hadamard in Fourier:\\n', arr_dxT_v1)\n",
    "print('BCCB :\\n', arr_dxT_v2)\n",
    "print('dxT :\\n', arr_dxT_v3)\n",
    "\n"
   ]
  },
  {
   "attachments": {},
   "cell_type": "markdown",
   "metadata": {},
   "source": [
    "## dyT"
   ]
  },
  {
   "cell_type": "code",
   "execution_count": 7,
   "metadata": {},
   "outputs": [
    {
     "name": "stdout",
     "output_type": "stream",
     "text": [
      "Convolution : Not spatial operator\n",
      "Hadamard in Fourier:\n",
      " [[12. 12. 12. 12.]\n",
      " [-4. -4. -4. -4.]\n",
      " [-4. -4. -4. -4.]\n",
      " [-4. -4. -4. -4.]]\n",
      "BCCB :\n",
      " [[12. 12. 12. 12.]\n",
      " [-4. -4. -4. -4.]\n",
      " [-4. -4. -4. -4.]\n",
      " [-4. -4. -4. -4.]]\n",
      "dxT :\n",
      " [[-4. -4. -4. -4.]\n",
      " [-4. -4. -4. -4.]\n",
      " [-4. -4. -4. -4.]\n",
      " [12. 12. 12. 12.]]\n"
     ]
    }
   ],
   "source": [
    "# Derivation\n",
    "\n",
    "dy_oper = numpy.transpose(numpy.array([[ 1, -1 ]])) # operator\n",
    "\n",
    "## With point wise product\n",
    "### Spatial convolution becomes a point wise product in frequency domain\n",
    "### For apply a filter in frequency domain, you must padded filter with\n",
    "### even dimensions that image then you make point wise product in frequency doamin\n",
    "dy_oper_pad = lasp.utils.pad(dy_oper, arr.shape)\n",
    "dy_oper_pad_fft = numpy.fft.fft2(dy_oper_pad)\n",
    "dyT_oper_pad_fft = numpy.conj(dy_oper_diag)\n",
    "arr_dyT_fft_v1 = dyT_oper_pad_fft * arr_fft # Point wise product in frequency domain\n",
    "arr_dyT_v1 = numpy.real(numpy.fft.ifft2(arr_dyT_fft_v1)) # Return in sptial\n",
    "\n",
    "\n",
    "# ## BCCB tricks\n",
    "# Derivation\n",
    "dy_oper_diag = lasp.utils.fourier_diagonalization(dy_oper, arr.shape)\n",
    "dyT_oper_diag = numpy.conj(dy_oper_diag)\n",
    "arr_fft_dyT_v2 = dyT_oper_diag * arr_fft\n",
    "arr_dyT_v2 = numpy.real(numpy.fft.ifft2(arr_fft_dyT_v2))\n",
    "\n",
    "\n",
    "## With numpy\n",
    "arr_dyT_v3 = lasp.differential.dyT(arr)\n",
    "\n",
    "print('Convolution :', 'Not spatial operator')\n",
    "print('Hadamard in Fourier:\\n', arr_dyT_v1)\n",
    "print('BCCB :\\n', arr_dyT_v2)\n",
    "print('dxT :\\n', arr_dyT_v3)"
   ]
  },
  {
   "attachments": {},
   "cell_type": "markdown",
   "metadata": {},
   "source": [
    "## Laplacian"
   ]
  },
  {
   "cell_type": "code",
   "execution_count": 8,
   "metadata": {},
   "outputs": [
    {
     "name": "stdout",
     "output_type": "stream",
     "text": [
      "lap filter :\n",
      " [[ 0 -1  0]\n",
      " [-1  4 -1]\n",
      " [ 0 -1  0]]\n",
      "\n",
      "Results :\n",
      "\n",
      "Lap v1 :\n",
      " [[ 16. -16.   0.   0.]\n",
      " [ 16.  16.  16.  16.]\n",
      " [ 32.  32.  32.  32.]\n",
      " [ 16.  16.  16.  16.]]\n",
      "lap v2 :\n",
      " [[ 20.  12.  16.  16.]\n",
      " [-12. -20. -16. -16.]\n",
      " [  4.  -4.   0.   0.]\n",
      " [  4.  -4.   0.   0.]]\n"
     ]
    }
   ],
   "source": [
    "x_oper = numpy.array([[ 1, -1 ]]) # operator\n",
    "dx_oper_pad = lasp.utils.pad(dx_oper, arr.shape)\n",
    "dx_oper_pad_fft = numpy.fft.fft2(dx_oper_pad)\n",
    "dxT_oper_pad_fft = numpy.conj(dx_oper_diag)\n",
    "\n",
    "dy_oper = numpy.transpose(numpy.array([[ 1, -1 ]])) # operator\n",
    "dy_oper_pad = lasp.utils.pad(dy_oper, arr.shape)\n",
    "dy_oper_pad_fft = numpy.fft.fft2(dy_oper_pad)\n",
    "dyT_oper_pad_fft = numpy.conj(dy_oper_diag)\n",
    "\n",
    "lap_pad_fft_v1 = \\\n",
    "    dxT_oper_pad_fft * dx_oper_pad_fft \\\n",
    "    + dyT_oper_pad_fft * dy_oper_pad_fft\n",
    "\n",
    "arr_lap_fft_v1 = lap_pad_fft_v1 * arr_fft\n",
    "arr_lap_v1 = numpy.real(numpy.fft.ifft(arr_lap_fft_v1))\n",
    "\n",
    "###########################\n",
    "\n",
    "lap_filter = lasp.filters.linear.laplacian()\n",
    "print('lap filter :\\n', lap_filter)\n",
    "\n",
    "lap_pad_v2 = lasp.utils.pad(lap_filter, arr.shape)\n",
    "lap_pad_fft_v2 = numpy.fft.fft2(lap_pad_v2)\n",
    "\n",
    "arr_lap_fft_v2 = lap_pad_fft_v2 * arr_fft\n",
    "arr_lap_v2 = numpy.real(numpy.fft.ifft2(arr_lap_fft_v2))\n",
    "\n",
    "###########################\n",
    "\n",
    "print('\\nResults :\\n')\n",
    "print('Lap v1 :\\n', arr_lap_v1)\n",
    "print('lap v2 :\\n', arr_lap_v2)"
   ]
  },
  {
   "cell_type": "code",
   "execution_count": 9,
   "metadata": {},
   "outputs": [
    {
     "name": "stdout",
     "output_type": "stream",
     "text": [
      "With laplacian filter :\n",
      " [[ 16. -16.   0.   0.]\n",
      " [ 16.  16.  16.  16.]\n",
      " [ 32.  32.  32.  32.]\n",
      " [ 16.  16.  16.  16.]]\n",
      "With laplacian definition :\n",
      " [[ 20.  12.  16.  16.]\n",
      " [-12. -20. -16. -16.]\n",
      " [  4.  -4.   0.   0.]\n",
      " [  4.  -4.   0.   0.]]\n",
      "[[ True  True  True  True]\n",
      " [ True  True  True  True]\n",
      " [ True  True  True  True]\n",
      " [ True  True  True  True]]\n"
     ]
    }
   ],
   "source": [
    "laplacian = lasp.filters.linear.laplacian()\n",
    "lap_diag_v1 = lasp.utils.fourier_diagonalization(\n",
    "    kernel = laplacian,\n",
    "    shape_out = arr.shape \n",
    ")\n",
    "\n",
    "arr_lap_fft_v1 = lap_diag_v1 * arr_fft\n",
    "arr_lap_v1 = numpy.real(numpy.fft.ifft(arr_lap_fft_v1))\n",
    "\n",
    "Dx_pad = lasp.utils.pad(numpy.array([[1, -1]]), arr.shape)\n",
    "Dx = numpy.fft.fft2(Dx_pad)\n",
    "Dxt = numpy.conj(Dx)\n",
    "\n",
    "Dy_pad = lasp.utils.pad(numpy.transpose(numpy.array([[1, -1]])), arr.shape)\n",
    "Dy = numpy.fft.fft2(Dy_pad)\n",
    "Dyt = numpy.conj(Dy)\n",
    "\n",
    "Dx_diag = lasp.utils.fourier_diagonalization(\n",
    "    kernel = Dx_pad,\n",
    "    shape_out = arr.shape \n",
    ")\n",
    "Dxt_diag = numpy.conj(Dx_diag)\n",
    "\n",
    "Dy_diag = lasp.utils.fourier_diagonalization(\n",
    "    kernel = Dy_pad,\n",
    "    shape_out = arr.shape \n",
    ")\n",
    "Dyt_diag = numpy.conj(Dy_diag)\n",
    "\n",
    "lap_diag_v2 = Dxt_diag * Dx_diag + Dyt_diag * Dy_diag\n",
    "\n",
    "arr_lap_fft_v1 = lap_diag_v2 * arr_fft\n",
    "arr_lap_v1 = numpy.real(numpy.fft.ifft(arr_lap_fft_v2))\n",
    "\n",
    "###\n",
    "\n",
    "F2D = Dxt*Dx+Dyt*Dy\n",
    "\n",
    "print('With laplacian filter :\\n', arr_lap_v1)\n",
    "print('With laplacian definition :\\n', arr_lap_v2)\n",
    "print((F2D == lap_diag_v2))"
   ]
  },
  {
   "cell_type": "code",
   "execution_count": 10,
   "metadata": {},
   "outputs": [
    {
     "name": "stdout",
     "output_type": "stream",
     "text": [
      "[[-3.  1.  1.  1.]\n",
      " [-3.  1.  1.  1.]\n",
      " [-3.  1.  1.  1.]\n",
      " [-3.  1.  1.  1.]]\n"
     ]
    }
   ],
   "source": [
    "## Test\n",
    "kernel2d_id = numpy.pad(numpy.array([[1]]), pad_width=1)\n",
    "dx_oper = lasp.differential.dx(kernel2d_id)\n",
    "arr_id = scipy.signal.convolve2d(arr, kernel2d_id, mode='same')\n",
    "\n",
    "arr_dx = scipy.signal.convolve2d(arr, dx_oper, mode='same', boundary='wrap')\n",
    "print(arr_dx)"
   ]
  },
  {
   "cell_type": "code",
   "execution_count": 40,
   "metadata": {},
   "outputs": [
    {
     "ename": "ValueError",
     "evalue": "all input arrays must have the same shape",
     "output_type": "error",
     "traceback": [
      "\u001b[1;31m---------------------------------------------------------------------------\u001b[0m",
      "\u001b[1;31mValueError\u001b[0m                                Traceback (most recent call last)",
      "Cell \u001b[1;32mIn[40], line 4\u001b[0m\n\u001b[0;32m      1\u001b[0m kernel3d_id \u001b[39m=\u001b[39m numpy\u001b[39m.\u001b[39mpad(numpy\u001b[39m.\u001b[39marray([[[\u001b[39m1\u001b[39m]]]), pad_width\u001b[39m=\u001b[39m\u001b[39m1\u001b[39m)\n\u001b[0;32m      3\u001b[0m n \u001b[39m=\u001b[39m kernel3d_id\u001b[39m.\u001b[39mshape[\u001b[39m0\u001b[39m]\n\u001b[1;32m----> 4\u001b[0m tmp \u001b[39m=\u001b[39m numpy\u001b[39m.\u001b[39;49mstack((kernel3d_id, kernel3d_id[n\u001b[39m-\u001b[39;49m\u001b[39m1\u001b[39;49m, :, :]), axis\u001b[39m=\u001b[39;49m\u001b[39m0\u001b[39;49m)\n\u001b[0;32m      6\u001b[0m numpy\u001b[39m.\u001b[39mdiff(tmp, axis\u001b[39m=\u001b[39m\u001b[39m0\u001b[39m)\n",
      "File \u001b[1;32md:\\lasp\\venv\\lib\\site-packages\\numpy\\core\\shape_base.py:449\u001b[0m, in \u001b[0;36mstack\u001b[1;34m(arrays, axis, out, dtype, casting)\u001b[0m\n\u001b[0;32m    447\u001b[0m shapes \u001b[39m=\u001b[39m {arr\u001b[39m.\u001b[39mshape \u001b[39mfor\u001b[39;00m arr \u001b[39min\u001b[39;00m arrays}\n\u001b[0;32m    448\u001b[0m \u001b[39mif\u001b[39;00m \u001b[39mlen\u001b[39m(shapes) \u001b[39m!=\u001b[39m \u001b[39m1\u001b[39m:\n\u001b[1;32m--> 449\u001b[0m     \u001b[39mraise\u001b[39;00m \u001b[39mValueError\u001b[39;00m(\u001b[39m'\u001b[39m\u001b[39mall input arrays must have the same shape\u001b[39m\u001b[39m'\u001b[39m)\n\u001b[0;32m    451\u001b[0m result_ndim \u001b[39m=\u001b[39m arrays[\u001b[39m0\u001b[39m]\u001b[39m.\u001b[39mndim \u001b[39m+\u001b[39m \u001b[39m1\u001b[39m\n\u001b[0;32m    452\u001b[0m axis \u001b[39m=\u001b[39m normalize_axis_index(axis, result_ndim)\n",
      "\u001b[1;31mValueError\u001b[0m: all input arrays must have the same shape"
     ]
    }
   ],
   "source": [
    "kernel3d_id = numpy.pad(numpy.array([[[1]]]), pad_width=1)\n",
    "\n",
    "n = kernel3d_id.shape[0]\n",
    "\n",
    "\n",
    "tmp = numpy.stack((, kernel3d_id[n-1, :, :]), axis=0)\n",
    "\n",
    "numpy.diff(tmp, prepend= axis=0)\n"
   ]
  },
  {
   "cell_type": "code",
   "execution_count": 11,
   "metadata": {},
   "outputs": [],
   "source": [
    "def derivation(arr: numpy.ndarray, axis: int) -> numpy.ndarray:\n",
    "    shape = numpy.copy(arr.shape)\n",
    "    n = shape[axis]\n",
    "    taken = numpy.take(arr, axis=axis, indices=n-1)\n",
    "    shape[axis] = 1\n",
    "    to_add = numpy.reshape(taken, shape)\n",
    "    return numpy.diff(arr, prepend=to_add, axis=axis)"
   ]
  },
  {
   "cell_type": "code",
   "execution_count": 13,
   "metadata": {},
   "outputs": [
    {
     "data": {
      "text/plain": [
       "array([[0, 0, 0],\n",
       "       [0, 1, 0],\n",
       "       [0, 0, 0]])"
      ]
     },
     "execution_count": 13,
     "metadata": {},
     "output_type": "execute_result"
    }
   ],
   "source": [
    "kernel2d_id = numpy.pad(numpy.array([[1]]), pad_width=1)\n",
    "kernel2d_id"
   ]
  },
  {
   "cell_type": "code",
   "execution_count": 15,
   "metadata": {},
   "outputs": [
    {
     "data": {
      "text/plain": [
       "array([[[0, 0, 0],\n",
       "        [0, 0, 0],\n",
       "        [0, 0, 0]],\n",
       "\n",
       "       [[0, 0, 0],\n",
       "        [0, 1, 0],\n",
       "        [0, 0, 0]],\n",
       "\n",
       "       [[0, 0, 0],\n",
       "        [0, 0, 0],\n",
       "        [0, 0, 0]]])"
      ]
     },
     "execution_count": 15,
     "metadata": {},
     "output_type": "execute_result"
    }
   ],
   "source": [
    "kernel3d_id = numpy.pad(numpy.array([[[1]]]), pad_width=1)\n",
    "kernel3d_id"
   ]
  },
  {
   "cell_type": "code",
   "execution_count": 16,
   "metadata": {},
   "outputs": [
    {
     "name": "stdout",
     "output_type": "stream",
     "text": [
      "[[ 0  0  0]\n",
      " [ 0  1 -1]\n",
      " [ 0  0  0]]\n",
      "[[ 0.  0.  0.]\n",
      " [ 0.  1. -1.]\n",
      " [ 0.  0.  0.]]\n"
     ]
    }
   ],
   "source": [
    "print(derivation(kernel2d_id, 1))\n",
    "print(lasp.differential.dx(kernel2d_id))"
   ]
  },
  {
   "cell_type": "code",
   "execution_count": 17,
   "metadata": {},
   "outputs": [
    {
     "name": "stdout",
     "output_type": "stream",
     "text": [
      "[[ 0  0  0]\n",
      " [ 0  1  0]\n",
      " [ 0 -1  0]]\n",
      "[[ 0.  0.  0.]\n",
      " [ 0.  1.  0.]\n",
      " [ 0. -1.  0.]]\n"
     ]
    }
   ],
   "source": [
    "print(derivation(kernel2d_id, 0))\n",
    "print(lasp.differential.dy(kernel2d_id))"
   ]
  },
  {
   "cell_type": "code",
   "execution_count": 18,
   "metadata": {},
   "outputs": [
    {
     "name": "stdout",
     "output_type": "stream",
     "text": [
      "[[[ 0  0  0]\n",
      "  [ 0  0  0]\n",
      "  [ 0  0  0]]\n",
      "\n",
      " [[ 0  0  0]\n",
      "  [ 0  1  0]\n",
      "  [ 0 -1  0]]\n",
      "\n",
      " [[ 0  0  0]\n",
      "  [ 0  0  0]\n",
      "  [ 0  0  0]]]\n"
     ]
    }
   ],
   "source": [
    "print(derivation(kernel3d_id, 1))"
   ]
  },
  {
   "cell_type": "code",
   "execution_count": 19,
   "metadata": {},
   "outputs": [
    {
     "name": "stdout",
     "output_type": "stream",
     "text": [
      "[[[ 0  0  0]\n",
      "  [ 0  0  0]\n",
      "  [ 0  0  0]]\n",
      "\n",
      " [[ 0  0  0]\n",
      "  [ 0  1  0]\n",
      "  [ 0  0  0]]\n",
      "\n",
      " [[ 0  0  0]\n",
      "  [ 0 -1  0]\n",
      "  [ 0  0  0]]]\n"
     ]
    }
   ],
   "source": [
    "print(derivation(kernel3d_id, 0))"
   ]
  },
  {
   "cell_type": "code",
   "execution_count": 20,
   "metadata": {},
   "outputs": [
    {
     "name": "stdout",
     "output_type": "stream",
     "text": [
      "[[[ 0  0  0]\n",
      "  [ 0  0  0]\n",
      "  [ 0  0  0]]\n",
      "\n",
      " [[ 0  0  0]\n",
      "  [ 0  1 -1]\n",
      "  [ 0  0  0]]\n",
      "\n",
      " [[ 0  0  0]\n",
      "  [ 0  0  0]\n",
      "  [ 0  0  0]]]\n"
     ]
    }
   ],
   "source": [
    "print(derivation(kernel3d_id, 2))"
   ]
  },
  {
   "cell_type": "code",
   "execution_count": 86,
   "metadata": {},
   "outputs": [
    {
     "data": {
      "text/plain": [
       "array([[[0., 0., 0.],\n",
       "        [0., 0., 0.],\n",
       "        [0., 0., 0.]],\n",
       "\n",
       "       [[0., 0., 0.],\n",
       "        [0., 1., 0.],\n",
       "        [0., 0., 0.]],\n",
       "\n",
       "       [[0., 0., 0.],\n",
       "        [0., 0., 0.],\n",
       "        [0., 0., 0.]]])"
      ]
     },
     "execution_count": 86,
     "metadata": {},
     "output_type": "execute_result"
    }
   ],
   "source": [
    "d = 3\n",
    "zeros = numpy.zeros((d, d, d))\n",
    "center = lasp.utils.compute_center(zeros)\n",
    "zeros[ tuple(center)] = 1\n",
    "zeros"
   ]
  },
  {
   "cell_type": "code",
   "execution_count": 88,
   "metadata": {},
   "outputs": [
    {
     "data": {
      "text/plain": [
       "array([[3, 3, 3]])"
      ]
     },
     "execution_count": 88,
     "metadata": {},
     "output_type": "execute_result"
    }
   ],
   "source": [
    "numpy.full(shape=(1, d), fill_value=1)"
   ]
  },
  {
   "cell_type": "code",
   "execution_count": 95,
   "metadata": {},
   "outputs": [
    {
     "name": "stdout",
     "output_type": "stream",
     "text": [
      "[1 1]\n",
      "(1, 1)\n"
     ]
    },
    {
     "data": {
      "text/plain": [
       "array([[0, 0, 0],\n",
       "       [0, 1, 0],\n",
       "       [0, 0, 0]])"
      ]
     },
     "execution_count": 95,
     "metadata": {},
     "output_type": "execute_result"
    }
   ],
   "source": [
    "d = 2\n",
    "shape = numpy.full(shape=d, fill_value=1)\n",
    "print(shape)\n",
    "tshape = tuple(shape)\n",
    "print(tshape)\n",
    "one_nd = numpy.full(shape=tuple(shape), fill_value=1)\n",
    "numpy.pad(array=one_nd, pad_width=1)"
   ]
  },
  {
   "cell_type": "code",
   "execution_count": 100,
   "metadata": {},
   "outputs": [],
   "source": [
    "def kernel_identity(dim: int) -> numpy.array:\n",
    "    shape = numpy.full(shape=dim, fill_value=1)\n",
    "    one_nd = numpy.full(shape=tuple(shape), fill_value=1)\n",
    "    return numpy.pad(array=one_nd, pad_width=1)"
   ]
  },
  {
   "cell_type": "code",
   "execution_count": 107,
   "metadata": {},
   "outputs": [
    {
     "data": {
      "text/plain": [
       "array([[0, 0, 0],\n",
       "       [0, 1, 0],\n",
       "       [0, 0, 0]])"
      ]
     },
     "execution_count": 107,
     "metadata": {},
     "output_type": "execute_result"
    }
   ],
   "source": [
    "ker_id_2d = kernel_identity(dim=2)\n",
    "ker_id_2d"
   ]
  },
  {
   "cell_type": "code",
   "execution_count": 108,
   "metadata": {},
   "outputs": [
    {
     "data": {
      "text/plain": [
       "array([[ 0,  0,  0],\n",
       "       [ 0,  1,  0],\n",
       "       [ 0, -1,  0]])"
      ]
     },
     "execution_count": 108,
     "metadata": {},
     "output_type": "execute_result"
    }
   ],
   "source": [
    "d_0 = derivation(ker_id_2d, axis=0)\n",
    "d_0"
   ]
  },
  {
   "cell_type": "code",
   "execution_count": 109,
   "metadata": {},
   "outputs": [
    {
     "data": {
      "text/plain": [
       "array([[ 0,  0,  0],\n",
       "       [ 0,  1, -1],\n",
       "       [ 0,  0,  0]])"
      ]
     },
     "execution_count": 109,
     "metadata": {},
     "output_type": "execute_result"
    }
   ],
   "source": [
    "d_1 = derivation(ker_id_2d, axis=1)\n",
    "d_1"
   ]
  },
  {
   "cell_type": "code",
   "execution_count": null,
   "metadata": {},
   "outputs": [],
   "source": []
  }
 ],
 "metadata": {
  "kernelspec": {
   "display_name": "Python 3.10.8 64-bit",
   "language": "python",
   "name": "python3"
  },
  "language_info": {
   "codemirror_mode": {
    "name": "ipython",
    "version": 3
   },
   "file_extension": ".py",
   "mimetype": "text/x-python",
   "name": "python",
   "nbconvert_exporter": "python",
   "pygments_lexer": "ipython3",
   "version": "3.10.11"
  },
  "orig_nbformat": 4,
  "vscode": {
   "interpreter": {
    "hash": "45713a178c5a966329bc5f3278f046d4b32f51be72879f469edfd7ae44ddee4d"
   }
  }
 },
 "nbformat": 4,
 "nbformat_minor": 2
}
