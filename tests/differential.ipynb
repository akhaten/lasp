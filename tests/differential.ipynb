{
 "cells": [
  {
   "cell_type": "code",
   "execution_count": 37,
   "metadata": {},
   "outputs": [],
   "source": [
    "import sys\n",
    "sys.path.append('..')"
   ]
  },
  {
   "cell_type": "code",
   "execution_count": 38,
   "metadata": {},
   "outputs": [],
   "source": [
    "import lasp.differential\n",
    "\n",
    "import scipy.signal\n",
    "import numpy"
   ]
  },
  {
   "cell_type": "code",
   "execution_count": 39,
   "metadata": {},
   "outputs": [
    {
     "data": {
      "text/plain": [
       "array([[0, 1, 2],\n",
       "       [3, 4, 5],\n",
       "       [6, 7, 8]])"
      ]
     },
     "execution_count": 39,
     "metadata": {},
     "output_type": "execute_result"
    }
   ],
   "source": [
    "arr = numpy.reshape(numpy.arange(0, 9), (3, 3))\n",
    "arr"
   ]
  },
  {
   "cell_type": "code",
   "execution_count": 45,
   "metadata": {},
   "outputs": [
    {
     "name": "stdout",
     "output_type": "stream",
     "text": [
      "[[-2.  1.  1.]\n",
      " [-2.  1.  1.]\n",
      " [-2.  1.  1.]]\n",
      "[[-2  1  1]\n",
      " [-2  1  1]\n",
      " [-2  1  1]]\n",
      "[[-2.  1.  1.]\n",
      " [-2.  1.  1.]\n",
      " [-2.  1.  1.]]\n"
     ]
    }
   ],
   "source": [
    "# Derivation with circular boundary\n",
    "\n",
    "## With numpy\n",
    "dx1 = lasp.differential.dx(arr)\n",
    "\n",
    "## With convolution (ie spatial domain)\n",
    "dx2 = scipy.signal.convolve2d(arr, numpy.array([[1, -1]]), mode='same', boundary='wrap')\n",
    "\n",
    "## With point wise product\n",
    "### Spatial convolution becomes a point wise product in frequency domain\n",
    "### For apply a filter in frequency domain, you must padded filter with\n",
    "### even dimensions that image then you make point wise product in frequency doamin\n",
    "dx_oper = numpy.array([1, -1]) # operator\n",
    "dx_oper_pad = numpy.zeros(shape=(3, 3))\n",
    "dx_oper_pad[0, 0:2] = dx_oper # operator padded\n",
    "dx_oper_pad_fft = numpy.fft.fft2(dx_oper_pad) # operator in frequency domain\n",
    "arr_fft = numpy.fft.fft2(arr) # img in frequency domain\n",
    "dx_fft = dx_oper_pad_fft * arr_fft # Point wise product in frequency domain\n",
    "dx3 = numpy.real(numpy.fft.ifft2(dx_fft))\n",
    "\n",
    "## BCCB tricks\n",
    "DX_diag = lasp.utils.fourier_diagonalization(numpy.arra, shape_out=DX.shape)\n",
    "print(numpy.real(numpy.fft.ifft2(DX_diag * numpy.fft.fft2(arr))))\n",
    "\n",
    "\n",
    "\n",
    "\n",
    "print(dx1)\n",
    "print(dx2)\n",
    "print(dx3)"
   ]
  },
  {
   "cell_type": "code",
   "execution_count": 41,
   "metadata": {},
   "outputs": [
    {
     "name": "stdout",
     "output_type": "stream",
     "text": [
      "[[-6. -6. -6.]\n",
      " [ 3.  3.  3.]\n",
      " [ 3.  3.  3.]]\n",
      "[[-6 -6 -6]\n",
      " [ 3  3  3]\n",
      " [ 3  3  3]]\n"
     ]
    }
   ],
   "source": [
    "dy1 = lasp.differential.dy(arr)\n",
    "dy2 = scipy.signal.convolve2d(arr, numpy.array([[1], [-1]]), mode='same', boundary='wrap')\n",
    "print(dy1)\n",
    "print(dy2)"
   ]
  },
  {
   "cell_type": "code",
   "execution_count": 42,
   "metadata": {},
   "outputs": [],
   "source": [
    "import lasp.utils\n"
   ]
  },
  {
   "cell_type": "code",
   "execution_count": 43,
   "metadata": {},
   "outputs": [
    {
     "name": "stdout",
     "output_type": "stream",
     "text": [
      "[[ 1. -1.  0.]\n",
      " [ 0.  0.  0.]\n",
      " [ 0.  0.  0.]]\n",
      "[[-2.  1.  1.]\n",
      " [-2.  1.  1.]\n",
      " [-2.  1.  1.]]\n"
     ]
    }
   ],
   "source": []
  },
  {
   "cell_type": "code",
   "execution_count": 44,
   "metadata": {},
   "outputs": [
    {
     "name": "stdout",
     "output_type": "stream",
     "text": [
      "[[-1. -1.  2.]\n",
      " [-1. -1.  2.]\n",
      " [-1. -1.  2.]]\n",
      "[[-1. -1.  2.]\n",
      " [-1. -1.  2.]\n",
      " [-1. -1.  2.]]\n"
     ]
    }
   ],
   "source": [
    "dxt = lasp.differential.dxT(arr)\n",
    "print(dxt)\n",
    "print(numpy.real(numpy.fft.ifft2(numpy.conj(numpy.fft.fft2(DX)) * numpy.fft.fft2(arr))))"
   ]
  },
  {
   "cell_type": "code",
   "execution_count": 31,
   "metadata": {},
   "outputs": [
    {
     "name": "stdout",
     "output_type": "stream",
     "text": [
      "[[ 1.  0.  0. ...  0.  0.  0.]\n",
      " [-1.  0.  0. ...  0.  0.  0.]\n",
      " [ 0.  0.  0. ...  0.  0.  0.]\n",
      " ...\n",
      " [ 0.  0.  0. ...  0.  0.  0.]\n",
      " [ 0.  0.  0. ...  0.  0.  0.]\n",
      " [ 0.  0.  0. ...  0.  0.  0.]]\n"
     ]
    }
   ],
   "source": [
    "DY = numpy.zeros(shape=(512, 512))\n",
    "DY[0:2, 0] = numpy.transpose(numpy.array([1, -1]))\n",
    "print(DY)\n",
    "# print(numpy.real(numpy.fft.ifft2(numpy.fft.fft2(DY) * numpy.fft.fft2(arr))))"
   ]
  },
  {
   "cell_type": "code",
   "execution_count": 36,
   "metadata": {},
   "outputs": [],
   "source": [
    "# FDX = numpy.fft.fft2(DX)\n",
    "# FDY = numpy.fft.fft2(DY)\n",
    "# FDX2 = numpy.abs(FDX)**2\n",
    "# FDY2 = numpy.abs(FDY)**2\n",
    "# FDX2+FDY2"
   ]
  },
  {
   "cell_type": "code",
   "execution_count": 35,
   "metadata": {},
   "outputs": [
    {
     "name": "stdout",
     "output_type": "stream",
     "text": [
      "[[ 1.  1. -2.]\n",
      " [ 1.  1. -2.]\n",
      " [ 1.  1. -2.]]\n"
     ]
    }
   ],
   "source": [
    "\n",
    "\n",
    "# DY_diag = lasp.utils.fourier_diagonalization(DY, shape_out=DY.shape)\n",
    "# print(DX_diag)\n",
    "# print(DY_diag)"
   ]
  },
  {
   "cell_type": "code",
   "execution_count": 21,
   "metadata": {},
   "outputs": [],
   "source": [
    "DX_diag_2 = numpy.abs(DX_diag)**2\n",
    "DY_diag_2 = numpy.abs(DY_diag)**2"
   ]
  },
  {
   "cell_type": "code",
   "execution_count": 22,
   "metadata": {},
   "outputs": [
    {
     "data": {
      "text/plain": [
       "array([[0., 3., 3.],\n",
       "       [3., 6., 6.],\n",
       "       [3., 6., 6.]])"
      ]
     },
     "execution_count": 22,
     "metadata": {},
     "output_type": "execute_result"
    }
   ],
   "source": [
    "lap = DX_diag_2 + DY_diag_2\n",
    "lap"
   ]
  },
  {
   "cell_type": "code",
   "execution_count": 23,
   "metadata": {},
   "outputs": [
    {
     "name": "stdout",
     "output_type": "stream",
     "text": [
      "[[-1  0  1]\n",
      " [ 0  0  0]\n",
      " [ 0  0  0]]\n",
      "[[ 1.  1. -2.]\n",
      " [ 1.  1. -2.]\n",
      " [ 1.  1. -2.]]\n"
     ]
    }
   ],
   "source": [
    "DY = numpy.zeros_like(arr)\n",
    "DY[0, 0] = -1\n",
    "DY[0, 2] = 1\n",
    "print(DY)\n",
    "print(numpy.real(numpy.fft.ifft2(numpy.fft.fft2(DY) * numpy.fft.fft2(arr))))"
   ]
  },
  {
   "cell_type": "code",
   "execution_count": null,
   "metadata": {},
   "outputs": [],
   "source": []
  }
 ],
 "metadata": {
  "interpreter": {
   "hash": "ed1c4bfab4690d67806cf533d12ae48a212eb9cbd358ee70c751e08b3ad01a48"
  },
  "kernelspec": {
   "display_name": "Python 3.10.9 64-bit",
   "language": "python",
   "name": "python3"
  },
  "language_info": {
   "codemirror_mode": {
    "name": "ipython",
    "version": 3
   },
   "file_extension": ".py",
   "mimetype": "text/x-python",
   "name": "python",
   "nbconvert_exporter": "python",
   "pygments_lexer": "ipython3",
   "version": "3.10.9"
  },
  "orig_nbformat": 4
 },
 "nbformat": 4,
 "nbformat_minor": 2
}
