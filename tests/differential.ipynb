{
 "cells": [
  {
   "cell_type": "code",
   "execution_count": 5,
   "metadata": {},
   "outputs": [],
   "source": [
    "import scipy.signal\n",
    "import numpy\n",
    "import sys\n",
    "sys.path.append('..')"
   ]
  },
  {
   "cell_type": "code",
   "execution_count": 6,
   "metadata": {},
   "outputs": [],
   "source": [
    "import lasp.differential\n",
    "import lasp.utils\n",
    "import lasp.filters.linear"
   ]
  },
  {
   "cell_type": "code",
   "execution_count": 7,
   "metadata": {},
   "outputs": [
    {
     "name": "stdout",
     "output_type": "stream",
     "text": [
      "[[ 0  1  2  3]\n",
      " [ 4  5  6  7]\n",
      " [ 8  9 10 11]\n",
      " [12 13 14 15]]\n"
     ]
    }
   ],
   "source": [
    "arr = numpy.reshape(numpy.arange(0, 16), (4, 4))\n",
    "arr_fft = numpy.fft.fft2(arr) # img in frequency domain\n",
    "print(arr)"
   ]
  },
  {
   "attachments": {},
   "cell_type": "markdown",
   "metadata": {},
   "source": [
    "## dx (with periodic boundary ie circular convolution)"
   ]
  },
  {
   "cell_type": "code",
   "execution_count": 8,
   "metadata": {},
   "outputs": [
    {
     "name": "stdout",
     "output_type": "stream",
     "text": [
      "padded :\n",
      " [[ 0.  0.  0.  0.]\n",
      " [ 0.  1. -1.  0.]\n",
      " [ 0.  0.  0.  0.]\n",
      " [ 0.  0.  0.  0.]]\n",
      "Kernel identity :\n",
      " [[0 0 0]\n",
      " [0 1 0]\n",
      " [0 0 0]]\n",
      "dx_oper :\n",
      " [[ 0.  0.  0.]\n",
      " [ 0.  1. -1.]\n",
      " [ 0.  0.  0.]]\n",
      "[[-3.  1.  1.  1.]\n",
      " [-3.  1.  1.  1.]\n",
      " [-3.  1.  1.  1.]\n",
      " [-3.  1.  1.  1.]]\n"
     ]
    }
   ],
   "source": [
    "# Derivation\n",
    "#dx_oper = numpy.array([[ 1, -1 ]]) # operator\n",
    "kernel2d_id = numpy.pad(numpy.array([[1]]), pad_width=1)\n",
    "dx_oper = lasp.differential.dx(kernel2d_id)\n",
    "\n",
    "\n",
    "## With convolution (ie spatial domain)\n",
    "arr_dx_v1 = scipy.signal.convolve2d(\n",
    "    arr, \n",
    "    dx_oper, \n",
    "    mode='same',\n",
    "    boundary='circular'\n",
    ")\n",
    "\n",
    "\n",
    "## With point wise product (THIS IS NOT CONVOLITION CIRCULARY)\n",
    "### Spatial convolution becomes a point wise product in frequency domain\n",
    "### For apply a filter in frequency domain, you must padded filter with\n",
    "### even dimensions that image then you make point wise product in frequency doamin\n",
    "dx_oper_pad = lasp.utils.pad(dx_oper, arr.shape)\n",
    "print('padded :\\n', dx_oper_pad)\n",
    "dx_oper_pad_fft = numpy.fft.fft2(dx_oper_pad) # operator in frequency domain\n",
    "arr_dx_fft_v2 = dx_oper_pad_fft * arr_fft # Point wise product in frequency domain\n",
    "arr_dx_v2 = numpy.real(numpy.fft.ifft2(arr_dx_fft_v2)) # Return in sptial\n",
    "\n",
    "\n",
    "# ## BCCB tricks\n",
    "dx_oper_diag = lasp.utils.fourier_diagonalization(dx_oper, arr.shape)\n",
    "arr_fft_dx_v3 = dx_oper_diag * arr_fft\n",
    "arr_dx_v3 = numpy.real(numpy.fft.ifft2(arr_fft_dx_v3))\n",
    "\n",
    "\n",
    "## With numpy\n",
    "arr_dx_v4 = lasp.differential.dx(arr)\n",
    "\n",
    "print('Kernel identity :\\n', kernel2d_id)\n",
    "print('dx_oper :\\n', dx_oper)\n",
    "axis = 1\n",
    "n= kernel2d_id.shape[axis]\n",
    "#print('numpy.diff :\\n', numpy.transpose(kernel2d_id[:, 0]))\n",
    "#print('numpy.diff :\\n', numpy.diff(kernel2d_id, prepend=numpy.transpose(kernel2d_id[:, 0])))\n",
    "#print('conv2d :\\n', arr_dx_v1)\n",
    "#print('spatial :\\n', arr_dx_v2)\n",
    "#print('BCCB :\\n', arr_dx_v3)\n",
    "#print('Direct :\\n', arr_dx_v4)\n",
    "#numpy.reshape(kernel2d_id[:, n-1], (-1, 1))\n",
    "print(arr_dx_v4)\n"
   ]
  },
  {
   "attachments": {},
   "cell_type": "markdown",
   "metadata": {},
   "source": [
    "## dy"
   ]
  },
  {
   "cell_type": "code",
   "execution_count": 9,
   "metadata": {},
   "outputs": [
    {
     "name": "stdout",
     "output_type": "stream",
     "text": [
      "[[-12 -12 -12 -12]\n",
      " [  4   4   4   4]\n",
      " [  4   4   4   4]\n",
      " [  4   4   4   4]]\n",
      "[[-12. -12. -12. -12.]\n",
      " [  4.   4.   4.   4.]\n",
      " [  4.   4.   4.   4.]\n",
      " [  4.   4.   4.   4.]]\n",
      "[[  4.   4.   4.   4.]\n",
      " [  4.   4.   4.   4.]\n",
      " [  4.   4.   4.   4.]\n",
      " [-12. -12. -12. -12.]]\n",
      "[[-12. -12. -12. -12.]\n",
      " [  4.   4.   4.   4.]\n",
      " [  4.   4.   4.   4.]\n",
      " [  4.   4.   4.   4.]]\n"
     ]
    }
   ],
   "source": [
    "# Derivation\n",
    "dy_oper = numpy.transpose(numpy.array([[ 1, -1 ]])) # operator\n",
    "\n",
    "\n",
    "## With convolution (ie spatial domain)\n",
    "arr_dy_v1 = scipy.signal.convolve2d(\n",
    "    arr, \n",
    "    dy_oper, \n",
    "    mode ='same',\n",
    "    boundary = 'wrap'\n",
    ")\n",
    "\n",
    "\n",
    "## With point wise product\n",
    "### Spatial convolution becomes a point wise product in frequency domain\n",
    "### For apply a filter in frequency domain, you must padded filter with\n",
    "### even dimensions that image then you make point wise product in frequency doamin\n",
    "dy_oper_pad = lasp.utils.pad(dy_oper, arr.shape)\n",
    "dy_oper_pad_fft = numpy.fft.fft2(dy_oper_pad) # operator in frequency domain\n",
    "arr_dy_fft_v2 = dy_oper_pad_fft * arr_fft # Point wise product in frequency domain\n",
    "arr_dy_v2 = numpy.real(numpy.fft.ifft2(arr_dy_fft_v2)) # Return in sptial\n",
    "\n",
    "\n",
    "# ## BCCB tricks\n",
    "dy_oper_diag = lasp.utils.fourier_diagonalization(dy_oper, arr.shape)\n",
    "arr_fft_dy_v3 = dy_oper_diag * arr_fft\n",
    "arr_dy_v3 = numpy.real(numpy.fft.ifft2(arr_fft_dy_v3))\n",
    "\n",
    "\n",
    "## With numpy\n",
    "arr_dy_v4 = lasp.differential.dy(arr)\n",
    "\n",
    "print(arr_dy_v1)\n",
    "print(arr_dy_v2)\n",
    "print(arr_dy_v3)\n",
    "print(arr_dy_v4)"
   ]
  },
  {
   "attachments": {},
   "cell_type": "markdown",
   "metadata": {},
   "source": [
    "## dxT"
   ]
  },
  {
   "cell_type": "code",
   "execution_count": 10,
   "metadata": {},
   "outputs": [
    {
     "name": "stdout",
     "output_type": "stream",
     "text": [
      "[[ 0  1  2  3]\n",
      " [ 4  5  6  7]\n",
      " [ 8  9 10 11]\n",
      " [12 13 14 15]]\n",
      "Convolution : Not spatial operator\n",
      "Hadamard in Fourier:\n",
      " [[-1. -1. -1.  3.]\n",
      " [-1. -1. -1.  3.]\n",
      " [-1. -1. -1.  3.]\n",
      " [-1. -1. -1.  3.]]\n",
      "BCCB :\n",
      " [[ 3. -1. -1. -1.]\n",
      " [ 3. -1. -1. -1.]\n",
      " [ 3. -1. -1. -1.]\n",
      " [ 3. -1. -1. -1.]]\n",
      "dxT :\n",
      " [[-1. -1. -1.  3.]\n",
      " [-1. -1. -1.  3.]\n",
      " [-1. -1. -1.  3.]\n",
      " [-1. -1. -1.  3.]]\n"
     ]
    }
   ],
   "source": [
    "# Derivation\n",
    "\n",
    "dx_oper = numpy.array([[ 1, -1 ]]) # operator\n",
    "\n",
    "## With point wise product\n",
    "### Spatial convolution becomes a point wise product in frequency domain\n",
    "### For apply a filter in frequency domain, you must padded filter with\n",
    "### even dimensions that image then you make point wise product in frequency doamin\n",
    "dx_oper_pad = lasp.utils.pad(dx_oper, arr.shape)\n",
    "dx_oper_pad_fft = numpy.fft.fft2(dx_oper_pad)\n",
    "dxT_oper_pad_fft = numpy.conj(dx_oper_diag)\n",
    "arr_dxT_fft_v1 = dxT_oper_pad_fft * arr_fft # Point wise product in frequency domain\n",
    "arr_dxT_v1 = numpy.real(numpy.fft.ifft2(arr_dxT_fft_v1)) # Return in sptial\n",
    "\n",
    "\n",
    "# ## BCCB tricks\n",
    "# Derivation\n",
    "dx_oper_diag = lasp.utils.fourier_diagonalization(dx_oper, arr.shape)\n",
    "dxT_oper_diag = numpy.conj(dx_oper_diag)\n",
    "arr_fft_dxT_v2 = dxT_oper_diag * arr_fft\n",
    "arr_dxT_v2 = numpy.real(numpy.fft.ifft2(arr_fft_dxT_v2))\n",
    "\n",
    "\n",
    "## With numpy\n",
    "arr_dxT_v3 = lasp.differential.dxT(arr)\n",
    "\n",
    "\n",
    "print(arr)\n",
    "print('Convolution :', 'Not spatial operator')\n",
    "print('Hadamard in Fourier:\\n', arr_dxT_v1)\n",
    "print('BCCB :\\n', arr_dxT_v2)\n",
    "print('dxT :\\n', arr_dxT_v3)\n",
    "\n"
   ]
  },
  {
   "attachments": {},
   "cell_type": "markdown",
   "metadata": {},
   "source": [
    "## dyT"
   ]
  },
  {
   "cell_type": "code",
   "execution_count": 11,
   "metadata": {},
   "outputs": [
    {
     "name": "stdout",
     "output_type": "stream",
     "text": [
      "Convolution : Not spatial operator\n",
      "Hadamard in Fourier:\n",
      " [[12. 12. 12. 12.]\n",
      " [-4. -4. -4. -4.]\n",
      " [-4. -4. -4. -4.]\n",
      " [-4. -4. -4. -4.]]\n",
      "BCCB :\n",
      " [[12. 12. 12. 12.]\n",
      " [-4. -4. -4. -4.]\n",
      " [-4. -4. -4. -4.]\n",
      " [-4. -4. -4. -4.]]\n",
      "dxT :\n",
      " [[-4. -4. -4. -4.]\n",
      " [-4. -4. -4. -4.]\n",
      " [-4. -4. -4. -4.]\n",
      " [12. 12. 12. 12.]]\n"
     ]
    }
   ],
   "source": [
    "# Derivation\n",
    "\n",
    "dy_oper = numpy.transpose(numpy.array([[ 1, -1 ]])) # operator\n",
    "\n",
    "## With point wise product\n",
    "### Spatial convolution becomes a point wise product in frequency domain\n",
    "### For apply a filter in frequency domain, you must padded filter with\n",
    "### even dimensions that image then you make point wise product in frequency doamin\n",
    "dy_oper_pad = lasp.utils.pad(dy_oper, arr.shape)\n",
    "dy_oper_pad_fft = numpy.fft.fft2(dy_oper_pad)\n",
    "dyT_oper_pad_fft = numpy.conj(dy_oper_diag)\n",
    "arr_dyT_fft_v1 = dyT_oper_pad_fft * arr_fft # Point wise product in frequency domain\n",
    "arr_dyT_v1 = numpy.real(numpy.fft.ifft2(arr_dyT_fft_v1)) # Return in sptial\n",
    "\n",
    "\n",
    "# ## BCCB tricks\n",
    "# Derivation\n",
    "dy_oper_diag = lasp.utils.fourier_diagonalization(dy_oper, arr.shape)\n",
    "dyT_oper_diag = numpy.conj(dy_oper_diag)\n",
    "arr_fft_dyT_v2 = dyT_oper_diag * arr_fft\n",
    "arr_dyT_v2 = numpy.real(numpy.fft.ifft2(arr_fft_dyT_v2))\n",
    "\n",
    "\n",
    "## With numpy\n",
    "arr_dyT_v3 = lasp.differential.dyT(arr)\n",
    "\n",
    "print('Convolution :', 'Not spatial operator')\n",
    "print('Hadamard in Fourier:\\n', arr_dyT_v1)\n",
    "print('BCCB :\\n', arr_dyT_v2)\n",
    "print('dxT :\\n', arr_dyT_v3)"
   ]
  },
  {
   "attachments": {},
   "cell_type": "markdown",
   "metadata": {},
   "source": [
    "## Laplacian"
   ]
  },
  {
   "cell_type": "code",
   "execution_count": 12,
   "metadata": {},
   "outputs": [
    {
     "name": "stdout",
     "output_type": "stream",
     "text": [
      "lap filter :\n",
      " [[ 0 -1  0]\n",
      " [-1  4 -1]\n",
      " [ 0 -1  0]]\n",
      "\n",
      "Results :\n",
      "\n",
      "Lap v1 :\n",
      " [[ 16. -16.   0.   0.]\n",
      " [ 16.  16.  16.  16.]\n",
      " [ 32.  32.  32.  32.]\n",
      " [ 16.  16.  16.  16.]]\n",
      "lap v2 :\n",
      " [[ 20.  12.  16.  16.]\n",
      " [-12. -20. -16. -16.]\n",
      " [  4.  -4.   0.   0.]\n",
      " [  4.  -4.   0.   0.]]\n"
     ]
    }
   ],
   "source": [
    "x_oper = numpy.array([[ 1, -1 ]]) # operator\n",
    "dx_oper_pad = lasp.utils.pad(dx_oper, arr.shape)\n",
    "dx_oper_pad_fft = numpy.fft.fft2(dx_oper_pad)\n",
    "dxT_oper_pad_fft = numpy.conj(dx_oper_diag)\n",
    "\n",
    "dy_oper = numpy.transpose(numpy.array([[ 1, -1 ]])) # operator\n",
    "dy_oper_pad = lasp.utils.pad(dy_oper, arr.shape)\n",
    "dy_oper_pad_fft = numpy.fft.fft2(dy_oper_pad)\n",
    "dyT_oper_pad_fft = numpy.conj(dy_oper_diag)\n",
    "\n",
    "lap_pad_fft_v1 = \\\n",
    "    dxT_oper_pad_fft * dx_oper_pad_fft \\\n",
    "    + dyT_oper_pad_fft * dy_oper_pad_fft\n",
    "\n",
    "arr_lap_fft_v1 = lap_pad_fft_v1 * arr_fft\n",
    "arr_lap_v1 = numpy.real(numpy.fft.ifft(arr_lap_fft_v1))\n",
    "\n",
    "###########################\n",
    "\n",
    "lap_filter = lasp.filters.linear.laplacian()\n",
    "print('lap filter :\\n', lap_filter)\n",
    "\n",
    "lap_pad_v2 = lasp.utils.pad(lap_filter, arr.shape)\n",
    "lap_pad_fft_v2 = numpy.fft.fft2(lap_pad_v2)\n",
    "\n",
    "arr_lap_fft_v2 = lap_pad_fft_v2 * arr_fft\n",
    "arr_lap_v2 = numpy.real(numpy.fft.ifft2(arr_lap_fft_v2))\n",
    "\n",
    "###########################\n",
    "\n",
    "print('\\nResults :\\n')\n",
    "print('Lap v1 :\\n', arr_lap_v1)\n",
    "print('lap v2 :\\n', arr_lap_v2)"
   ]
  },
  {
   "cell_type": "code",
   "execution_count": 13,
   "metadata": {},
   "outputs": [
    {
     "name": "stdout",
     "output_type": "stream",
     "text": [
      "With laplacian filter :\n",
      " [[ 16. -16.   0.   0.]\n",
      " [ 16.  16.  16.  16.]\n",
      " [ 32.  32.  32.  32.]\n",
      " [ 16.  16.  16.  16.]]\n",
      "With laplacian definition :\n",
      " [[ 20.  12.  16.  16.]\n",
      " [-12. -20. -16. -16.]\n",
      " [  4.  -4.   0.   0.]\n",
      " [  4.  -4.   0.   0.]]\n",
      "[[ True  True  True  True]\n",
      " [ True  True  True  True]\n",
      " [ True  True  True  True]\n",
      " [ True  True  True  True]]\n"
     ]
    }
   ],
   "source": [
    "laplacian = lasp.filters.linear.laplacian()\n",
    "lap_diag_v1 = lasp.utils.fourier_diagonalization(\n",
    "    kernel = laplacian,\n",
    "    shape_out = arr.shape \n",
    ")\n",
    "\n",
    "arr_lap_fft_v1 = lap_diag_v1 * arr_fft\n",
    "arr_lap_v1 = numpy.real(numpy.fft.ifft(arr_lap_fft_v1))\n",
    "\n",
    "Dx_pad = lasp.utils.pad(numpy.array([[1, -1]]), arr.shape)\n",
    "Dx = numpy.fft.fft2(Dx_pad)\n",
    "Dxt = numpy.conj(Dx)\n",
    "\n",
    "Dy_pad = lasp.utils.pad(numpy.transpose(numpy.array([[1, -1]])), arr.shape)\n",
    "Dy = numpy.fft.fft2(Dy_pad)\n",
    "Dyt = numpy.conj(Dy)\n",
    "\n",
    "Dx_diag = lasp.utils.fourier_diagonalization(\n",
    "    kernel = Dx_pad,\n",
    "    shape_out = arr.shape \n",
    ")\n",
    "Dxt_diag = numpy.conj(Dx_diag)\n",
    "\n",
    "Dy_diag = lasp.utils.fourier_diagonalization(\n",
    "    kernel = Dy_pad,\n",
    "    shape_out = arr.shape \n",
    ")\n",
    "Dyt_diag = numpy.conj(Dy_diag)\n",
    "\n",
    "lap_diag_v2 = Dxt_diag * Dx_diag + Dyt_diag * Dy_diag\n",
    "\n",
    "arr_lap_fft_v1 = lap_diag_v2 * arr_fft\n",
    "arr_lap_v1 = numpy.real(numpy.fft.ifft(arr_lap_fft_v2))\n",
    "\n",
    "###\n",
    "\n",
    "F2D = Dxt*Dx+Dyt*Dy\n",
    "\n",
    "print('With laplacian filter :\\n', arr_lap_v1)\n",
    "print('With laplacian definition :\\n', arr_lap_v2)\n",
    "print((F2D == lap_diag_v2))"
   ]
  },
  {
   "cell_type": "code",
   "execution_count": 14,
   "metadata": {},
   "outputs": [
    {
     "name": "stdout",
     "output_type": "stream",
     "text": [
      "[[-3.  1.  1.  1.]\n",
      " [-3.  1.  1.  1.]\n",
      " [-3.  1.  1.  1.]\n",
      " [-3.  1.  1.  1.]]\n"
     ]
    }
   ],
   "source": [
    "## Test\n",
    "kernel2d_id = numpy.pad(numpy.array([[1]]), pad_width=1)\n",
    "dx_oper = lasp.differential.dx(kernel2d_id)\n",
    "arr_id = scipy.signal.convolve2d(arr, kernel2d_id, mode='same')\n",
    "\n",
    "arr_dx = scipy.signal.convolve2d(arr, dx_oper, mode='same', boundary='wrap')\n",
    "print(arr_dx)"
   ]
  },
  {
   "cell_type": "code",
   "execution_count": 15,
   "metadata": {},
   "outputs": [],
   "source": [
    "# def derivation(arr: numpy.ndarray, axis: int) -> numpy.ndarray:\n",
    "#     shape = numpy.copy(arr.shape)\n",
    "#     n = shape[axis]\n",
    "#     taken = numpy.take(arr, axis=axis, indices=n-1)\n",
    "#     shape[axis] = 1\n",
    "#     to_add = numpy.reshape(taken, shape)\n",
    "#     return numpy.diff(arr, prepend=to_add, axis=axis)"
   ]
  },
  {
   "cell_type": "code",
   "execution_count": 16,
   "metadata": {},
   "outputs": [],
   "source": [
    "def difference_finite_circular(array: numpy.ndarray, axis: int) -> numpy.ndarray:\n",
    "\n",
    "    prepend = numpy.expand_dims(\n",
    "        array.take(indices=-1, axis=axis),\n",
    "        axis=axis\n",
    "    )\n",
    "\n",
    "    d_axis = numpy.diff(\n",
    "        array,\n",
    "        axis = axis,\n",
    "        prepend=prepend\n",
    "    )\n",
    "\n",
    "    return d_axis"
   ]
  },
  {
   "cell_type": "code",
   "execution_count": 17,
   "metadata": {},
   "outputs": [
    {
     "data": {
      "text/plain": [
       "array([[-12, -12, -12, -12],\n",
       "       [  4,   4,   4,   4],\n",
       "       [  4,   4,   4,   4],\n",
       "       [  4,   4,   4,   4]])"
      ]
     },
     "execution_count": 17,
     "metadata": {},
     "output_type": "execute_result"
    }
   ],
   "source": [
    "difference_finite_circular(arr, 0)"
   ]
  },
  {
   "cell_type": "code",
   "execution_count": 18,
   "metadata": {},
   "outputs": [
    {
     "data": {
      "text/plain": [
       "array([[-3,  1,  1,  1],\n",
       "       [-3,  1,  1,  1],\n",
       "       [-3,  1,  1,  1],\n",
       "       [-3,  1,  1,  1]])"
      ]
     },
     "execution_count": 18,
     "metadata": {},
     "output_type": "execute_result"
    }
   ],
   "source": [
    "difference_finite_circular(arr, 1)"
   ]
  },
  {
   "cell_type": "code",
   "execution_count": 99,
   "metadata": {},
   "outputs": [],
   "source": [
    "def generic_gradient(arr: numpy.ndarray, axis: int, order: str, mode: str) -> numpy.ndarray:\n",
    "    tuple_order = (1, 0) if order == 'preorder' else (0, 1)\n",
    "    padded = numpy.pad(\n",
    "        array = arr, \n",
    "        pad_width = tuple( ( 0, 0 ) if axis != i else tuple_order for i in range(0, arr.ndim) ), \n",
    "        mode = mode\n",
    "    )\n",
    "    return numpy.diff(a=padded, axis=axis)\n",
    "\n",
    "def gradient(arr: numpy.ndarray, axis: int, mode: str) -> numpy.ndarray:\n",
    "    padded = numpy.pad(\n",
    "        array = arr, \n",
    "        pad_width = tuple( ( 0, 0 ) if axis != i else (1, 0) for i in range(0, arr.ndim) ), \n",
    "        mode = mode\n",
    "    )\n",
    "    return numpy.diff(a=padded, axis=axis)\n",
    "\n",
    "def transposed_gradient(arr: numpy.ndarray, axis: int, mode: str) -> numpy.ndarray:\n",
    "    padded = numpy.pad(\n",
    "        array = arr, \n",
    "        pad_width = tuple( ( 0, 0 ) if axis != i else (0, 1) for i in range(0, arr.ndim) ), \n",
    "        mode = mode\n",
    "    )\n",
    "    return numpy.diff(a=padded, axis=axis)"
   ]
  },
  {
   "cell_type": "code",
   "execution_count": 117,
   "metadata": {},
   "outputs": [],
   "source": [
    "def Div(u): \n",
    "    m,n=u.shape\n",
    "    div=numpy.zeros((n,m,2))\n",
    "    # print(div.shape)\n",
    "    \n",
    "    #preorder difference \n",
    "    div[:-1,:,0]=u[1:,:]-u[:-1,:] #(i+1,j)-(i,j)\n",
    "    # print(div[:,:,0])\n",
    "    div[:,:-1,1]=u[:,1:]-u[:,:-1] #(i,j+1)-(i,j)\n",
    "    # print(div[:,:,1])\n",
    "    \n",
    "    #postorder difference \n",
    "    div[1:,:,0]=-(div[1:,:,0]-div[:-1,:,0]) #(i,j)-(i-1,j)\n",
    "    # print(div[:,:,0])\n",
    "    div[:,1:,1]=-(div[:,1:,1]-div[:,:-1,1]) #(i,j)-(i,j-1)\n",
    "    # print(div[:,:,1])\n",
    "    \n",
    "    div=numpy.sum(div,axis=-1)  #[dx dy].T @ [dx dy] \n",
    "    return div"
   ]
  },
  {
   "cell_type": "code",
   "execution_count": 118,
   "metadata": {},
   "outputs": [
    {
     "name": "stdout",
     "output_type": "stream",
     "text": [
      "(4, 4, 2)\n",
      "[[4. 4. 4. 4.]\n",
      " [4. 4. 4. 4.]\n",
      " [4. 4. 4. 4.]\n",
      " [0. 0. 0. 0.]]\n",
      "[[1. 1. 1. 0.]\n",
      " [1. 1. 1. 0.]\n",
      " [1. 1. 1. 0.]\n",
      " [1. 1. 1. 0.]]\n",
      "[[ 4.  4.  4.  4.]\n",
      " [-0. -0. -0. -0.]\n",
      " [-0. -0. -0. -0.]\n",
      " [ 4.  4.  4.  4.]]\n",
      "[[ 1. -0. -0.  1.]\n",
      " [ 1. -0. -0.  1.]\n",
      " [ 1. -0. -0.  1.]\n",
      " [ 1. -0. -0.  1.]]\n"
     ]
    },
    {
     "data": {
      "text/plain": [
       "array([[5., 4., 4., 5.],\n",
       "       [1., 0., 0., 1.],\n",
       "       [1., 0., 0., 1.],\n",
       "       [5., 4., 4., 5.]])"
      ]
     },
     "execution_count": 118,
     "metadata": {},
     "output_type": "execute_result"
    }
   ],
   "source": [
    "Div(arr)"
   ]
  },
  {
   "cell_type": "code",
   "execution_count": null,
   "metadata": {},
   "outputs": [],
   "source": []
  },
  {
   "cell_type": "code",
   "execution_count": 128,
   "metadata": {},
   "outputs": [
    {
     "data": {
      "text/plain": [
       "array([[-3,  1,  1,  1],\n",
       "       [-3,  1,  1,  1],\n",
       "       [-3,  1,  1,  1],\n",
       "       [-3,  1,  1,  1]])"
      ]
     },
     "execution_count": 128,
     "metadata": {},
     "output_type": "execute_result"
    }
   ],
   "source": [
    "padded = numpy.pad(arr, ((0, 0), (1, 0)), mode='wrap')\n",
    "padded[:, 1:] - padded[:, :-1]\n",
    "# numpy.diff(padded, axis=1)"
   ]
  },
  {
   "cell_type": "code",
   "execution_count": 129,
   "metadata": {},
   "outputs": [
    {
     "data": {
      "text/plain": [
       "array([[ 4,  0,  0, -4],\n",
       "       [ 4,  0,  0, -4],\n",
       "       [ 4,  0,  0, -4],\n",
       "       [ 4,  0,  0, -4]])"
      ]
     },
     "execution_count": 129,
     "metadata": {},
     "output_type": "execute_result"
    }
   ],
   "source": [
    "d_arr_dx = grad(arr, axis=1, order='preorder', mode='wrap') # (d / dx) arr\n",
    "d2_arr_d2x = grad(d_arr_dx, axis=1, order='postorder', mode='wrap') # (d^{2} / d^{2}x) arr\n",
    "d2_arr_d2x"
   ]
  },
  {
   "cell_type": "code",
   "execution_count": 123,
   "metadata": {},
   "outputs": [
    {
     "data": {
      "text/plain": [
       "array([[-12, -12, -12, -12],\n",
       "       [  4,   4,   4,   4],\n",
       "       [  4,   4,   4,   4],\n",
       "       [  4,   4,   4,   4]])"
      ]
     },
     "execution_count": 123,
     "metadata": {},
     "output_type": "execute_result"
    }
   ],
   "source": [
    "padded = numpy.pad(arr, ((1, 0), (0, 0)), mode='wrap')\n",
    "padded[1:, :] - padded[:-1, :]"
   ]
  },
  {
   "cell_type": "code",
   "execution_count": 130,
   "metadata": {},
   "outputs": [
    {
     "data": {
      "text/plain": [
       "array([[ 16,  16,  16,  16],\n",
       "       [  0,   0,   0,   0],\n",
       "       [  0,   0,   0,   0],\n",
       "       [-16, -16, -16, -16]])"
      ]
     },
     "execution_count": 130,
     "metadata": {},
     "output_type": "execute_result"
    }
   ],
   "source": [
    "d_arr_dy = grad(arr, axis=0, order='preorder', mode='wrap') # (d / dy) arr\n",
    "d2_arr_d2y = grad(d_arr_dy, axis=0, order='postorder', mode='wrap') # (d^{2} / d^{2}y) arr\n",
    "d2_arr_d2y"
   ]
  },
  {
   "cell_type": "code",
   "execution_count": 131,
   "metadata": {},
   "outputs": [
    {
     "data": {
      "text/plain": [
       "array([[ 20,  16,  16,  12],\n",
       "       [  4,   0,   0,  -4],\n",
       "       [  4,   0,   0,  -4],\n",
       "       [-12, -16, -16, -20]])"
      ]
     },
     "execution_count": 131,
     "metadata": {},
     "output_type": "execute_result"
    }
   ],
   "source": [
    "d2_arr_d2x + d2_arr_d2y"
   ]
  },
  {
   "cell_type": "code",
   "execution_count": 20,
   "metadata": {},
   "outputs": [],
   "source": [
    "def difference_finite_circular(array: numpy.ndarray, axis: int) -> numpy.ndarray:\n",
    "\n",
    "    prepend = numpy.expand_dims(\n",
    "        array.take(indices=-1, axis=axis),\n",
    "        axis=axis\n",
    "    )\n",
    "\n",
    "    d_axis = numpy.diff(\n",
    "        array,\n",
    "        axis = axis,\n",
    "        prepend=prepend\n",
    "    )\n",
    "\n",
    "    return d_axis\n",
    "\n",
    "def transposed_difference_finite_circular(array: numpy.ndarray, axis: int) -> numpy.ndarray:\n",
    "    \n",
    "    tmp = numpy.flip(array, axis=axis)\n",
    "\n",
    "    append = numpy.expand_dims(\n",
    "        tmp.take(indices=0, axis=axis),\n",
    "        axis=axis\n",
    "    )\n",
    "\n",
    "    d_axis = numpy.diff(\n",
    "        tmp,\n",
    "        axis = axis,\n",
    "        append=append\n",
    "    )\n",
    "\n",
    "    return d_axis"
   ]
  },
  {
   "cell_type": "code",
   "execution_count": 21,
   "metadata": {},
   "outputs": [
    {
     "data": {
      "text/plain": [
       "array([[-1, -1, -1,  3],\n",
       "       [-1, -1, -1,  3],\n",
       "       [-1, -1, -1,  3],\n",
       "       [-1, -1, -1,  3]])"
      ]
     },
     "execution_count": 21,
     "metadata": {},
     "output_type": "execute_result"
    }
   ],
   "source": [
    "transposed_difference_finite_circular(arr, 1)"
   ]
  },
  {
   "cell_type": "code",
   "execution_count": 22,
   "metadata": {},
   "outputs": [
    {
     "data": {
      "text/plain": [
       "2"
      ]
     },
     "execution_count": 22,
     "metadata": {},
     "output_type": "execute_result"
    }
   ],
   "source": [
    "arr.ndim"
   ]
  },
  {
   "cell_type": "code",
   "execution_count": 23,
   "metadata": {},
   "outputs": [],
   "source": [
    "class Gradient:\n",
    "\n",
    "    def __init__(self) -> None:\n",
    "        pass\n",
    "\n",
    "    def __call__(self, u: numpy.ndarray) -> numpy.ndarray:\n",
    "\n",
    "        return numpy.array(\n",
    "            [\n",
    "                lasp.differential.difference_finite_circular(u, axis)\n",
    "                for axis in range(0, u.ndim)\n",
    "            ]\n",
    "        )\n",
    "    \n",
    "    @classmethod\n",
    "    def T(cls):\n",
    "        return TransposedGradient()\n",
    "    \n",
    "class TransposedGradient:\n",
    "\n",
    "    def __init__(self) -> None:\n",
    "        pass\n",
    "\n",
    "    def __call__(self, u: numpy.ndarray) -> numpy.ndarray:\n",
    "\n",
    "        return numpy.array(\n",
    "            [\n",
    "                lasp.differential.transposed_difference_finite_circular(u, axis)\n",
    "                for axis in range(0, u.ndim)\n",
    "            ]\n",
    "        )\n",
    "    \n",
    "    @classmethod\n",
    "    def T(cls):\n",
    "        return Gradient()"
   ]
  },
  {
   "cell_type": "code",
   "execution_count": 24,
   "metadata": {},
   "outputs": [
    {
     "data": {
      "text/plain": [
       "array([[[-12, -12, -12, -12],\n",
       "        [  4,   4,   4,   4],\n",
       "        [  4,   4,   4,   4],\n",
       "        [  4,   4,   4,   4]],\n",
       "\n",
       "       [[ -3,   1,   1,   1],\n",
       "        [ -3,   1,   1,   1],\n",
       "        [ -3,   1,   1,   1],\n",
       "        [ -3,   1,   1,   1]]])"
      ]
     },
     "execution_count": 24,
     "metadata": {},
     "output_type": "execute_result"
    }
   ],
   "source": [
    "grad = Gradient()\n",
    "grad_vector = grad(arr)\n",
    "grad_vector"
   ]
  },
  {
   "cell_type": "code",
   "execution_count": 25,
   "metadata": {},
   "outputs": [
    {
     "data": {
      "text/plain": [
       "array([[[-4, -4, -4, -4],\n",
       "        [-4, -4, -4, -4],\n",
       "        [-4, -4, -4, -4],\n",
       "        [12, 12, 12, 12]],\n",
       "\n",
       "       [[-1, -1, -1,  3],\n",
       "        [-1, -1, -1,  3],\n",
       "        [-1, -1, -1,  3],\n",
       "        [-1, -1, -1,  3]]])"
      ]
     },
     "execution_count": 25,
     "metadata": {},
     "output_type": "execute_result"
    }
   ],
   "source": [
    "grad.T()(arr)"
   ]
  },
  {
   "cell_type": "code",
   "execution_count": 26,
   "metadata": {},
   "outputs": [
    {
     "data": {
      "text/plain": [
       "array([[ 0,  1,  2,  3],\n",
       "       [ 4,  5,  6,  7],\n",
       "       [ 8,  9, 10, 11],\n",
       "       [12, 13, 14, 15]])"
      ]
     },
     "execution_count": 26,
     "metadata": {},
     "output_type": "execute_result"
    }
   ],
   "source": [
    "arr"
   ]
  },
  {
   "cell_type": "code",
   "execution_count": null,
   "metadata": {},
   "outputs": [],
   "source": []
  },
  {
   "cell_type": "code",
   "execution_count": 27,
   "metadata": {},
   "outputs": [
    {
     "data": {
      "text/plain": [
       "array([[ 5,  0, 10,  0],\n",
       "       [ 0,  0,  0,  0],\n",
       "       [17,  0, 19,  0],\n",
       "       [ 0,  0,  0,  0]])"
      ]
     },
     "execution_count": 27,
     "metadata": {},
     "output_type": "execute_result"
    }
   ],
   "source": [
    "numpy.kron(\n",
    "    numpy.array(\n",
    "        [\n",
    "            [5, 10],\n",
    "            [17, 19]\n",
    "        ]\n",
    "    ), numpy.array([[1, 0], [0, 0]]))"
   ]
  },
  {
   "cell_type": "code",
   "execution_count": 28,
   "metadata": {},
   "outputs": [
    {
     "data": {
      "text/plain": [
       "array([[ 51.+0.j,  -7.+0.j,  51.+0.j,  -7.+0.j],\n",
       "       [-21.+0.j,  -3.+0.j, -21.+0.j,  -3.+0.j],\n",
       "       [ 51.+0.j,  -7.+0.j,  51.+0.j,  -7.+0.j],\n",
       "       [-21.+0.j,  -3.+0.j, -21.+0.j,  -3.+0.j]])"
      ]
     },
     "execution_count": 28,
     "metadata": {},
     "output_type": "execute_result"
    }
   ],
   "source": [
    "numpy.fft.fft2(\n",
    "    numpy.kron(\n",
    "        numpy.array(\n",
    "            [\n",
    "                [5, 10],\n",
    "                [17, 19]\n",
    "            ]\n",
    "        ), \n",
    "        numpy.array([[1, 0], [0, 0]])\n",
    "    )\n",
    ")"
   ]
  },
  {
   "cell_type": "code",
   "execution_count": 29,
   "metadata": {},
   "outputs": [
    {
     "data": {
      "text/plain": [
       "array([[ 51.+0.j,  -7.+0.j,  51.+0.j,  -7.+0.j],\n",
       "       [-21.+0.j,  -3.+0.j, -21.+0.j,  -3.+0.j],\n",
       "       [ 51.+0.j,  -7.+0.j,  51.+0.j,  -7.+0.j],\n",
       "       [-21.+0.j,  -3.+0.j, -21.+0.j,  -3.+0.j]])"
      ]
     },
     "execution_count": 29,
     "metadata": {},
     "output_type": "execute_result"
    }
   ],
   "source": [
    "numpy.kron(\n",
    "    numpy.array([[1, 1], [1, 1]]),\n",
    "    numpy.fft.fft2(\n",
    "        numpy.array(\n",
    "            [\n",
    "                [5, 10],\n",
    "                [17, 19]\n",
    "            ]\n",
    "        )\n",
    "    )\n",
    ")\n",
    "\n"
   ]
  },
  {
   "cell_type": "code",
   "execution_count": 30,
   "metadata": {},
   "outputs": [
    {
     "data": {
      "text/plain": [
       "array([[1.+0.j, 1.+0.j],\n",
       "       [1.+0.j, 1.+0.j]])"
      ]
     },
     "execution_count": 30,
     "metadata": {},
     "output_type": "execute_result"
    }
   ],
   "source": [
    "numpy.fft.fft2( numpy.array([[1, 0], [0, 0]]))"
   ]
  },
  {
   "cell_type": "code",
   "execution_count": null,
   "metadata": {},
   "outputs": [],
   "source": []
  }
 ],
 "metadata": {
  "kernelspec": {
   "display_name": "Python 3.10.8 64-bit",
   "language": "python",
   "name": "python3"
  },
  "language_info": {
   "codemirror_mode": {
    "name": "ipython",
    "version": 3
   },
   "file_extension": ".py",
   "mimetype": "text/x-python",
   "name": "python",
   "nbconvert_exporter": "python",
   "pygments_lexer": "ipython3",
   "version": "3.10.12"
  },
  "orig_nbformat": 4,
  "vscode": {
   "interpreter": {
    "hash": "45713a178c5a966329bc5f3278f046d4b32f51be72879f469edfd7ae44ddee4d"
   }
  }
 },
 "nbformat": 4,
 "nbformat_minor": 2
}
