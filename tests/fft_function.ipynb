{
 "cells": [
  {
   "cell_type": "code",
   "execution_count": 11,
   "metadata": {},
   "outputs": [],
   "source": [
    "import numpy\n",
    "\n",
    "def fft(signal: numpy.ndarray) -> numpy.ndarray:\n",
    "\n",
    "    out = numpy.zeros_like(signal, dtype=complex)\n",
    "    N = signal.shape[0]\n",
    "\n",
    "    for n in range(0, N):\n",
    "        for k in range(0, N):\n",
    "            out[n] += signal[k] * numpy.exp(-2j * numpy.pi * k * n / N)\n",
    "\n",
    "    return out\n",
    "\n",
    "def ifft(signal: numpy.ndarray) -> numpy.ndarray:\n",
    "\n",
    "    out = numpy.zeros_like(signal, dtype=complex)\n",
    "    N = signal.shape[0]\n",
    "\n",
    "    for n in range(0, N):\n",
    "        for k in range(0, N):\n",
    "            out[n] += signal[k] * numpy.exp(2j * numpy.pi * k * n / N)\n",
    "        out[n] /= N \n",
    "\n",
    "    return out"
   ]
  },
  {
   "cell_type": "code",
   "execution_count": 12,
   "metadata": {},
   "outputs": [
    {
     "data": {
      "text/plain": [
       "array([10. +0.j        , -2.5+3.4409548j , -2.5+0.81229924j,\n",
       "       -2.5-0.81229924j, -2.5-3.4409548j ])"
      ]
     },
     "execution_count": 12,
     "metadata": {},
     "output_type": "execute_result"
    }
   ],
   "source": [
    "signal = numpy.arange(0, 5)\n",
    "fft_signal = fft(signal)\n",
    "fft_signal"
   ]
  },
  {
   "cell_type": "code",
   "execution_count": 14,
   "metadata": {},
   "outputs": [
    {
     "data": {
      "text/plain": [
       "array([2.66453526e-16, 1.00000000e+00, 2.00000000e+00, 3.00000000e+00,\n",
       "       4.00000000e+00])"
      ]
     },
     "execution_count": 14,
     "metadata": {},
     "output_type": "execute_result"
    }
   ],
   "source": [
    "numpy.real(ifft(fft_signal))"
   ]
  }
 ],
 "metadata": {
  "kernelspec": {
   "display_name": "Python 3",
   "language": "python",
   "name": "python3"
  },
  "language_info": {
   "codemirror_mode": {
    "name": "ipython",
    "version": 3
   },
   "file_extension": ".py",
   "mimetype": "text/x-python",
   "name": "python",
   "nbconvert_exporter": "python",
   "pygments_lexer": "ipython3",
   "version": "3.10.12"
  },
  "orig_nbformat": 4
 },
 "nbformat": 4,
 "nbformat_minor": 2
}
