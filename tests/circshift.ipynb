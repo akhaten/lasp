{
 "cells": [
  {
   "cell_type": "code",
   "execution_count": 1,
   "metadata": {},
   "outputs": [],
   "source": [
    "import numpy\n",
    "import scipy.signal\n",
    "import sys\n",
    "sys.path.append('..')"
   ]
  },
  {
   "cell_type": "code",
   "execution_count": 2,
   "metadata": {},
   "outputs": [],
   "source": [
    "import lasp.utils\n",
    "import lasp.filters.linear"
   ]
  },
  {
   "cell_type": "code",
   "execution_count": 3,
   "metadata": {},
   "outputs": [
    {
     "name": "stdout",
     "output_type": "stream",
     "text": [
      "[[ 4 -1  0  0 -1]\n",
      " [-1  0  0  0  0]\n",
      " [ 0  0  0  0  0]\n",
      " [ 0  0  0  0  0]\n",
      " [-1  0  0  0  0]]\n"
     ]
    }
   ],
   "source": [
    "lap = lasp.filters.linear.laplacian()\n",
    "lap_circshifted = lasp.utils.pad_circshift_center(lap, (5, 5))\n",
    "print(lap_circshifted)"
   ]
  },
  {
   "cell_type": "code",
   "execution_count": 6,
   "metadata": {},
   "outputs": [
    {
     "name": "stdout",
     "output_type": "stream",
     "text": [
      "[[ 0  0  0  0  0]\n",
      " [ 1 -1  0  0  0]\n",
      " [ 0  0  0  0  0]\n",
      " [ 0  0  0  0  0]\n",
      " [ 0  0  0  0  0]]\n"
     ]
    }
   ],
   "source": [
    "dx_oper = numpy.array([[1, -1]])\n",
    "dx_oper_circshifted = lasp.utils.pad_circshift_center(dx_oper, (5, 5))\n",
    "print(dx_oper_circshifted)"
   ]
  },
  {
   "cell_type": "code",
   "execution_count": 8,
   "metadata": {},
   "outputs": [
    {
     "name": "stdout",
     "output_type": "stream",
     "text": [
      "[[ 4 -1  0  0 -1]\n",
      " [-1  0  0  0  0]\n",
      " [ 0  0  0  0  0]\n",
      " [ 0  0  0  0  0]\n",
      " [-1  0  0  0  0]]\n",
      "[[ 0 -1  0  0  0]\n",
      " [-1  4 -1  0  0]\n",
      " [ 0 -1  0  0  0]\n",
      " [ 0  0  0  0  0]\n",
      " [ 0  0  0  0  0]]\n"
     ]
    }
   ],
   "source": [
    "lap = lasp.filters.linear.laplacian()\n",
    "shape = numpy.array(lap.shape)\n",
    "center = lasp.utils.compute_center(lap)\n",
    "\n",
    "lap_circshifted = lasp.utils.pad_circshift_center(lap, (5, 5))\n",
    "print(lap_circshifted)\n",
    "\n",
    "lap_circshifted_reverse = lasp.utils.circshift(lap_circshifted, shape-center)\n",
    "print(lap_circshifted_reverse)"
   ]
  },
  {
   "cell_type": "code",
   "execution_count": null,
   "metadata": {},
   "outputs": [],
   "source": []
  }
 ],
 "metadata": {
  "kernelspec": {
   "display_name": "Python 3.10.8 64-bit",
   "language": "python",
   "name": "python3"
  },
  "language_info": {
   "codemirror_mode": {
    "name": "ipython",
    "version": 3
   },
   "file_extension": ".py",
   "mimetype": "text/x-python",
   "name": "python",
   "nbconvert_exporter": "python",
   "pygments_lexer": "ipython3",
   "version": "3.10.8"
  },
  "orig_nbformat": 4,
  "vscode": {
   "interpreter": {
    "hash": "45713a178c5a966329bc5f3278f046d4b32f51be72879f469edfd7ae44ddee4d"
   }
  }
 },
 "nbformat": 4,
 "nbformat_minor": 2
}
