{
 "cells": [
  {
   "cell_type": "code",
   "execution_count": 1,
   "metadata": {},
   "outputs": [],
   "source": [
    "import numpy"
   ]
  },
  {
   "attachments": {},
   "cell_type": "markdown",
   "metadata": {},
   "source": [
    "$$\\begin{align*}\n",
    "S^{T} x\n",
    "&= \\begin{bmatrix}\n",
    "5 & 10 \\\\\n",
    "17 & 19\n",
    "\\end{bmatrix} \\otimes \\begin{bmatrix}\n",
    "1 & 0 \\\\\n",
    "0 & 0\n",
    "\\end{bmatrix} \\\\\n",
    "&= \\begin{bmatrix}\n",
    "5 & 0 & 10 & 0 \\\\\n",
    "0 & 0 & 0 & 0 \\\\\n",
    "17 & 0 & 19 & 0 \\\\\n",
    "0 & 0 & 0 & 0\n",
    "\\end{bmatrix}\n",
    "\\end{align*}$$"
   ]
  },
  {
   "cell_type": "code",
   "execution_count": 2,
   "metadata": {},
   "outputs": [
    {
     "data": {
      "text/plain": [
       "array([[ 5,  0, 10,  0],\n",
       "       [ 0,  0,  0,  0],\n",
       "       [17,  0, 19,  0],\n",
       "       [ 0,  0,  0,  0]])"
      ]
     },
     "execution_count": 2,
     "metadata": {},
     "output_type": "execute_result"
    }
   ],
   "source": [
    "numpy.kron(\n",
    "    numpy.array(\n",
    "        [\n",
    "            [5, 10],\n",
    "            [17, 19]\n",
    "        ]\n",
    "    ), numpy.array([[1, 0], [0, 0]]))"
   ]
  },
  {
   "attachments": {},
   "cell_type": "markdown",
   "metadata": {},
   "source": [
    "$$\\begin{align*}\n",
    "FFT(S^{T} x)\n",
    "&= FFT(\\begin{bmatrix}\n",
    "5 & 10 \\\\\n",
    "17 & 19\n",
    "\\end{bmatrix} \\otimes \\begin{bmatrix}\n",
    "1 & 0 \\\\\n",
    "0 & 0\n",
    "\\end{bmatrix}) \\\\\n",
    "&= FFT(\\begin{bmatrix}\n",
    "1 & 0 \\\\\n",
    "0 & 0\n",
    "\\end{bmatrix}) \\otimes FFT(\\begin{bmatrix}\n",
    "5 & 10 \\\\\n",
    "17 & 19\n",
    "\\end{bmatrix}) \\\\\n",
    "&= \\begin{bmatrix}\n",
    "1 & 1 \\\\\n",
    "1 & 1\n",
    "\\end{bmatrix} \\otimes FFT(\\begin{bmatrix}\n",
    "5 & 10 \\\\\n",
    "17 & 19\n",
    "\\end{bmatrix})  \\\\\n",
    "\\end{align*}$$"
   ]
  },
  {
   "cell_type": "code",
   "execution_count": 3,
   "metadata": {},
   "outputs": [
    {
     "data": {
      "text/plain": [
       "array([[ 51.+0.j,  -7.+0.j,  51.+0.j,  -7.+0.j],\n",
       "       [-21.+0.j,  -3.+0.j, -21.+0.j,  -3.+0.j],\n",
       "       [ 51.+0.j,  -7.+0.j,  51.+0.j,  -7.+0.j],\n",
       "       [-21.+0.j,  -3.+0.j, -21.+0.j,  -3.+0.j]])"
      ]
     },
     "execution_count": 3,
     "metadata": {},
     "output_type": "execute_result"
    }
   ],
   "source": [
    "numpy.fft.fft2(\n",
    "    numpy.kron(\n",
    "        numpy.array(\n",
    "            [\n",
    "                [5, 10],\n",
    "                [17, 19]\n",
    "            ]\n",
    "        ), \n",
    "        numpy.array([[1, 0], [0, 0]])\n",
    "    )\n",
    ")"
   ]
  },
  {
   "cell_type": "code",
   "execution_count": 4,
   "metadata": {},
   "outputs": [
    {
     "data": {
      "text/plain": [
       "array([[ 51.+0.j,  -7.+0.j,  51.+0.j,  -7.+0.j],\n",
       "       [-21.+0.j,  -3.+0.j, -21.+0.j,  -3.+0.j],\n",
       "       [ 51.+0.j,  -7.+0.j,  51.+0.j,  -7.+0.j],\n",
       "       [-21.+0.j,  -3.+0.j, -21.+0.j,  -3.+0.j]])"
      ]
     },
     "execution_count": 4,
     "metadata": {},
     "output_type": "execute_result"
    }
   ],
   "source": [
    "numpy.kron(\n",
    "    numpy.array([[1, 1], [1, 1]]),\n",
    "    numpy.fft.fft2(\n",
    "        numpy.array(\n",
    "            [\n",
    "                [5, 10],\n",
    "                [17, 19]\n",
    "            ]\n",
    "        )\n",
    "    )\n",
    ")"
   ]
  },
  {
   "cell_type": "code",
   "execution_count": 5,
   "metadata": {},
   "outputs": [
    {
     "data": {
      "text/plain": [
       "array([[1.+0.j, 1.+0.j],\n",
       "       [1.+0.j, 1.+0.j]])"
      ]
     },
     "execution_count": 5,
     "metadata": {},
     "output_type": "execute_result"
    }
   ],
   "source": [
    "numpy.fft.fft2( numpy.array([[1, 0], [0, 0]]))"
   ]
  },
  {
   "cell_type": "code",
   "execution_count": 6,
   "metadata": {},
   "outputs": [
    {
     "data": {
      "text/plain": [
       "array([[ 51.+0.j,  -7.+0.j],\n",
       "       [-21.+0.j,  -3.+0.j]])"
      ]
     },
     "execution_count": 6,
     "metadata": {},
     "output_type": "execute_result"
    }
   ],
   "source": [
    "numpy.fft.fft2( numpy.array( [ [5, 10], [17, 19] ] ))"
   ]
  },
  {
   "cell_type": "code",
   "execution_count": 7,
   "metadata": {},
   "outputs": [
    {
     "data": {
      "text/plain": [
       "array([[1, 0, 0, 0],\n",
       "       [0, 0, 0, 0],\n",
       "       [0, 0, 1, 0],\n",
       "       [0, 0, 0, 0]])"
      ]
     },
     "execution_count": 7,
     "metadata": {},
     "output_type": "execute_result"
    }
   ],
   "source": [
    "STS = numpy.diag(numpy.array([1, 0, 1, 0]))\n",
    "STS"
   ]
  },
  {
   "cell_type": "code",
   "execution_count": 8,
   "metadata": {},
   "outputs": [
    {
     "data": {
      "text/plain": [
       "array([[1.+0.j, 0.+0.j, 1.+0.j, 0.+0.j],\n",
       "       [0.+0.j, 1.+0.j, 0.+0.j, 1.+0.j],\n",
       "       [1.+0.j, 0.+0.j, 1.+0.j, 0.+0.j],\n",
       "       [0.+0.j, 1.+0.j, 0.+0.j, 1.+0.j]])"
      ]
     },
     "execution_count": 8,
     "metadata": {},
     "output_type": "execute_result"
    }
   ],
   "source": [
    "import sys\n",
    "sys.path.append('..')\n",
    "import lasp.utils\n",
    "lasp.utils.fourier_diagonalization(STS, shape_out=(4, 4)) / 2"
   ]
  },
  {
   "cell_type": "code",
   "execution_count": 9,
   "metadata": {},
   "outputs": [],
   "source": [
    "Jd = numpy.ones(shape=(2,2))\n",
    "id = numpy.identity(n=2)"
   ]
  },
  {
   "cell_type": "code",
   "execution_count": 10,
   "metadata": {},
   "outputs": [
    {
     "data": {
      "text/plain": [
       "array([[1., 1.],\n",
       "       [1., 1.]])"
      ]
     },
     "execution_count": 10,
     "metadata": {},
     "output_type": "execute_result"
    }
   ],
   "source": [
    "Jd"
   ]
  },
  {
   "cell_type": "code",
   "execution_count": 11,
   "metadata": {},
   "outputs": [
    {
     "data": {
      "text/plain": [
       "array([[1., 0.],\n",
       "       [0., 1.]])"
      ]
     },
     "execution_count": 11,
     "metadata": {},
     "output_type": "execute_result"
    }
   ],
   "source": [
    "id"
   ]
  },
  {
   "cell_type": "code",
   "execution_count": 12,
   "metadata": {},
   "outputs": [
    {
     "data": {
      "text/plain": [
       "array([[1., 0., 1., 0.],\n",
       "       [0., 1., 0., 1.],\n",
       "       [1., 0., 1., 0.],\n",
       "       [0., 1., 0., 1.]])"
      ]
     },
     "execution_count": 12,
     "metadata": {},
     "output_type": "execute_result"
    }
   ],
   "source": [
    "numpy.kron(Jd, id)"
   ]
  },
  {
   "cell_type": "code",
   "execution_count": 13,
   "metadata": {},
   "outputs": [
    {
     "data": {
      "text/plain": [
       "array([[1.],\n",
       "       [1.]])"
      ]
     },
     "execution_count": 13,
     "metadata": {},
     "output_type": "execute_result"
    }
   ],
   "source": [
    "_1d = numpy.ones(shape=(2, 1))\n",
    "_1d"
   ]
  },
  {
   "cell_type": "code",
   "execution_count": 14,
   "metadata": {},
   "outputs": [
    {
     "data": {
      "text/plain": [
       "array([[1., 0., 1., 0.],\n",
       "       [0., 1., 0., 1.],\n",
       "       [1., 0., 1., 0.],\n",
       "       [0., 1., 0., 1.]])"
      ]
     },
     "execution_count": 14,
     "metadata": {},
     "output_type": "execute_result"
    }
   ],
   "source": [
    "numpy.kron(_1d, id) @ numpy.kron(_1d.T, id)"
   ]
  },
  {
   "cell_type": "code",
   "execution_count": null,
   "metadata": {},
   "outputs": [],
   "source": [
    "def f(\n",
    "    y: numpy.ndarray,\n",
    "    kernel: numpy.ndarray,\n",
    "    d: int\n",
    ") -> numpy.ndarray:\n",
    "    \n",
    "    nb_rows, nb_cols = y.shape\n",
    "\n",
    "    h_diag = lasp.utils.fourier_diagonalization(\n",
    "        kernel = kernel,\n",
    "        shape_out = numpy.array([nb_rows, nb_cols])\n",
    "    )\n",
    "\n",
    "    \n",
    "    _1_d = numpy.ones(shape=(d, 1))\n",
    "    _i_d = numpy.identity(n = d)\n",
    "\n",
    "    "
   ]
  }
 ],
 "metadata": {
  "kernelspec": {
   "display_name": "Python 3",
   "language": "python",
   "name": "python3"
  },
  "language_info": {
   "codemirror_mode": {
    "name": "ipython",
    "version": 3
   },
   "file_extension": ".py",
   "mimetype": "text/x-python",
   "name": "python",
   "nbconvert_exporter": "python",
   "pygments_lexer": "ipython3",
   "version": "3.10.12"
  },
  "orig_nbformat": 4
 },
 "nbformat": 4,
 "nbformat_minor": 2
}
