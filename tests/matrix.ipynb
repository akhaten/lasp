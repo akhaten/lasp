{
 "cells": [
  {
   "cell_type": "code",
   "execution_count": 1,
   "metadata": {},
   "outputs": [],
   "source": [
    "import numpy"
   ]
  },
  {
   "cell_type": "code",
   "execution_count": 18,
   "metadata": {},
   "outputs": [
    {
     "name": "stdout",
     "output_type": "stream",
     "text": [
      "(5, 5) (5, 5) (5, 5)\n",
      "[[-1.  1.  0.  0.  0.  0.]\n",
      " [ 0. -1.  1.  0.  0.  0.]\n",
      " [ 0.  0. -1.  1.  0.  0.]\n",
      " [ 0.  0.  0. -1.  1.  0.]\n",
      " [ 0.  0.  0.  0. -1.  1.]]\n"
     ]
    }
   ],
   "source": [
    "d = numpy.zeros((5, 6))\n",
    "m, n = numpy.shape(d)\n",
    "c = min(m, n)\n",
    "\n",
    "identity = numpy.eye(c, c)\n",
    "\n",
    "print(identity.shape, d[0:c, 0:c].shape, d[m-c:, n-c:].shape)\n",
    "\n",
    "d[0:c, 0:c] -= identity\n",
    "d[m-c:, n-c:] += identity\n",
    "\n",
    "print(d)"
   ]
  },
  {
   "cell_type": "code",
   "execution_count": 3,
   "metadata": {},
   "outputs": [
    {
     "ename": "ValueError",
     "evalue": "assignment destination is read-only",
     "output_type": "error",
     "traceback": [
      "\u001b[0;31m---------------------------------------------------------------------------\u001b[0m",
      "\u001b[0;31mValueError\u001b[0m                                Traceback (most recent call last)",
      "\u001b[1;32m/home/akhaten/Documents/github/lasp/tests/matrix.ipynb Cell 3'\u001b[0m in \u001b[0;36m<cell line: 2>\u001b[0;34m()\u001b[0m\n\u001b[1;32m      <a href='vscode-notebook-cell:/home/akhaten/Documents/github/lasp/tests/matrix.ipynb#ch0000002?line=0'>1</a>\u001b[0m diag \u001b[39m=\u001b[39m d\u001b[39m.\u001b[39mdiagonal(offset\u001b[39m=\u001b[39m\u001b[39m1\u001b[39m)\n\u001b[0;32m----> <a href='vscode-notebook-cell:/home/akhaten/Documents/github/lasp/tests/matrix.ipynb#ch0000002?line=1'>2</a>\u001b[0m diag[:] \u001b[39m=\u001b[39m \u001b[39m1\u001b[39m\n\u001b[1;32m      <a href='vscode-notebook-cell:/home/akhaten/Documents/github/lasp/tests/matrix.ipynb#ch0000002?line=2'>3</a>\u001b[0m \u001b[39mprint\u001b[39m(diag, d)\n",
      "\u001b[0;31mValueError\u001b[0m: assignment destination is read-only"
     ]
    }
   ],
   "source": [
    "diag = d.diagonal(offset=1)\n",
    "diag[:] = 1\n",
    "print(diag, d)"
   ]
  },
  {
   "cell_type": "code",
   "execution_count": 29,
   "metadata": {},
   "outputs": [],
   "source": [
    "def D(n: int) -> numpy.ndarray:\n",
    "    d = numpy.zeros((n, n+1))\n",
    "    identity = numpy.eye(n, n)\n",
    "    d[0:n, 0:n] -= identity\n",
    "    d[0:n, 1:n+1] += identity\n",
    "    return d"
   ]
  },
  {
   "cell_type": "code",
   "execution_count": 30,
   "metadata": {},
   "outputs": [
    {
     "data": {
      "text/plain": [
       "array([[-1.,  1.,  0.,  0.,  0.],\n",
       "       [ 0., -1.,  1.,  0.,  0.],\n",
       "       [ 0.,  0., -1.,  1.,  0.],\n",
       "       [ 0.,  0.,  0., -1.,  1.]])"
      ]
     },
     "execution_count": 30,
     "metadata": {},
     "output_type": "execute_result"
    }
   ],
   "source": [
    "D(4)"
   ]
  },
  {
   "cell_type": "code",
   "execution_count": 33,
   "metadata": {},
   "outputs": [
    {
     "data": {
      "text/plain": [
       "array([[0, 1, 2],\n",
       "       [3, 4, 5],\n",
       "       [6, 7, 8]])"
      ]
     },
     "execution_count": 33,
     "metadata": {},
     "output_type": "execute_result"
    }
   ],
   "source": [
    "a = numpy.reshape(numpy.arange(0, 9), (3, 3))\n",
    "a"
   ]
  },
  {
   "cell_type": "code",
   "execution_count": 35,
   "metadata": {},
   "outputs": [],
   "source": [
    "v = numpy.reshape(a, newshape=(-1, 1), order='F')"
   ]
  },
  {
   "cell_type": "code",
   "execution_count": 36,
   "metadata": {},
   "outputs": [
    {
     "data": {
      "text/plain": [
       "(9, 1)"
      ]
     },
     "execution_count": 36,
     "metadata": {},
     "output_type": "execute_result"
    }
   ],
   "source": [
    "v.shape"
   ]
  },
  {
   "cell_type": "code",
   "execution_count": 2,
   "metadata": {},
   "outputs": [
    {
     "data": {
      "text/plain": [
       "array([[4.-0.j, 0.+0.j, 0.-0.j, 0.-0.j],\n",
       "       [0.+0.j, 0.+0.j, 0.+0.j, 4.-0.j],\n",
       "       [0.-0.j, 0.+0.j, 4.-0.j, 0.-0.j],\n",
       "       [0.-0.j, 4.+0.j, 0.-0.j, 0.-0.j]])"
      ]
     },
     "execution_count": 2,
     "metadata": {},
     "output_type": "execute_result"
    }
   ],
   "source": [
    "import scipy.fft\n",
    "import numpy\n",
    "\n",
    "scipy.fft.fft2(numpy.eye(4, 4))"
   ]
  },
  {
   "cell_type": "code",
   "execution_count": null,
   "metadata": {},
   "outputs": [],
   "source": []
  }
 ],
 "metadata": {
  "interpreter": {
   "hash": "ed1c4bfab4690d67806cf533d12ae48a212eb9cbd358ee70c751e08b3ad01a48"
  },
  "kernelspec": {
   "display_name": "Python 3.10.9 64-bit",
   "language": "python",
   "name": "python3"
  },
  "language_info": {
   "codemirror_mode": {
    "name": "ipython",
    "version": 3
   },
   "file_extension": ".py",
   "mimetype": "text/x-python",
   "name": "python",
   "nbconvert_exporter": "python",
   "pygments_lexer": "ipython3",
   "version": "3.10.9"
  },
  "orig_nbformat": 4
 },
 "nbformat": 4,
 "nbformat_minor": 2
}
