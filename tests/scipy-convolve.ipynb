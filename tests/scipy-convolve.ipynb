{
 "cells": [
  {
   "cell_type": "code",
   "execution_count": 85,
   "metadata": {},
   "outputs": [],
   "source": [
    "import numpy\n",
    "import scipy.signal"
   ]
  },
  {
   "cell_type": "code",
   "execution_count": 86,
   "metadata": {},
   "outputs": [
    {
     "data": {
      "text/plain": [
       "array([[0, 1, 2],\n",
       "       [3, 4, 5],\n",
       "       [6, 7, 8]])"
      ]
     },
     "execution_count": 86,
     "metadata": {},
     "output_type": "execute_result"
    }
   ],
   "source": [
    "size = 3\n",
    "filter = numpy.arange(0, size*size).reshape((size, size))\n",
    "filter"
   ]
  },
  {
   "cell_type": "code",
   "execution_count": 87,
   "metadata": {},
   "outputs": [
    {
     "data": {
      "text/plain": [
       "array([[ 0.,  1.,  2.,  3.,  4.,  5.],\n",
       "       [ 6.,  7.,  8.,  9., 10., 11.],\n",
       "       [12., 13., 14., 15., 16., 17.],\n",
       "       [18., 19., 20., 21., 22., 23.],\n",
       "       [24., 25., 26., 27., 28., 29.],\n",
       "       [30., 31., 32., 33., 34., 35.]])"
      ]
     },
     "execution_count": 87,
     "metadata": {},
     "output_type": "execute_result"
    }
   ],
   "source": [
    "N, M = 6, 6\n",
    "arr = numpy.arange(0, N*M).reshape((N, M)).astype(float)\n",
    "arr"
   ]
  },
  {
   "cell_type": "code",
   "execution_count": 88,
   "metadata": {},
   "outputs": [
    {
     "data": {
      "text/plain": [
       "True"
      ]
     },
     "execution_count": 88,
     "metadata": {},
     "output_type": "execute_result"
    }
   ],
   "source": [
    "res1 = scipy.signal.convolve2d(\n",
    "    in1=arr, \n",
    "    in2=filter, \n",
    "    mode='same', \n",
    "    boundary='wrap'\n",
    ")\n",
    "\n",
    "res2 = scipy.signal.convolve2d(\n",
    "    in1=arr, \n",
    "    in2=filter, \n",
    "    mode='full', \n",
    "    boundary='wrap'\n",
    ")\n",
    "\n",
    "(res1 == res2[size//2:-size//2+1, size//2:-size//2+1]).all()"
   ]
  },
  {
   "cell_type": "code",
   "execution_count": 89,
   "metadata": {},
   "outputs": [
    {
     "data": {
      "text/plain": [
       "True"
      ]
     },
     "execution_count": 89,
     "metadata": {},
     "output_type": "execute_result"
    }
   ],
   "source": [
    "res1 = scipy.signal.convolve2d(\n",
    "    in1=arr, \n",
    "    in2=filter, \n",
    "    mode='same', \n",
    "    boundary='wrap'\n",
    ")\n",
    "\n",
    "res2 = scipy.signal.convolve2d(\n",
    "    in1=numpy.pad(arr, pad_width= [ (1, 1), (1, 1) ], mode='wrap'), \n",
    "    in2=filter,\n",
    "    mode='valid'\n",
    ")\n",
    "\n",
    "(res1 == res2).all()"
   ]
  },
  {
   "cell_type": "code",
   "execution_count": 97,
   "metadata": {},
   "outputs": [
    {
     "data": {
      "text/plain": [
       "True"
      ]
     },
     "execution_count": 97,
     "metadata": {},
     "output_type": "execute_result"
    }
   ],
   "source": [
    "res1 = scipy.signal.convolve2d(\n",
    "    in1=arr, \n",
    "    in2=numpy.flip(filter, axis=[0, 1]), \n",
    "    mode='same', \n",
    "    boundary='wrap'\n",
    ")\n",
    "\n",
    "res2 = numpy.flip(\n",
    "    scipy.signal.convolve2d(\n",
    "        in1=numpy.flip(arr, axis=[0, 1]), \n",
    "        in2=filter, \n",
    "        mode='same', \n",
    "        boundary='wrap'\n",
    "    )\n",
    ")\n",
    "\n",
    "(res1 == res2).all()"
   ]
  },
  {
   "cell_type": "code",
   "execution_count": 98,
   "metadata": {},
   "outputs": [
    {
     "data": {
      "text/plain": [
       "array([[ 276.,  258.,  294.,  330.,  366.,  312.],\n",
       "       [ 384.,  366.,  402.,  438.,  474.,  420.],\n",
       "       [ 600.,  582.,  618.,  654.,  690.,  636.],\n",
       "       [ 816.,  798.,  834.,  870.,  906.,  852.],\n",
       "       [1032., 1014., 1050., 1086., 1122., 1068.],\n",
       "       [ 492.,  474.,  510.,  546.,  582.,  528.]])"
      ]
     },
     "execution_count": 98,
     "metadata": {},
     "output_type": "execute_result"
    }
   ],
   "source": [
    "res1"
   ]
  },
  {
   "cell_type": "code",
   "execution_count": 99,
   "metadata": {},
   "outputs": [
    {
     "data": {
      "text/plain": [
       "array([[ 276.,  258.,  294.,  330.,  366.,  312.],\n",
       "       [ 384.,  366.,  402.,  438.,  474.,  420.],\n",
       "       [ 600.,  582.,  618.,  654.,  690.,  636.],\n",
       "       [ 816.,  798.,  834.,  870.,  906.,  852.],\n",
       "       [1032., 1014., 1050., 1086., 1122., 1068.],\n",
       "       [ 492.,  474.,  510.,  546.,  582.,  528.]])"
      ]
     },
     "execution_count": 99,
     "metadata": {},
     "output_type": "execute_result"
    }
   ],
   "source": [
    "res2"
   ]
  },
  {
   "cell_type": "code",
   "execution_count": null,
   "metadata": {},
   "outputs": [],
   "source": [
    "res1 = scipy.signal.convolve2d(\n",
    "    in1=arr, \n",
    "    in2=filter, \n",
    "    mode='same', \n",
    "    boundary='wrap'\n",
    ")\n",
    "\n",
    "res2 = scipy.signal.convolve2d(\n",
    "    in1=numpy.pad(arr, pad_width= [ (1, 1), (1, 1) ], mode='wrap'), \n",
    "    in2=filter,\n",
    "    mode='valid'\n",
    ")\n",
    "\n",
    "# (res1 == res2[size//2:-size//2+1, size//2:-size//2+1]).all()\n",
    "print(res1)\n",
    "print(res2)"
   ]
  }
 ],
 "metadata": {
  "kernelspec": {
   "display_name": "Python 3",
   "language": "python",
   "name": "python3"
  },
  "language_info": {
   "codemirror_mode": {
    "name": "ipython",
    "version": 3
   },
   "file_extension": ".py",
   "mimetype": "text/x-python",
   "name": "python",
   "nbconvert_exporter": "python",
   "pygments_lexer": "ipython3",
   "version": "3.10.12"
  },
  "orig_nbformat": 4
 },
 "nbformat": 4,
 "nbformat_minor": 2
}
