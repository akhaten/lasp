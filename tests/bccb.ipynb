{
 "cells": [
  {
   "cell_type": "code",
   "execution_count": 1,
   "metadata": {},
   "outputs": [],
   "source": [
    "import sys\n",
    "sys.path.append('..')"
   ]
  },
  {
   "cell_type": "code",
   "execution_count": 2,
   "metadata": {},
   "outputs": [],
   "source": [
    "import numpy"
   ]
  },
  {
   "cell_type": "code",
   "execution_count": 3,
   "metadata": {},
   "outputs": [
    {
     "data": {
      "text/plain": [
       "array([[11, 12, 13],\n",
       "       [21, 22, 23],\n",
       "       [31, 32, 33]])"
      ]
     },
     "execution_count": 3,
     "metadata": {},
     "output_type": "execute_result"
    }
   ],
   "source": [
    "p = numpy.array(\n",
    "    [\n",
    "        [11, 12, 13],\n",
    "        [21, 22, 23],\n",
    "        [31, 32, 33],\n",
    "    ]\n",
    ")\n",
    "p"
   ]
  },
  {
   "cell_type": "code",
   "execution_count": 4,
   "metadata": {},
   "outputs": [
    {
     "name": "stdout",
     "output_type": "stream",
     "text": [
      "[[22 23 21]\n",
      " [32 33 31]\n",
      " [12 13 11]]\n"
     ]
    }
   ],
   "source": [
    "import lasp.utils\n",
    "p1 = lasp.utils.circshift(p, shift=1-numpy.array([2, 2]))\n",
    "print(p1)"
   ]
  },
  {
   "cell_type": "code",
   "execution_count": 5,
   "metadata": {},
   "outputs": [],
   "source": [
    "def make_bccb(p: numpy.ndarray) -> numpy.ndarray :\n",
    "    \n",
    "    dim = numpy.prod(numpy.array(p.shape))\n",
    "    p_cpy = numpy.copy(p)\n",
    "    \n",
    "    p1 = numpy.reshape(p_cpy.T, newshape=dim)\n",
    "    P = numpy.zeros(shape=(dim, dim))\n",
    "    P[:, 0] = p1\n",
    "\n",
    "    for i in range(1, 3):\n",
    "        for j in range(0, 3*3, 3):\n",
    "            P[j:j+3, i] = numpy.roll(P[j:j+3, i-1], 1)\n",
    "\n",
    "    for i in range(1, 3):\n",
    "        P[:, 3*i: 3*i+3] = numpy.roll(P[:, 3*(i-1): 3*(i-1)+3], (3, 0), (0, 1))\n",
    "\n",
    "\n",
    "    return P"
   ]
  },
  {
   "cell_type": "code",
   "execution_count": 6,
   "metadata": {},
   "outputs": [
    {
     "name": "stdout",
     "output_type": "stream",
     "text": [
      "[[22. 12. 32. 21. 11. 31. 23. 13. 33.]\n",
      " [32. 22. 12. 31. 21. 11. 33. 23. 13.]\n",
      " [12. 32. 22. 11. 31. 21. 13. 33. 23.]\n",
      " [23. 13. 33. 22. 12. 32. 21. 11. 31.]\n",
      " [33. 23. 13. 32. 22. 12. 31. 21. 11.]\n",
      " [13. 33. 23. 12. 32. 22. 11. 31. 21.]\n",
      " [21. 11. 31. 23. 13. 33. 22. 12. 32.]\n",
      " [31. 21. 11. 33. 23. 13. 32. 22. 12.]\n",
      " [11. 31. 21. 13. 33. 23. 12. 32. 22.]]\n"
     ]
    }
   ],
   "source": [
    "bccb = make_bccb(p1)\n",
    "print(bccb)"
   ]
  },
  {
   "cell_type": "code",
   "execution_count": null,
   "metadata": {},
   "outputs": [],
   "source": []
  },
  {
   "cell_type": "code",
   "execution_count": 7,
   "metadata": {},
   "outputs": [
    {
     "name": "stdout",
     "output_type": "stream",
     "text": [
      "[[22. 12. 32. 21. 11. 31. 23. 13. 33.]\n",
      " [32. 22. 12. 31. 21. 11. 33. 23. 13.]\n",
      " [12. 32. 22. 11. 31. 21. 13. 33. 23.]\n",
      " [23. 13. 33. 22. 12. 32. 21. 11. 31.]\n",
      " [33. 23. 13. 32. 22. 12. 31. 21. 11.]\n",
      " [13. 33. 23. 12. 32. 22. 11. 31. 21.]\n",
      " [21. 11. 31. 23. 13. 33. 22. 12. 32.]\n",
      " [31. 21. 11. 33. 23. 13. 32. 22. 12.]\n",
      " [11. 31. 21. 13. 33. 23. 12. 32. 22.]]\n"
     ]
    },
    {
     "data": {
      "text/plain": [
       "array([[ 6.60000000e+01,  5.40000000e+01,  2.10000000e+01,\n",
       "        -2.30755522e-15,  8.88178420e-16, -1.06581410e-14,\n",
       "         2.30755522e-15,  1.20000000e+01,  4.50000000e+01],\n",
       "       [ 4.50000000e+01,  6.60000000e+01,  5.40000000e+01,\n",
       "         2.10000000e+01,  4.32189875e-15,  8.88178420e-16,\n",
       "        -3.55271368e-15,  2.78352860e-15,  1.20000000e+01],\n",
       "       [ 1.20000000e+01,  4.50000000e+01,  6.60000000e+01,\n",
       "         5.40000000e+01,  2.10000000e+01, -7.69185075e-16,\n",
       "         0.00000000e+00,  3.55271368e-15,  7.69185075e-16],\n",
       "       [ 0.00000000e+00,  1.20000000e+01,  4.50000000e+01,\n",
       "         6.60000000e+01,  5.40000000e+01,  2.10000000e+01,\n",
       "         0.00000000e+00,  0.00000000e+00, -3.55271368e-15],\n",
       "       [-7.10542736e-15,  3.55271368e-15,  1.20000000e+01,\n",
       "         4.50000000e+01,  6.60000000e+01,  5.40000000e+01,\n",
       "         2.10000000e+01,  7.10542736e-15,  3.55271368e-15],\n",
       "       [ 0.00000000e+00,  0.00000000e+00,  7.10542736e-15,\n",
       "         1.20000000e+01,  4.50000000e+01,  6.60000000e+01,\n",
       "         5.40000000e+01,  2.10000000e+01,  7.10542736e-15],\n",
       "       [-3.55271368e-15,  0.00000000e+00, -7.10542736e-15,\n",
       "         0.00000000e+00,  1.20000000e+01,  4.50000000e+01,\n",
       "         6.60000000e+01,  5.40000000e+01,  2.10000000e+01],\n",
       "       [ 2.10000000e+01,  0.00000000e+00,  0.00000000e+00,\n",
       "        -3.55271368e-15,  7.10542736e-15,  1.20000000e+01,\n",
       "         4.50000000e+01,  6.60000000e+01,  5.40000000e+01],\n",
       "       [ 5.40000000e+01,  2.10000000e+01,  0.00000000e+00,\n",
       "        -2.66453526e-15,  0.00000000e+00,  0.00000000e+00,\n",
       "         1.20000000e+01,  4.50000000e+01,  6.60000000e+01]])"
      ]
     },
     "execution_count": 7,
     "metadata": {},
     "output_type": "execute_result"
    }
   ],
   "source": [
    "from  scipy.fft import fft2, ifft2\n",
    "import numpy.linalg\n",
    "\n",
    "# H = F^{T} D F\n",
    "# Hx = F^{T} D F x = ifft2(D *. fft2(x))\n",
    "\n",
    "y = numpy.identity(9)\n",
    "h = p1\n",
    "\n",
    "n, m = h.shape\n",
    "h_pad = numpy.zeros_like(y)\n",
    "h_pad[0:n, 0:m] = numpy.copy(h)\n",
    "center = numpy.array(h.shape) // 2\n",
    "\n",
    "h_pad_shifted = lasp.utils.circshift(h_pad, 1-center)\n",
    "\n",
    "# Eigens values of patrix bccb generate by h\n",
    "bccb_eigen_values = fft2(h_pad_shifted)\n",
    "\n",
    "print(bccb @ y)\n",
    "\n",
    "numpy.real(ifft2(bccb_eigen_values * fft2(y)))\n",
    "\n",
    "\n",
    "\n",
    "\n",
    "\n",
    "\n",
    "# print(eigen_values)\n",
    "# print(scipy.fft.ifft2(eigen_values * numpy.fft.fft2(numpy.identity(numpy.min(eigen_values.shape)))))"
   ]
  },
  {
   "cell_type": "code",
   "execution_count": 8,
   "metadata": {},
   "outputs": [
    {
     "data": {
      "text/plain": [
       "array([[5, 6, 7, 8, 9],\n",
       "       [0, 1, 2, 3, 4]])"
      ]
     },
     "execution_count": 8,
     "metadata": {},
     "output_type": "execute_result"
    }
   ],
   "source": [
    "x = numpy.array([[0, 1, 2, 3, 4],\n",
    "       [5, 6, 7, 8, 9]])\n",
    "numpy.roll(x, (1, 0), (0, 1))\n",
    "# array([[9, 0, 1, 2, 3],\n",
    "#        [4, 5, 6, 7, 8]])"
   ]
  },
  {
   "cell_type": "code",
   "execution_count": 9,
   "metadata": {},
   "outputs": [],
   "source": [
    "def make_bccb(h: numpy.ndarray) -> numpy.ndarray :\n",
    "    \n",
    "    size_block = h.shape[0]\n",
    "\n",
    "    center = numpy.ceil(numpy.array(h.shape) / 2).astype(int)\n",
    "    shift = 1-center\n",
    "    h_shift = lasp.utils.circshift(h, shift)\n",
    "\n",
    "    dim = size_block**2\n",
    "\n",
    "    col = numpy.reshape(h_shift.T, newshape=dim)\n",
    "    \n",
    "    bccb = numpy.zeros(shape=(dim, dim))\n",
    "    bccb[:, 0] = col\n",
    "\n",
    "    for i in range(1, h.shape[0]):\n",
    "        for j in range(0, size_block**2, size_block):\n",
    "            bccb[j:j+size_block, i] = numpy.roll(bccb[j:j+size_block, i-1], 1)\n",
    "\n",
    "    for i in range(1, 3):\n",
    "        bccb[:, size_block*i: size_block*i+size_block] = \\\n",
    "            numpy.roll(\n",
    "                bccb[:, size_block*(i-1): size_block*(i-1)+size_block], \n",
    "                (size_block, 0), \n",
    "                (0, 1)\n",
    "            )\n",
    "\n",
    "\n",
    "    return bccb"
   ]
  },
  {
   "cell_type": "code",
   "execution_count": 10,
   "metadata": {},
   "outputs": [
    {
     "name": "stdout",
     "output_type": "stream",
     "text": [
      "[[0 1 2]\n",
      " [3 4 5]\n",
      " [6 7 8]]\n",
      "[0 3 6 1 4 7 2 5 8]\n"
     ]
    }
   ],
   "source": [
    "h = numpy.array(\n",
    "    [\n",
    "        [1, 2, 3],\n",
    "        [4, 5, 6],\n",
    "        [7, 8, 9]\n",
    "    ]\n",
    ")\n",
    "\n",
    "x_mat = numpy.reshape(numpy.arange(0, 9), (3, 3))\n",
    "x_vec = numpy.reshape(x_mat, newshape=9, order='F')\n",
    "print(x_mat)\n",
    "print(x_vec)\n"
   ]
  },
  {
   "cell_type": "code",
   "execution_count": 11,
   "metadata": {},
   "outputs": [
    {
     "data": {
      "text/plain": [
       "array([210., 129., 210., 201., 120., 201., 210., 129., 210.])"
      ]
     },
     "execution_count": 11,
     "metadata": {},
     "output_type": "execute_result"
    }
   ],
   "source": [
    "H = make_bccb(h)\n",
    "H @ x_vec"
   ]
  },
  {
   "cell_type": "code",
   "execution_count": 12,
   "metadata": {},
   "outputs": [
    {
     "name": "stdout",
     "output_type": "stream",
     "text": [
      "[[ 16.   13.   16. ]\n",
      " [ 65.5  62.5  65.5]\n",
      " [-33.5 -36.5 -33.5]]\n"
     ]
    }
   ],
   "source": [
    "import scipy.fft\n",
    "\n",
    "size_block = h.shape[0]\n",
    "center = numpy.ceil(numpy.array(h.shape) / 2).astype(int)\n",
    "shift = 1-center\n",
    "h_shift = lasp.utils.circshift(h, shift)\n",
    "\n",
    "s = scipy.fft.fft2(h_shift)\n",
    "b = scipy.fft.ifft2(s * scipy.fft.fft(x_mat))\n",
    "b = numpy.real(b)\n",
    "print(b)\n"
   ]
  },
  {
   "cell_type": "code",
   "execution_count": 13,
   "metadata": {},
   "outputs": [
    {
     "data": {
      "text/plain": [
       "array([45.         -0.j        , -2.81907786 -3.35964617j,\n",
       "        2.29813333 +0.40522291j,  0.        -15.58845727j,\n",
       "        0.52094453 -1.43128334j,  0.52094453 +1.43128334j,\n",
       "        0.        +15.58845727j,  2.29813333 -0.40522291j,\n",
       "       -2.81907786 +3.35964617j])"
      ]
     },
     "execution_count": 13,
     "metadata": {},
     "output_type": "execute_result"
    }
   ],
   "source": [
    "import scipy.fft\n",
    "\n",
    "lamda = scipy.fft.fft(H[:, 0])\n",
    "lamda"
   ]
  },
  {
   "cell_type": "code",
   "execution_count": 14,
   "metadata": {},
   "outputs": [
    {
     "data": {
      "text/plain": [
       "array([[45. -0.j        ,  0. -5.19615242j,  0. +5.19615242j],\n",
       "       [ 0.-15.58845727j,  0. +0.j        ,  0. -0.j        ],\n",
       "       [ 0.+15.58845727j,  0. +0.j        ,  0. -0.j        ]])"
      ]
     },
     "execution_count": 14,
     "metadata": {},
     "output_type": "execute_result"
    }
   ],
   "source": [
    "size_block = h.shape[0]\n",
    "\n",
    "center = numpy.ceil(numpy.array(h.shape) / 2).astype(int)\n",
    "shift = 1-center\n",
    "h_shift = lasp.utils.circshift(h, shift)\n",
    "scipy.fft.fft2(h_shift)"
   ]
  },
  {
   "cell_type": "code",
   "execution_count": 15,
   "metadata": {},
   "outputs": [],
   "source": [
    "x_vec = numpy.arange(0, 9)\n",
    "x_mat = numpy.reshape(x_vec, (3, 3))"
   ]
  },
  {
   "cell_type": "code",
   "execution_count": 16,
   "metadata": {},
   "outputs": [
    {
     "name": "stdout",
     "output_type": "stream",
     "text": [
      "[0 1 2 3 4 5 6 7 8]\n",
      "[[0 1 2]\n",
      " [3 4 5]\n",
      " [6 7 8]]\n"
     ]
    }
   ],
   "source": [
    "print(x_vec)\n",
    "print(x_mat)"
   ]
  },
  {
   "cell_type": "code",
   "execution_count": 17,
   "metadata": {},
   "outputs": [
    {
     "data": {
      "text/plain": [
       "array([[ 36. -0.j        ,  -4.5+2.59807621j,  -4.5-2.59807621j],\n",
       "       [-13.5+7.79422863j,   0. +0.j        ,   0. -0.j        ],\n",
       "       [-13.5-7.79422863j,   0. +0.j        ,   0. -0.j        ]])"
      ]
     },
     "execution_count": 17,
     "metadata": {},
     "output_type": "execute_result"
    }
   ],
   "source": [
    "scipy.fft.fft2(x_mat)"
   ]
  },
  {
   "cell_type": "code",
   "execution_count": 18,
   "metadata": {},
   "outputs": [
    {
     "data": {
      "text/plain": [
       "2.0"
      ]
     },
     "execution_count": 18,
     "metadata": {},
     "output_type": "execute_result"
    }
   ],
   "source": [
    "numpy.round(1.5)"
   ]
  },
  {
   "cell_type": "code",
   "execution_count": null,
   "metadata": {},
   "outputs": [],
   "source": []
  }
 ],
 "metadata": {
  "kernelspec": {
   "display_name": "Python 3.10.9 64-bit",
   "language": "python",
   "name": "python3"
  },
  "language_info": {
   "codemirror_mode": {
    "name": "ipython",
    "version": 3
   },
   "file_extension": ".py",
   "mimetype": "text/x-python",
   "name": "python",
   "nbconvert_exporter": "python",
   "pygments_lexer": "ipython3",
   "version": "3.10.12"
  },
  "orig_nbformat": 4,
  "vscode": {
   "interpreter": {
    "hash": "ed1c4bfab4690d67806cf533d12ae48a212eb9cbd358ee70c751e08b3ad01a48"
   }
  }
 },
 "nbformat": 4,
 "nbformat_minor": 2
}
