{
 "cells": [
  {
   "cell_type": "code",
   "execution_count": 82,
   "metadata": {},
   "outputs": [],
   "source": [
    "import sys\n",
    "sys.path.append('..')"
   ]
  },
  {
   "cell_type": "code",
   "execution_count": 83,
   "metadata": {},
   "outputs": [],
   "source": [
    "import numpy"
   ]
  },
  {
   "cell_type": "code",
   "execution_count": 84,
   "metadata": {},
   "outputs": [
    {
     "data": {
      "text/plain": [
       "array([[11, 12, 13],\n",
       "       [21, 22, 23],\n",
       "       [31, 32, 33]])"
      ]
     },
     "execution_count": 84,
     "metadata": {},
     "output_type": "execute_result"
    }
   ],
   "source": [
    "p = numpy.array(\n",
    "    [\n",
    "        [11, 12, 13],\n",
    "        [21, 22, 23],\n",
    "        [31, 32, 33],\n",
    "    ]\n",
    ")\n",
    "p"
   ]
  },
  {
   "cell_type": "code",
   "execution_count": 117,
   "metadata": {},
   "outputs": [
    {
     "name": "stdout",
     "output_type": "stream",
     "text": [
      "[[22 23 21]\n",
      " [32 33 31]\n",
      " [12 13 11]]\n"
     ]
    }
   ],
   "source": [
    "import lasp.utils\n",
    "p1 = lasp.utils.circshift(p, center=1-numpy.array([2, 2]))\n",
    "print(p1)"
   ]
  },
  {
   "cell_type": "code",
   "execution_count": 178,
   "metadata": {},
   "outputs": [],
   "source": [
    "def make_bccb(p: numpy.ndarray) -> numpy.ndarray :\n",
    "    \n",
    "    dim = numpy.prod(numpy.array(p.shape))\n",
    "    p_cpy = numpy.copy(p)\n",
    "    \n",
    "    p1 = numpy.reshape(p_cpy.T, newshape=dim)\n",
    "    P = numpy.zeros(shape=(dim, dim))\n",
    "    P[:, 0] = p1\n",
    "\n",
    "    for i in range(1, 3):\n",
    "        for j in range(0, 3*3, 3):\n",
    "            P[j:j+3, i] = numpy.roll(P[j:j+3, i-1], 1)\n",
    "\n",
    "    for i in range(1, 3):\n",
    "        P[:, 3*i: 3*i+3] = numpy.roll(P[:, 3*(i-1): 3*(i-1)+3], (3, 0), (0, 1))\n",
    "\n",
    "\n",
    "    return P"
   ]
  },
  {
   "cell_type": "code",
   "execution_count": 180,
   "metadata": {},
   "outputs": [
    {
     "data": {
      "text/plain": [
       "array([[22., 12., 32., 21., 11., 31., 23., 13., 33.],\n",
       "       [32., 22., 12., 31., 21., 11., 33., 23., 13.],\n",
       "       [12., 32., 22., 11., 31., 21., 13., 33., 23.],\n",
       "       [23., 13., 33., 22., 12., 32., 21., 11., 31.],\n",
       "       [33., 23., 13., 32., 22., 12., 31., 21., 11.],\n",
       "       [13., 33., 23., 12., 32., 22., 11., 31., 21.],\n",
       "       [21., 11., 31., 23., 13., 33., 22., 12., 32.],\n",
       "       [31., 21., 11., 33., 23., 13., 32., 22., 12.],\n",
       "       [11., 31., 21., 13., 33., 23., 12., 32., 22.]])"
      ]
     },
     "execution_count": 180,
     "metadata": {},
     "output_type": "execute_result"
    }
   ],
   "source": [
    "make_bccb(p1)"
   ]
  },
  {
   "cell_type": "code",
   "execution_count": 167,
   "metadata": {},
   "outputs": [
    {
     "data": {
      "text/plain": [
       "array([[5, 6, 7, 8, 9],\n",
       "       [0, 1, 2, 3, 4]])"
      ]
     },
     "execution_count": 167,
     "metadata": {},
     "output_type": "execute_result"
    }
   ],
   "source": [
    "x = numpy.array([[0, 1, 2, 3, 4],\n",
    "       [5, 6, 7, 8, 9]])\n",
    "numpy.roll(x, (1, 0), (0, 1))\n",
    "# array([[9, 0, 1, 2, 3],\n",
    "#        [4, 5, 6, 7, 8]])"
   ]
  },
  {
   "cell_type": "code",
   "execution_count": 214,
   "metadata": {},
   "outputs": [],
   "source": [
    "def make_bccb(h: numpy.ndarray) -> numpy.ndarray :\n",
    "    \n",
    "    size_block = h.shape[0]\n",
    "\n",
    "    center = numpy.ceil(numpy.array(h.shape) / 2).astype(int)\n",
    "    shift = 1-center\n",
    "    h_shift = lasp.utils.circshift(h, shift)\n",
    "\n",
    "    dim = size_block**2\n",
    "\n",
    "    col = numpy.reshape(h_shift.T, newshape=dim)\n",
    "    \n",
    "    bccb = numpy.zeros(shape=(dim, dim))\n",
    "    bccb[:, 0] = col\n",
    "\n",
    "    for i in range(1, h.shape[0]):\n",
    "        for j in range(0, size_block**2, size_block):\n",
    "            bccb[j:j+size_block, i] = numpy.roll(bccb[j:j+size_block, i-1], 1)\n",
    "\n",
    "    for i in range(1, 3):\n",
    "        bccb[:, size_block*i: size_block*i+size_block] = \\\n",
    "            numpy.roll(\n",
    "                bccb[:, size_block*(i-1): size_block*(i-1)+size_block], \n",
    "                (size_block, 0), \n",
    "                (0, 1)\n",
    "            )\n",
    "\n",
    "\n",
    "    return bccb"
   ]
  },
  {
   "cell_type": "code",
   "execution_count": 217,
   "metadata": {},
   "outputs": [
    {
     "data": {
      "text/plain": [
       "array([[22., 12., 32., 21., 11., 31., 23., 13., 33.],\n",
       "       [32., 22., 12., 31., 21., 11., 33., 23., 13.],\n",
       "       [12., 32., 22., 11., 31., 21., 13., 33., 23.],\n",
       "       [23., 13., 33., 22., 12., 32., 21., 11., 31.],\n",
       "       [33., 23., 13., 32., 22., 12., 31., 21., 11.],\n",
       "       [13., 33., 23., 12., 32., 22., 11., 31., 21.],\n",
       "       [21., 11., 31., 23., 13., 33., 22., 12., 32.],\n",
       "       [31., 21., 11., 33., 23., 13., 32., 22., 12.],\n",
       "       [11., 31., 21., 13., 33., 23., 12., 32., 22.]])"
      ]
     },
     "execution_count": 217,
     "metadata": {},
     "output_type": "execute_result"
    }
   ],
   "source": [
    "h = numpy.array(\n",
    "    [\n",
    "        [11, 12, 13],\n",
    "        [21, 22, 23],\n",
    "        [31, 32, 33],\n",
    "    ]\n",
    ")\n",
    "\n",
    "H = make_bccb(h)\n",
    "H"
   ]
  },
  {
   "cell_type": "code",
   "execution_count": 218,
   "metadata": {},
   "outputs": [
    {
     "data": {
      "text/plain": [
       "array([[198.  -0.j        , -15. +41.21216129j, -15. +17.87630389j,\n",
       "         -4.5 +2.59807621j, -15.  +2.64490471j, -15.  -2.64490471j,\n",
       "         -4.5 -2.59807621j, -15. -17.87630389j, -15. -41.21216129j]])"
      ]
     },
     "execution_count": 218,
     "metadata": {},
     "output_type": "execute_result"
    }
   ],
   "source": [
    "\n"
   ]
  },
  {
   "cell_type": "code",
   "execution_count": 219,
   "metadata": {},
   "outputs": [
    {
     "data": {
      "text/plain": [
       "array([ 1.98000000e+02+0.00000000e+00j, -1.06581410e-14+5.19615242e+01j,\n",
       "       -1.06581410e-14-5.19615242e+01j,  7.77156117e-16+5.19615242e+00j,\n",
       "        7.77156117e-16-5.19615242e+00j,  8.31489188e-15+0.00000000e+00j,\n",
       "       -1.37962120e-15+0.00000000e+00j, -1.62773417e-15+2.22224132e-15j,\n",
       "       -1.62773417e-15-2.22224132e-15j])"
      ]
     },
     "execution_count": 219,
     "metadata": {},
     "output_type": "execute_result"
    }
   ],
   "source": []
  },
  {
   "cell_type": "code",
   "execution_count": null,
   "metadata": {},
   "outputs": [],
   "source": []
  }
 ],
 "metadata": {
  "interpreter": {
   "hash": "d8af255b71a47211f3bbb11e1d8c056494be1673d7ecf3fd6691ea74e9e18340"
  },
  "kernelspec": {
   "display_name": "Python 3.10.4 64-bit",
   "language": "python",
   "name": "python3"
  },
  "language_info": {
   "codemirror_mode": {
    "name": "ipython",
    "version": 3
   },
   "file_extension": ".py",
   "mimetype": "text/x-python",
   "name": "python",
   "nbconvert_exporter": "python",
   "pygments_lexer": "ipython3",
   "version": "3.10.4"
  },
  "orig_nbformat": 4
 },
 "nbformat": 4,
 "nbformat_minor": 2
}
