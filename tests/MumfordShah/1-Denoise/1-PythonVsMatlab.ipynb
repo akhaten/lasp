{
 "cells": [
  {
   "cell_type": "markdown",
   "metadata": {},
   "source": [
    "# Comparaison between Python and Matlab for denoising"
   ]
  },
  {
   "cell_type": "markdown",
   "metadata": {},
   "source": [
    "## Google Colab Integration"
   ]
  },
  {
   "cell_type": "code",
   "execution_count": 12,
   "metadata": {},
   "outputs": [],
   "source": [
    "# !git clone https://github.com/Stage-SuperResolution/NAME-REPO.git\n",
    "# !mv NAME-REPO/* .\n",
    "# !rm -rf NAME-REPO\n",
    "# !pip install git+https://github.com/akhaten/lasp.git@COMPLETE-COMMIT"
   ]
  },
  {
   "cell_type": "markdown",
   "metadata": {},
   "source": [
    "## Import"
   ]
  },
  {
   "cell_type": "code",
   "execution_count": 13,
   "metadata": {},
   "outputs": [],
   "source": [
    "# Lasp module\n",
    "\n",
    "import sys\n",
    "sys.path.append('../../..')\n",
    "\n",
    "import lasp.io\n",
    "import lasp.filters.linear\n",
    "import lasp.noise\n",
    "import lasp.convert\n",
    "import lasp.algorithm.experimental\n",
    "import lasp.thresholding\n",
    "import lasp.differential\n",
    "import lasp.utils\n",
    "\n",
    "# Other\n",
    "\n",
    "import scipy.signal\n",
    "import scipy.io.matlab\n",
    "import numpy\n",
    "import pandas\n",
    "import tqdm\n",
    "import pathlib\n",
    "import matplotlib.pyplot\n",
    "\n",
    "IMAGE_PATH = pathlib.Path('../0-Images')\n",
    "PYMAT_PATH = pathlib.Path('./1-PythonVsMatlab')\n",
    "if not(PYMAT_PATH.exists()):\n",
    "    PYMAT_PATH.mkdir()"
   ]
  },
  {
   "cell_type": "markdown",
   "metadata": {},
   "source": [
    "## Test On"
   ]
  },
  {
   "cell_type": "code",
   "execution_count": 14,
   "metadata": {},
   "outputs": [],
   "source": [
    "def mumford_shah_denoise_v1(\n",
    "    y: numpy.ndarray,\n",
    "    alpha: float,\n",
    "    beta: float,\n",
    "    sigma: float,\n",
    "    nb_iterations: int,\n",
    "    tolerance: float,\n",
    "    error_history: list[float] = None\n",
    ") -> numpy.ndarray:\n",
    "\n",
    "    \"\"\"Mumford Shah\n",
    "    \n",
    "    Solve argmin_{x} { (alpha/2) || y - x ||^2 + (beta/2) || nabla y ||^2 + || nabla y ||_1 }\n",
    "    \"\"\"\n",
    "\n",
    "    Dx = lasp.differential.dx\n",
    "    Dy = lasp.differential.dy\n",
    "    Dxt = lasp.differential.dxT\n",
    "    Dyt = lasp.differential.dyT\n",
    "\n",
    "    # Build kernel\n",
    "    laplacian = lasp.filters.linear.laplacian()\n",
    "    lap_diag = lasp.utils.fourier_diagonalization(\n",
    "        kernel = laplacian,\n",
    "        shape_out = y.shape \n",
    "    )\n",
    "   \n",
    "\n",
    "    uker = alpha + (beta+sigma) * lap_diag\n",
    "\n",
    "    rhs1fft = alpha * numpy.fft.fft2(y)\n",
    "\n",
    "    # Initialization\n",
    "    u = numpy.copy(y) \n",
    "    d_x=numpy.zeros_like(y)\n",
    "    d_y=numpy.zeros_like(y)\n",
    "    b_x=numpy.zeros_like(y)\n",
    "    b_y=numpy.zeros_like(y)\n",
    "\n",
    "    for _ in range(0, nb_iterations):\n",
    "\n",
    "        rhs2 = sigma*Dxt(d_x-b_x)+sigma*Dyt(d_y-b_y)\n",
    "        rhsfft = rhs1fft + numpy.fft.fft2(rhs2)\n",
    "\n",
    "        u0=numpy.copy(u)\n",
    "        \n",
    "        u_fft = rhsfft / uker\n",
    "        u = numpy.real(numpy.fft.ifft2(u_fft))    \n",
    "\n",
    "        err = numpy.linalg.norm(u-u0, 'fro') / numpy.linalg.norm(u, 'fro')\n",
    "        \n",
    "        if not(error_history is None):\n",
    "            error_history.append(err)\n",
    "\n",
    "        if err < tolerance:\n",
    "            break\n",
    "        \n",
    "        u_dx, u_dy = Dx(u), Dy(u)\n",
    "\n",
    "        d_x, d_y = lasp.thresholding.multidimensional_soft(\n",
    "            d = numpy.array([ u_dx + b_x, u_dy + b_y ]),\n",
    "            epsilon = 1/sigma\n",
    "        )\n",
    "\n",
    "        b_x += (u_dx - d_x)\n",
    "        b_y += (u_dy - d_y)\n",
    "\n",
    "    u_normalized = lasp.utils.normalize(u)\n",
    "\n",
    "    return u_normalized"
   ]
  },
  {
   "cell_type": "markdown",
   "metadata": {},
   "source": [
    "## Dataset utils"
   ]
  },
  {
   "cell_type": "code",
   "execution_count": 15,
   "metadata": {},
   "outputs": [],
   "source": [
    "def image_from(params: pandas.Series) -> numpy.ndarray:\n",
    "\n",
    "    image_path = params['image']\n",
    "    noise = params['noise']\n",
    "    \n",
    "    img = lasp.io.read(image_path)\n",
    "    out = numpy.copy(img) # x\n",
    "\n",
    "    if pandas.notna(noise):\n",
    "        out = lasp.noise.awgn(out, snr=noise) # x + n\n",
    "\n",
    "    return out # y = x + n\n",
    "\n",
    "def add(\n",
    "    dataset: pandas.DataFrame,\n",
    "    image: pathlib.Path,\n",
    "    alpha: float,\n",
    "    beta: float,\n",
    "    sigma: float,\n",
    "    tol: float,\n",
    "    iterations: int,\n",
    "    noise: float\n",
    ") -> pandas.DataFrame:\n",
    "\n",
    "    to_add = pandas.DataFrame(\n",
    "        {\n",
    "            'image' : [image], \n",
    "            'alpha' : [alpha],\n",
    "            'beta' : [beta],\n",
    "            'sigma' : [sigma],\n",
    "            'tol' : [tol], \n",
    "            'iterations' : [iterations], \n",
    "            'noise' : [noise]\n",
    "        }\n",
    "    )\n",
    "\n",
    "    return pandas.concat([dataset, to_add], ignore_index=True)\n",
    "\n",
    "def process_from_index(dataset: pandas.DataFrame, index: int) -> tuple[numpy.ndarray, numpy.ndarray]:\n",
    "   \n",
    "\n",
    "    params = dataset.loc[index] # Get params from dataset\n",
    "\n",
    "\n",
    "    out = image_from(params)\n",
    "    normalized = lasp.utils.normalize(out) \n",
    "\n",
    "    # Hyper-parameters\n",
    "    alpha = params['alpha']\n",
    "    beta = params['beta']\n",
    "    sigma = params['sigma']\n",
    "\n",
    "    # Iterative parameters\n",
    "    tol = params['tol']\n",
    "    iterations = params['iterations']\n",
    "\n",
    "    errors = []\n",
    "\n",
    "    res = mumford_shah_denoise_v1(\n",
    "        normalized, \n",
    "        alpha, beta, sigma,\n",
    "        iterations, tol, \n",
    "        errors\n",
    "    )\n",
    "\n",
    "    return res, errors"
   ]
  },
  {
   "cell_type": "code",
   "execution_count": 16,
   "metadata": {},
   "outputs": [],
   "source": [
    "def make_dataset() -> pandas.DataFrame:    \n",
    "    \n",
    "\n",
    "    dataset = pandas.DataFrame(\n",
    "        columns = [\n",
    "            'image' , # Image path\n",
    "            'alpha', 'beta', 'sigma', # Hyper-parameters\n",
    "            'tol', 'iterations' # Iterative parameters\n",
    "        ]\n",
    "    )\n",
    "\n",
    "    dataset = add(\n",
    "        dataset = dataset, \n",
    "        image = IMAGE_PATH / 'Baboon.bmp', \n",
    "        alpha = 100, beta = 1, sigma = 2, \n",
    "        tol = 1e-4, iterations = 300, noise = lasp.convert.snrdb_to_snr(30)\n",
    "    )\n",
    "\n",
    "    return dataset"
   ]
  },
  {
   "cell_type": "code",
   "execution_count": 17,
   "metadata": {},
   "outputs": [
    {
     "data": {
      "text/html": [
       "<div>\n",
       "<style scoped>\n",
       "    .dataframe tbody tr th:only-of-type {\n",
       "        vertical-align: middle;\n",
       "    }\n",
       "\n",
       "    .dataframe tbody tr th {\n",
       "        vertical-align: top;\n",
       "    }\n",
       "\n",
       "    .dataframe thead th {\n",
       "        text-align: right;\n",
       "    }\n",
       "</style>\n",
       "<table border=\"1\" class=\"dataframe\">\n",
       "  <thead>\n",
       "    <tr style=\"text-align: right;\">\n",
       "      <th></th>\n",
       "      <th>image</th>\n",
       "      <th>alpha</th>\n",
       "      <th>beta</th>\n",
       "      <th>sigma</th>\n",
       "      <th>tol</th>\n",
       "      <th>iterations</th>\n",
       "      <th>noise</th>\n",
       "    </tr>\n",
       "  </thead>\n",
       "  <tbody>\n",
       "    <tr>\n",
       "      <th>0</th>\n",
       "      <td>../0-Images/Baboon.bmp</td>\n",
       "      <td>100</td>\n",
       "      <td>1</td>\n",
       "      <td>2</td>\n",
       "      <td>0.0001</td>\n",
       "      <td>300</td>\n",
       "      <td>31.622777</td>\n",
       "    </tr>\n",
       "  </tbody>\n",
       "</table>\n",
       "</div>"
      ],
      "text/plain": [
       "                    image alpha beta sigma     tol iterations      noise\n",
       "0  ../0-Images/Baboon.bmp   100    1     2  0.0001        300  31.622777"
      ]
     },
     "execution_count": 17,
     "metadata": {},
     "output_type": "execute_result"
    }
   ],
   "source": [
    "DATASET_PATH = PYMAT_PATH / pathlib.Path('dataset.pkl')\n",
    "dataset = make_dataset()\n",
    "dataset"
   ]
  },
  {
   "cell_type": "code",
   "execution_count": 18,
   "metadata": {},
   "outputs": [],
   "source": [
    "pandas.to_pickle(dataset, DATASET_PATH)"
   ]
  },
  {
   "cell_type": "code",
   "execution_count": 19,
   "metadata": {},
   "outputs": [],
   "source": [
    "MAT_PATH = PYMAT_PATH / 'datas.mat'\n",
    "\n",
    "def make_mat(dataset: pandas.DataFrame, index: int) -> dict:\n",
    "    datas = dataset.loc[index].to_dict()\n",
    "    img = image_from(dataset.loc[index])\n",
    "    normalized = lasp.utils.normalize(img)\n",
    "    datas['image'] = normalized\n",
    "    return datas\n",
    "\n",
    "scipy.io.matlab.savemat(MAT_PATH, make_mat(dataset, index=0))"
   ]
  },
  {
   "cell_type": "markdown",
   "metadata": {},
   "source": [
    "## Process Dataset"
   ]
  },
  {
   "cell_type": "code",
   "execution_count": 20,
   "metadata": {},
   "outputs": [
    {
     "name": "stderr",
     "output_type": "stream",
     "text": [
      "100%|██████████| 1/1 [00:08<00:00,  8.85s/it]\n"
     ]
    }
   ],
   "source": [
    "begin = 0\n",
    "dataset = pandas.read_pickle(DATASET_PATH)\n",
    "dataset_filtered = dataset.loc[begin:]\n",
    "\n",
    "RESULTS_PATH = PYMAT_PATH / pathlib.Path('./results')\n",
    "if not(RESULTS_PATH.exists()):\n",
    "    RESULTS_PATH.mkdir()\n",
    "\n",
    "for i in tqdm.tqdm(dataset_filtered.index):\n",
    "\n",
    "\n",
    "    RES_CURRENT_PATH = RESULTS_PATH / str(i)\n",
    "    if not(RES_CURRENT_PATH.exists()):\n",
    "        RES_CURRENT_PATH.mkdir()\n",
    "\n",
    "    res, errors = process_from_index(dataset_filtered, i)\n",
    "\n",
    "    lasp.io.save(res, RES_CURRENT_PATH / 'result.npy')\n",
    "    lasp.io.save(res, RES_CURRENT_PATH / 'result.png')\n",
    "    lasp.io.save(errors, RES_CURRENT_PATH / 'errors.npy')"
   ]
  },
  {
   "cell_type": "markdown",
   "metadata": {},
   "source": [
    "## Comparaison with Matlab results"
   ]
  },
  {
   "cell_type": "code",
   "execution_count": 21,
   "metadata": {},
   "outputs": [],
   "source": [
    "# res_mat = scipy.io.matlab.loadmat(pathlib.Path('./res.mat'))[???]\n",
    "# res_py = lasp.io.read(RESULTS_PATH / '0' / 'result.npy')"
   ]
  },
  {
   "cell_type": "code",
   "execution_count": 22,
   "metadata": {},
   "outputs": [],
   "source": [
    "# print(numpy.max(numpy.abs(res_py-res_mat)))"
   ]
  }
 ],
 "metadata": {
  "kernelspec": {
   "display_name": "Python 3.10.8 64-bit",
   "language": "python",
   "name": "python3"
  },
  "language_info": {
   "codemirror_mode": {
    "name": "ipython",
    "version": 3
   },
   "file_extension": ".py",
   "mimetype": "text/x-python",
   "name": "python",
   "nbconvert_exporter": "python",
   "pygments_lexer": "ipython3",
   "version": "3.10.8"
  },
  "orig_nbformat": 4,
  "vscode": {
   "interpreter": {
    "hash": "45713a178c5a966329bc5f3278f046d4b32f51be72879f469edfd7ae44ddee4d"
   }
  }
 },
 "nbformat": 4,
 "nbformat_minor": 2
}
