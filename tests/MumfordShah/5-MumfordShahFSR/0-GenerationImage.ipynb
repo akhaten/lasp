{
 "cells": [
  {
   "cell_type": "code",
   "execution_count": 12,
   "metadata": {},
   "outputs": [],
   "source": [
    "# Lasp module\n",
    "\n",
    "import sys\n",
    "sys.path.append('../../..')\n",
    "\n",
    "import lasp.io\n",
    "import lasp.convert\n",
    "\n",
    "# Other\n",
    "import pandas\n",
    "import pathlib\n",
    "import matplotlib.pyplot\n",
    "import yaml\n",
    "\n",
    "# PATH = pathlib.Path('./5-MumfordShahFSR')\n",
    "# if not(PATH.exists()):\n",
    "#     PATH.mkdir()"
   ]
  },
  {
   "cell_type": "code",
   "execution_count": 13,
   "metadata": {},
   "outputs": [],
   "source": [
    "import dataset\n",
    "IMAGES_PATH = pathlib.Path('../0-Images')\n",
    "GENERATION_PATH = pathlib.Path('./images-generated')\n",
    "if not(GENERATION_PATH.exists()):\n",
    "    GENERATION_PATH.mkdir()\n",
    "IMG_GEN_PKL = GENERATION_PATH / 'df_imgs.pkl'"
   ]
  },
  {
   "cell_type": "code",
   "execution_count": 14,
   "metadata": {},
   "outputs": [
    {
     "name": "stdout",
     "output_type": "stream",
     "text": [
      "{'imgs_gen_path': 'images-generated'}\n"
     ]
    },
    {
     "data": {
      "text/html": [
       "<div>\n",
       "<style scoped>\n",
       "    .dataframe tbody tr th:only-of-type {\n",
       "        vertical-align: middle;\n",
       "    }\n",
       "\n",
       "    .dataframe tbody tr th {\n",
       "        vertical-align: top;\n",
       "    }\n",
       "\n",
       "    .dataframe thead th {\n",
       "        text-align: right;\n",
       "    }\n",
       "</style>\n",
       "<table border=\"1\" class=\"dataframe\">\n",
       "  <thead>\n",
       "    <tr style=\"text-align: right;\">\n",
       "      <th></th>\n",
       "      <th>original</th>\n",
       "      <th>blur</th>\n",
       "      <th>decimation</th>\n",
       "      <th>noise</th>\n",
       "    </tr>\n",
       "  </thead>\n",
       "  <tbody>\n",
       "    <tr>\n",
       "      <th>0</th>\n",
       "      <td>../0-Images/Baboon.bmp</td>\n",
       "      <td>(15, 5)</td>\n",
       "      <td>2</td>\n",
       "      <td>1000.0</td>\n",
       "    </tr>\n",
       "    <tr>\n",
       "      <th>1</th>\n",
       "      <td>../0-Images/Baboon.bmp</td>\n",
       "      <td>(7, 3)</td>\n",
       "      <td>2</td>\n",
       "      <td>1000.0</td>\n",
       "    </tr>\n",
       "  </tbody>\n",
       "</table>\n",
       "</div>"
      ],
      "text/plain": [
       "                 original     blur decimation   noise\n",
       "0  ../0-Images/Baboon.bmp  (15, 5)          2  1000.0\n",
       "1  ../0-Images/Baboon.bmp   (7, 3)          2  1000.0"
      ]
     },
     "execution_count": 14,
     "metadata": {},
     "output_type": "execute_result"
    }
   ],
   "source": [
    "df_imgs = pandas.DataFrame(columns=[ 'original', 'blur', 'decimation', 'noise' ])\n",
    "noise = lasp.convert.snrdb_to_snr(60)\n",
    "df_imgs = dataset.add_image(df_imgs, IMAGES_PATH / 'Baboon.bmp', (15, 5), 2, noise)\n",
    "df_imgs = dataset.add_image(df_imgs, IMAGES_PATH / 'Baboon.bmp', (7, 3), 2, noise)\n",
    "# df_imgs.attrs['imgs_path'] = IMAGES_PATH\n",
    "df_imgs.attrs['imgs_gen_path'] = str(GENERATION_PATH)\n",
    "print(df_imgs.attrs)\n",
    "df_imgs"
   ]
  },
  {
   "cell_type": "code",
   "execution_count": 15,
   "metadata": {},
   "outputs": [],
   "source": [
    "if not(GENERATION_PATH.exists()):\n",
    "    GENERATION_PATH.mkdir()\n",
    "dataset.make_images(df_imgs, GENERATION_PATH)"
   ]
  },
  {
   "cell_type": "code",
   "execution_count": 16,
   "metadata": {},
   "outputs": [],
   "source": [
    "with open(GENERATION_PATH / 'metadatas.yml', 'w') as file:\n",
    "    yaml.dump(df_imgs.attrs, file)\n",
    "pandas.to_pickle(df_imgs, IMG_GEN_PKL)"
   ]
  }
 ],
 "metadata": {
  "kernelspec": {
   "display_name": "Python 3.10.9 64-bit",
   "language": "python",
   "name": "python3"
  },
  "language_info": {
   "codemirror_mode": {
    "name": "ipython",
    "version": 3
   },
   "file_extension": ".py",
   "mimetype": "text/x-python",
   "name": "python",
   "nbconvert_exporter": "python",
   "pygments_lexer": "ipython3",
   "version": "3.10.9"
  },
  "orig_nbformat": 4,
  "vscode": {
   "interpreter": {
    "hash": "ed1c4bfab4690d67806cf533d12ae48a212eb9cbd358ee70c751e08b3ad01a48"
   }
  }
 },
 "nbformat": 4,
 "nbformat_minor": 2
}
