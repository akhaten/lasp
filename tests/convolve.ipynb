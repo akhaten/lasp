{
 "cells": [
  {
   "cell_type": "code",
   "execution_count": 21,
   "metadata": {},
   "outputs": [],
   "source": [
    "import numpy\n",
    "import typing\n",
    "import sys\n",
    "sys.path.append('..')"
   ]
  },
  {
   "cell_type": "code",
   "execution_count": 22,
   "metadata": {},
   "outputs": [],
   "source": [
    "def convolve1D_circular(signal: numpy.ndarray, kernel: numpy.ndarray) -> numpy.ndarray:\n",
    "\n",
    "    out_shape = signal.shape[0] + kernel.shape[0] - 1\n",
    "    out = numpy.zeros(shape=out_shape)\n",
    "\n",
    "    for i in range(0, out_shape):\n",
    "        for k in range(0, kernel.shape[0]):\n",
    "            s_idx = (i - (kernel.shape[0]//2 - 1) + k) % signal.shape[0]\n",
    "            k_idx = kernel.shape[0]-1-k\n",
    "            out[i] += signal[s_idx] * kernel[k_idx]\n",
    "        \n",
    "    return out\n",
    "\n",
    "def convolve1D_zero_padding(signal: numpy.ndarray, kernel: numpy.ndarray) -> numpy.ndarray:\n",
    "\n",
    "    out_shape = signal.shape[0] + kernel.shape[0] - 1\n",
    "    out = numpy.zeros(shape=out_shape)\n",
    "\n",
    "    for i in range(0, out_shape):\n",
    "        for k in range(0, kernel.shape[0]):\n",
    "            s_idx = i - (kernel.shape[0]//2 - 1) + k\n",
    "            if (0 <= s_idx) and (s_idx < signal.shape[0]):\n",
    "                k_idx = kernel.shape[0]-1-k\n",
    "                out[i] += signal[s_idx] * kernel[k_idx]\n",
    "        \n",
    "    return out\n",
    "\n",
    "def convolve1D_padding_value(signal: numpy.ndarray, kernel: numpy.ndarray, padding_value: float) -> numpy.ndarray:\n",
    "\n",
    "    out_shape = signal.shape[0] + kernel.shape[0] - 1\n",
    "    out = numpy.zeros(shape=out_shape)\n",
    "\n",
    "    for i in range(0, out_shape):\n",
    "        for k in range(0, kernel.shape[0]):\n",
    "            s_idx = i - (kernel.shape[0]//2 - 1) + k\n",
    "            if (0 <= s_idx) and (s_idx < signal.shape[0]):\n",
    "                k_idx = kernel.shape[0]-1-k\n",
    "                out[i] += signal[s_idx] * kernel[k_idx]\n",
    "            else:\n",
    "                k_idx = kernel.shape[0]-1-k\n",
    "                out[i] += padding_value * kernel[k_idx]\n",
    "        \n",
    "    return out\n",
    "\n",
    "\n",
    "\n",
    "def convolve1D_zero_padding_v2(signal: numpy.ndarray, kernel: numpy.ndarray) -> numpy.ndarray:\n",
    "\n",
    "    out_shape = signal.shape[0] + kernel.shape[0] - 1\n",
    "    out = numpy.zeros(shape=out_shape)\n",
    "\n",
    "    for i in range(0, out_shape):\n",
    "        for k in range(0, kernel.shape[0]):\n",
    "            s_idx = i - (kernel.shape[0]//2 - 1) + k\n",
    "            if (0 <= s_idx) and (s_idx < signal.shape[0]):\n",
    "                k_idx = kernel.shape[0]-1-k\n",
    "                out[i] += signal[s_idx] * kernel[k_idx]\n",
    "        \n",
    "    return out\n",
    "\n",
    "\n",
    "\n",
    "\n",
    "\n",
    "\n",
    "def convolve1D_full(signal: numpy.ndarray, kernel: numpy.ndarray) -> numpy.ndarray:\n",
    "    \n",
    "    out_shape = signal.shape[0] + kernel.shape[0] - 1\n",
    "    \n",
    "    to_convolve = numpy.zeros(shape=signal.shape[0] + 2*(kernel.shape[0]-1))\n",
    "    to_convolve[kernel.shape[0]-1:-(kernel.shape[0]-1)] = signal\n",
    "    \n",
    "    out = numpy.zeros(shape=out_shape)\n",
    "    reversed_kernel = kernel[::-1]\n",
    "    \n",
    "    for i in range(0, out_shape):\n",
    "        for k in range(0, kernel.shape[0]):\n",
    "            out[i] += to_convolve[i+k]*reversed_kernel[k]\n",
    "            \n",
    "    return out\n",
    "\n",
    "    \n",
    "def convolve2D_full(signal: numpy.ndarray, kernel: numpy.ndarray) -> numpy.ndarray:\n",
    "    \n",
    "    out_shape = [\n",
    "        signal.shape[0] + kernel.shape[0] - 1,\n",
    "        signal.shape[1] + kernel.shape[1] - 1\n",
    "    ]\n",
    "    \n",
    "    to_convolve = numpy.zeros(\n",
    "        shape = [\n",
    "            signal.shape[0] + 2*(kernel.shape[0]-1),\n",
    "            signal.shape[1] + 2*(kernel.shape[1]-1)\n",
    "        ]\n",
    "    )\n",
    "    \n",
    "    to_convolve[\n",
    "        kernel.shape[0]-1:-(kernel.shape[0]-1),\n",
    "        kernel.shape[1]-1:-(kernel.shape[1]-1)\n",
    "    ] = signal\n",
    "    \n",
    "    out = numpy.zeros(shape=out_shape)\n",
    "    reversed_kernel = kernel[::-1, ::-1]\n",
    "    \n",
    "    for i in range(0, out_shape[0]):\n",
    "        for j in range(0, out_shape[1]):\n",
    "            for k1 in range(0, kernel.shape[0]):\n",
    "                for k2 in range(0, kernel.shape[1]):\n",
    "                    out[i, j] += to_convolve[i+k1, j+k2]*reversed_kernel[k1, k2]\n",
    "            \n",
    "    return out\n",
    "\n",
    "def gaussian1D(value: float, mu: float, sigma: float) -> typing.Union[float, numpy.ndarray]:\n",
    "    out = numpy.exp( - (value - mu)**2 / (2*sigma**2) )\n",
    "    # out /= ( 2*numpy.pi) ** (1/2)\n",
    "    out /= numpy.sqrt(2*numpy.pi)\n",
    "    out /= sigma\n",
    "    return out\n",
    "    \n",
    "# @classmethod\n",
    "# def gaussian2D(cls, x: float, y:float, mu_x: float, mu_y: float, sigma_x: float, sigma_y: float) -> float :\n",
    "#     out_x = numpy.exp( - (x - mu_x)**2 / sigma_x**2 )\n",
    "#     out_x /= ( 2*numpy.pi) ** (1/2) * sigma_x\n",
    "#     out_y = numpy.exp( - (y - mu_y)**2 / sigma_y**2 )\n",
    "#     out_y /= ( 2*numpy.pi) ** (1/2) * sigma_y\n",
    "#     return out_x * out_y\n",
    "\n",
    "\n",
    "def gaussian2D(x: float, y: float, mu_x: float, mu_y: float, sigma_x: float, sigma_y: float) -> typing.Union[float, numpy.ndarray]:\n",
    "    gaussian_x = gaussian1D(x, mu_x, sigma_x)\n",
    "    gaussian_y = gaussian1D(y, mu_y, sigma_y)\n",
    "    return gaussian_x*gaussian_y\n",
    "    \n",
    "\n",
    "def gaussianND(xi: numpy.ndarray, mu: numpy.ndarray, sigma: numpy.ndarray) -> typing.Union[float, numpy.ndarray]:\n",
    "    dim = len(xi)\n",
    "    gauss1D =  [ gaussian1D(xi[i], mu[i], sigma[i]) for i in range(0, dim) ]\n",
    "    out = numpy.multiply(*gauss1D)\n",
    "    return out"
   ]
  },
  {
   "cell_type": "code",
   "execution_count": 23,
   "metadata": {},
   "outputs": [
    {
     "data": {
      "text/plain": [
       "array([[0.05854983, 0.09653235, 0.05854983],\n",
       "       [0.09653235, 0.15915494, 0.09653235],\n",
       "       [0.05854983, 0.09653235, 0.05854983]])"
      ]
     },
     "execution_count": 23,
     "metadata": {},
     "output_type": "execute_result"
    }
   ],
   "source": [
    "size = numpy.array([3, 3])\n",
    "dim = 2\n",
    "params = [ numpy.arange(-size[i]//2+1, size[i]//2+1) for i in range(0, size.shape[0]) ]\n",
    "xi = numpy.meshgrid(*params)\n",
    "mu, sigma = 0.0, 1.0\n",
    "gaussian2D(*xi, mu, mu, sigma, sigma)"
   ]
  },
  {
   "cell_type": "code",
   "execution_count": 24,
   "metadata": {},
   "outputs": [
    {
     "data": {
      "text/plain": [
       "array([[[0.05854983, 0.05854983, 0.05854983],\n",
       "        [0.09653235, 0.09653235, 0.09653235],\n",
       "        [0.05854983, 0.05854983, 0.05854983]],\n",
       "\n",
       "       [[0.09653235, 0.09653235, 0.09653235],\n",
       "        [0.15915494, 0.15915494, 0.15915494],\n",
       "        [0.09653235, 0.09653235, 0.09653235]],\n",
       "\n",
       "       [[0.05854983, 0.05854983, 0.05854983],\n",
       "        [0.09653235, 0.09653235, 0.09653235],\n",
       "        [0.05854983, 0.05854983, 0.05854983]]])"
      ]
     },
     "execution_count": 24,
     "metadata": {},
     "output_type": "execute_result"
    }
   ],
   "source": [
    "size = numpy.array([3, 3, 3])\n",
    "params = [ numpy.arange(-size[i]//2+1, size[i]//2+1) for i in range(0, size.shape[0]) ]\n",
    "xi = numpy.meshgrid(*params)\n",
    "mu = numpy.array([0.0, 0.0, 0.0])\n",
    "sigma = numpy.array([1.0, 1.0, 1.0])\n",
    "gaussianND(xi, mu, sigma)"
   ]
  },
  {
   "cell_type": "code",
   "execution_count": 25,
   "metadata": {},
   "outputs": [],
   "source": [
    "import abc\n",
    "import enum\n",
    "\n",
    "import numpy\n",
    "\n",
    "class BoundaryCondition(enum.Enum):\n",
    "    PERIODIC = 0\n",
    "    CIRCULAR = 1\n",
    "    ZEROS = 2\n",
    "\n",
    "class ConvolveType(enum.Enum):\n",
    "    FULL = 0\n",
    "    SAME = 0\n",
    "\n",
    "\n",
    "# def convolve_same(x: numpy.ndarray, kernel: numpy.ndarray, )\n",
    "\n",
    "\n",
    "class Filter(abc.ABC):\n",
    "        \n",
    "    @abc.abstractmethod\n",
    "    def __call__(self, x: numpy.ndarray) -> numpy.ndarray:\n",
    "        pass\n",
    "\n",
    "\n",
    "class GaussianFilter1D(Filter):\n",
    "    \n",
    "    def __init__(self, size: int, mu: float, sigma: float) -> None:\n",
    "        x = numpy.arange(-size//2 + 1, size//2 + 1)\n",
    "        self.kernel = gaussian1D(x, mu, sigma)\n",
    "        self.__mu = mu\n",
    "        self.__sigma = sigma\n",
    "\n",
    "    @property\n",
    "    def mu(self) -> float:\n",
    "        return self.__mu\n",
    "    \n",
    "    @mu.setter\n",
    "    def mu(self, value) -> float:\n",
    "        raise AssertionError('You cant set mu !')\n",
    "    \n",
    "    @property\n",
    "    def sigma(self) -> float:\n",
    "        return self.__sigma\n",
    "    \n",
    "    @sigma.setter\n",
    "    def sigma(self, value) -> float:\n",
    "        raise AssertionError('You cant set sigma !')\n",
    "        \n",
    "    def __call__(self, x) -> numpy.array:\n",
    "        return convolve1D_full(x, self.kernel)\n",
    "        \n",
    "\n",
    "\n",
    "# class SeparableGaussianFilterND:\n",
    "    \n",
    "#     def __init__(self, size: numpy.ndarray, sigmas: numpy.ndarray) -> None:\n",
    "#         dim = size.shape[0]\n",
    "#         params = numpy.array([ numpy.arange(-size[i]//2+1, size[i]//2+1) for i in range(0, dim) ])\n",
    "#         xi = numpy.meshgrid(*params)\n",
    "#         self.filters = [ Functional.gaussian1D(x, sigma) for x, sigma in zip(xi, sigmas) ]\n",
    "        \n",
    "#     def __call__(self, signal: float) -> numpy.array:\n",
    "#         out = numpy.copy(signal)\n",
    "#         for filter in self.filters:\n",
    "#             out = filter(out)\n",
    "#         return out\n",
    "     \n",
    "\n",
    "# class GaussianFilter2D(Filter):\n",
    "    \n",
    "#     def __init__(self, size: numpy.ndarray, mu: numpy.ndarray, sigma: numpy.ndarray) -> None:\n",
    "#         dim = size.shape[0]\n",
    "#         params = [ numpy.arange(-size[i]//2 + 1, size[i]//2 + 1) for i in range(0, dim) ]\n",
    "#         xi = numpy.meshgrid(*params)\n",
    "#         self.kernel = gaussian2D(*xi, *mu, *sigma)\n",
    "\n",
    "#     def __call__(self, x: numpy.ndarray) -> numpy.ndarray:\n",
    "#         return convolve2D_full(x, self.kernel)\n",
    "\n",
    "# class GaussianFilterND(Filter):\n",
    "    \n",
    "#     def __init__(self, size: numpy.ndarray, mu: numpy.ndarray, sigma: numpy.ndarray) -> None:\n",
    "#         dim = size.shape[0]\n",
    "#         params = [ numpy.arange(-size[i]//2 + 1, size[i]//2 + 1) for i in range(0, dim) ]\n",
    "#         xi = numpy.meshgrid(*params)\n",
    "#         self.kernel = gaussianND(xi, mu, sigma)\n",
    "\n",
    "\n",
    "# class SequentialFilter:\n",
    "\n",
    "#     def __init__(self, filters: list[filter]) -> None:\n",
    "    "
   ]
  },
  {
   "cell_type": "code",
   "execution_count": null,
   "metadata": {},
   "outputs": [],
   "source": []
  },
  {
   "cell_type": "code",
   "execution_count": 26,
   "metadata": {},
   "outputs": [],
   "source": [
    "# #kernel = GaussianFilter1D(size=3, sigma=1.0)\n",
    "# gaussian2D = GaussianFilterND(\n",
    "#     size = numpy.array([3, 3]),\n",
    "#     mu = numpy.array([0.0, 0.0]),\n",
    "#     sigma = numpy.array([1.0, 1.0])\n",
    "# )\n",
    "\n",
    "# # nd = SeparableGaussianFilterND(\n",
    "# #     size = numpy.array([3, 3]),\n",
    "# #     sigmas = numpy.array([ 1.0, 1.0 ])\n",
    "# # )\n",
    "\n",
    "# print(gaussian2D.kernel)\n",
    "\n",
    "# #print(kernel.array)\n",
    "# #print(kernel(numpy.ones(4)))\n",
    "# #print(grid)\n",
    "\n",
    "# # print(numpy.reshape(numpy.arange(0, 16), (4, 4))[::-1, ::-1])"
   ]
  },
  {
   "cell_type": "code",
   "execution_count": 27,
   "metadata": {},
   "outputs": [],
   "source": [
    "# import lasp.filters.linear\n",
    "# kernel = lasp.filters.linear.gaussian_filter(size=3, sigma=1.0)"
   ]
  },
  {
   "cell_type": "code",
   "execution_count": 28,
   "metadata": {},
   "outputs": [
    {
     "data": {
      "text/plain": [
       "array([[1., 1., 1., 1., 1.],\n",
       "       [1., 1., 1., 1., 1.],\n",
       "       [1., 1., 1., 1., 1.],\n",
       "       [1., 1., 1., 1., 1.],\n",
       "       [1., 1., 1., 1., 1.]])"
      ]
     },
     "execution_count": 28,
     "metadata": {},
     "output_type": "execute_result"
    }
   ],
   "source": [
    "ones = numpy.ones((5, 5))\n",
    "ones"
   ]
  },
  {
   "cell_type": "code",
   "execution_count": 29,
   "metadata": {},
   "outputs": [],
   "source": [
    "# convolve2D_full(ones, kernel)"
   ]
  },
  {
   "cell_type": "code",
   "execution_count": 30,
   "metadata": {},
   "outputs": [],
   "source": [
    "# import scipy.signal\n",
    "# scipy.signal.convolve2d(ones, kernel, mode='full')"
   ]
  },
  {
   "cell_type": "code",
   "execution_count": 31,
   "metadata": {},
   "outputs": [],
   "source": [
    "import numpy\n",
    "import scipy.signal\n",
    "\n",
    "def convolve1D_boundary_zero(\n",
    "    x: numpy.ndarray, \n",
    "    y: numpy.ndarray\n",
    ") -> numpy.ndarray:\n",
    "    \n",
    "    N, M = x.shape[0], y.shape[0]\n",
    "    w = numpy.zeros(shape=N+M-1)\n",
    "    \n",
    "    x_pad = numpy.zeros(shape=N+2*(M-1))\n",
    "    x_pad[M-1:-(M-1)] = x\n",
    "\n",
    "    for n in range(0, N+M-1):\n",
    "        for k in range(0, M):\n",
    "            w[n] += x_pad[n+k]*y[M-1-k]\n",
    "            \n",
    "    return w\n",
    "\n",
    "\n",
    "def convolve1D_boundary_zero(\n",
    "    x: numpy.ndarray, \n",
    "    y: numpy.ndarray\n",
    ") -> numpy.ndarray:\n",
    "    \n",
    "    N, M = x.shape[0], y.shape[0]\n",
    "    w = numpy.zeros(shape=N+M-1)\n",
    "\n",
    "    for n in range(0, N+M-1):\n",
    "        \n",
    "        x_start = max(0, n-(M-1))\n",
    "        x_end = min(N, n+1)\n",
    "        y_start = max(0, M-1-n)\n",
    "        \n",
    "        for k in range(0, x_end-x_start):\n",
    "            w[n] += x[x_start+k] * y[M-1-(y_start+k)]\n",
    "    \n",
    "    return w"
   ]
  },
  {
   "cell_type": "code",
   "execution_count": 248,
   "metadata": {},
   "outputs": [],
   "source": [
    "import numpy\n",
    "import scipy.signal\n",
    "\n",
    "# def convolve1D_boundary_zero(\n",
    "#     x: numpy.ndarray, \n",
    "#     y: numpy.ndarray\n",
    "# ) -> numpy.ndarray:\n",
    "    \n",
    "#     N, M = x.shape[0], y.shape[0]\n",
    "#     w = numpy.zeros(shape=N+M-1)\n",
    "\n",
    "#     for n in range(0, N+M-1):\n",
    "        \n",
    "#         x_start = max(0, n-(M-1))\n",
    "#         x_end = min(N, n+1)\n",
    "#         y_start = max(0, M-1-n)\n",
    "#         # y_end = y_start+(x_end-x_start)\n",
    "        \n",
    "#         for k in range(0, x_end-x_start):\n",
    "#             w[n] += x[x_start+k] * y[M-1-(y_start+k)]\n",
    "        \n",
    "#         # for k in range(0, x_end-x_start):\n",
    "#         #     w[n] += x[x_start+k] * y[k]\n",
    "#         #     print(x[x_start+k], y[k])\n",
    "#         # # print(n, x_start, x_end)\n",
    "#         # nb_value=x_end-x_start\n",
    "#         # print(x_start, x_end)\n",
    "#         # print(y[::-1])\n",
    "#         print(x[x_start:x_end], [ y[::-1][M-(x_end-x_start)+k] for k in range(0, x_end-x_start)])\n",
    "#         print(x[x_start:x_end], y[::-1][y_start:y_start+(x_end-x_start)], y_start, M-1-y_start)\n",
    "#         print()\n",
    "#         # y_start = min(n, M-1)\n",
    "#         # for k in range(0, x_end-x_start):\n",
    "#         #     w[n] += x[x_start+k]*y[y_start-k]\n",
    "            \n",
    "#     return w\n",
    "\n",
    "\n"
   ]
  },
  {
   "cell_type": "code",
   "execution_count": 249,
   "metadata": {},
   "outputs": [
    {
     "data": {
      "text/plain": [
       "(array([0, 1, 2, 3]), array([0, 1, 2]), array([2, 1, 0]))"
      ]
     },
     "execution_count": 249,
     "metadata": {},
     "output_type": "execute_result"
    }
   ],
   "source": [
    "# x = numpy.random.randint(low=0, high=10, size=4)\n",
    "x = numpy.arange(0, 4)\n",
    "y = numpy.arange(0, 3)\n",
    "# gaussian = GaussianFilter1D(size=3, mu=0, sigma=1.0)\n",
    "# y = gaussian.kernel\n",
    "x, y, y[::-1]"
   ]
  },
  {
   "cell_type": "code",
   "execution_count": 252,
   "metadata": {},
   "outputs": [
    {
     "data": {
      "text/plain": [
       "(array([0., 0., 1., 4., 7., 6.]), array([0., 0., 1., 4., 7., 6.]))"
      ]
     },
     "execution_count": 252,
     "metadata": {},
     "output_type": "execute_result"
    }
   ],
   "source": [
    "convolve1D_boundary_zero(y, x), convolve1D_boundary_zero(x, y)"
   ]
  },
  {
   "cell_type": "code",
   "execution_count": 255,
   "metadata": {},
   "outputs": [
    {
     "data": {
      "text/plain": [
       "array([1, 4])"
      ]
     },
     "execution_count": 255,
     "metadata": {},
     "output_type": "execute_result"
    }
   ],
   "source": [
    "scipy.signal.convolve(y, x, mode='valid')"
   ]
  },
  {
   "attachments": {},
   "cell_type": "markdown",
   "metadata": {},
   "source": [
    "## Closest of C / C++ / Pseudo Code"
   ]
  },
  {
   "cell_type": "code",
   "execution_count": 8,
   "metadata": {},
   "outputs": [],
   "source": [
    "import numpy\n",
    "import scipy.signal"
   ]
  },
  {
   "cell_type": "code",
   "execution_count": 29,
   "metadata": {},
   "outputs": [],
   "source": [
    "def pythonic_convolve_zeropad(\n",
    "    x: numpy.ndarray, \n",
    "    y: numpy.ndarray\n",
    ") -> numpy.ndarray:\n",
    "    N, M = x.shape[0], y.shape[0]\n",
    "    padded = numpy.pad(x, pad_width= (M-1, M-1), mode='constant', constant_values=0)\n",
    "    return scipy.signal.convolve(padded, y, mode='valid')\n",
    "\n",
    "def convolve1D_boundary_zero(\n",
    "    x: numpy.ndarray, \n",
    "    y: numpy.ndarray\n",
    ") -> numpy.ndarray:\n",
    "    \n",
    "    N, M = x.shape[0], y.shape[0]\n",
    "    w = numpy.zeros(shape=N+M-1)\n",
    "\n",
    "    for n in range(0, N+M-1):\n",
    "        \n",
    "        x_start = max(0, n-(M-1))\n",
    "        x_end = min(N, n+1)\n",
    "        y_start = max(0, M-1-n)\n",
    "        \n",
    "        for k in range(0, x_end-x_start):\n",
    "            w[n] += x[x_start+k] * y[M-1-(y_start+k)]\n",
    "    \n",
    "    return w"
   ]
  },
  {
   "cell_type": "code",
   "execution_count": 30,
   "metadata": {},
   "outputs": [
    {
     "data": {
      "text/plain": [
       "(array([0., 1., 2., 3.], dtype=float32), array([0., 1., 2.], dtype=float32))"
      ]
     },
     "execution_count": 30,
     "metadata": {},
     "output_type": "execute_result"
    }
   ],
   "source": [
    "# x = numpy.random.randint(low=0, high=10, size=4)\n",
    "x = numpy.arange(0, 4, dtype=numpy.float32)\n",
    "y = numpy.arange(0, 3, dtype=numpy.float32)\n",
    "# gaussian = GaussianFilter1D(size=3, mu=0, sigma=1.0)\n",
    "# y = gaussian.kernel\n",
    "x, y\n",
    "\n"
   ]
  },
  {
   "cell_type": "code",
   "execution_count": 31,
   "metadata": {},
   "outputs": [
    {
     "data": {
      "text/plain": [
       "(array([0., 0., 1., 4., 7., 6.]),\n",
       " array([0., 0., 1., 4., 7., 6.]),\n",
       " array([0., 0., 1., 4., 7., 6.], dtype=float32))"
      ]
     },
     "execution_count": 31,
     "metadata": {},
     "output_type": "execute_result"
    }
   ],
   "source": [
    "convolve1D_boundary_zero(y, x), convolve1D_boundary_zero(x, y), scipy.signal.convolve(x, y, mode='full')"
   ]
  },
  {
   "cell_type": "code",
   "execution_count": 32,
   "metadata": {},
   "outputs": [
    {
     "data": {
      "text/plain": [
       "(array([0., 0., 1., 4., 7., 6.], dtype=float32),\n",
       " array([0., 0., 1., 4., 7., 6.], dtype=float32))"
      ]
     },
     "execution_count": 32,
     "metadata": {},
     "output_type": "execute_result"
    }
   ],
   "source": [
    "pythonic_convolve_zeropad(y, x), pythonic_convolve_zeropad(x, y)"
   ]
  },
  {
   "cell_type": "code",
   "execution_count": 19,
   "metadata": {},
   "outputs": [
    {
     "data": {
      "text/plain": [
       "(array([7., 6., 1., 4., 7., 6.]), array([4., 7., 7., 4., 7., 7.]))"
      ]
     },
     "execution_count": 19,
     "metadata": {},
     "output_type": "execute_result"
    }
   ],
   "source": [
    "# def convolve1D_boundary_circular(\n",
    "#     x: numpy.ndarray, \n",
    "#     y: numpy.ndarray\n",
    "# ) -> numpy.ndarray:\n",
    "    \n",
    "#     N, M = x.shape[0], y.shape[0]\n",
    "    \n",
    "#     w = numpy.zeros( shape = N+M-1 )\n",
    "#     for n in range( 0, N+M-1 ):\n",
    "#         for k in range( 0, M ):\n",
    "#             w[n] += x[ (n-k)%N ] * y[ k ]\n",
    "#         #     print(x[(n-k)%N], y[ k ])\n",
    "#         # print()\n",
    "    \n",
    "#     return w\n",
    "\n",
    "def convolve1D_boundary_circular(\n",
    "    x: numpy.ndarray, \n",
    "    y: numpy.ndarray\n",
    ") -> numpy.ndarray:\n",
    "    \n",
    "    N, M = x.shape[0], y.shape[0]\n",
    "    \n",
    "    w = numpy.zeros( shape = N+M-1 )\n",
    "    for n in range( 0, N+M-1 ):\n",
    "        for k in range( 0, M ):\n",
    "            w[n] += x[ (n-k)%N ] * y[ k ]\n",
    "    \n",
    "    return w\n",
    "\n",
    "convolve1D_boundary_circular(x, y), convolve1D_boundary_circular(y, x) "
   ]
  },
  {
   "cell_type": "code",
   "execution_count": 20,
   "metadata": {},
   "outputs": [
    {
     "data": {
      "text/plain": [
       "(array([7., 6., 1., 4., 7., 6.], dtype=float32),\n",
       " array([4., 7., 7., 4., 7., 7.], dtype=float32))"
      ]
     },
     "execution_count": 20,
     "metadata": {},
     "output_type": "execute_result"
    }
   ],
   "source": [
    "def pythonic_convolve_circular(\n",
    "    x: numpy.ndarray, \n",
    "    y: numpy.ndarray\n",
    ") -> numpy.ndarray:\n",
    "    N, M = x.shape[0], y.shape[0]\n",
    "    padded = numpy.pad(x, pad_width= (M-1, M-1), mode='wrap')\n",
    "    return scipy.signal.convolve(padded, y, mode='valid')\n",
    "\n",
    "pythonic_convolve_circular(x, y), pythonic_convolve_circular(y, x)"
   ]
  },
  {
   "cell_type": "code",
   "execution_count": 6,
   "metadata": {},
   "outputs": [],
   "source": [
    "# rule = \"2x²-4x+1\"\n",
    "\n",
    "# l = rule.split(\"²\")\n",
    "\n",
    "# char = \"\"\n",
    "# if len(l) == 2:\n",
    "#     char += (l[0] + \"**2\" + l[1])\n",
    "# else:\n",
    "#     char = l[0]\n",
    "    \n",
    "# l = char.split(\"x\")\n",
    "# l.reverse()\n",
    "# char = l[0]\n",
    "# d = 1\n",
    "# for c in l[1:]:\n",
    "#     char = (c + \"*x\") + char\n",
    "    \n",
    "# f = eval('lambda x:'+char)\n",
    "# f(4)"
   ]
  },
  {
   "cell_type": "code",
   "execution_count": null,
   "metadata": {},
   "outputs": [],
   "source": []
  }
 ],
 "metadata": {
  "kernelspec": {
   "display_name": "Python 3",
   "language": "python",
   "name": "python3"
  },
  "language_info": {
   "codemirror_mode": {
    "name": "ipython",
    "version": 3
   },
   "file_extension": ".py",
   "mimetype": "text/x-python",
   "name": "python",
   "nbconvert_exporter": "python",
   "pygments_lexer": "ipython3",
   "version": "3.10.13"
  },
  "orig_nbformat": 4
 },
 "nbformat": 4,
 "nbformat_minor": 2
}
