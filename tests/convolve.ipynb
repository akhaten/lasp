{
 "cells": [
  {
   "cell_type": "code",
   "execution_count": 1,
   "metadata": {},
   "outputs": [],
   "source": [
    "import numpy\n",
    "import typing\n",
    "import sys\n",
    "sys.path.append('..')"
   ]
  },
  {
   "cell_type": "code",
   "execution_count": 2,
   "metadata": {},
   "outputs": [],
   "source": [
    "def convolve1D_circular(signal: numpy.ndarray, kernel: numpy.ndarray) -> numpy.ndarray:\n",
    "\n",
    "    out_shape = signal.shape[0] + kernel.shape[0] - 1\n",
    "    out = numpy.zeros(shape=out_shape)\n",
    "\n",
    "    for i in range(0, out_shape):\n",
    "        for k in range(0, kernel.shape[0]):\n",
    "            s_idx = (i - (kernel.shape[0]//2 - 1) + k) % signal.shape[0]\n",
    "            k_idx = kernel.shape[0]-1-k\n",
    "            out[i] += signal[s_idx] * kernel[k_idx]\n",
    "        \n",
    "    return out\n",
    "\n",
    "def convolve1D_zero_padding(signal: numpy.ndarray, kernel: numpy.ndarray) -> numpy.ndarray:\n",
    "\n",
    "    out_shape = signal.shape[0] + kernel.shape[0] - 1\n",
    "    out = numpy.zeros(shape=out_shape)\n",
    "\n",
    "    for i in range(0, out_shape):\n",
    "        for k in range(0, kernel.shape[0]):\n",
    "            s_idx = i - (kernel.shape[0]//2 - 1) + k\n",
    "            if (0 <= s_idx) and (s_idx < signal.shape[0]):\n",
    "                k_idx = kernel.shape[0]-1-k\n",
    "                out[i] += signal[s_idx] * kernel[k_idx]\n",
    "        \n",
    "    return out\n",
    "\n",
    "def convolve1D_padding_value(signal: numpy.ndarray, kernel: numpy.ndarray, padding_value: float) -> numpy.ndarray:\n",
    "\n",
    "    out_shape = signal.shape[0] + kernel.shape[0] - 1\n",
    "    out = numpy.zeros(shape=out_shape)\n",
    "\n",
    "    for i in range(0, out_shape):\n",
    "        for k in range(0, kernel.shape[0]):\n",
    "            s_idx = i - (kernel.shape[0]//2 - 1) + k\n",
    "            if (0 <= s_idx) and (s_idx < signal.shape[0]):\n",
    "                k_idx = kernel.shape[0]-1-k\n",
    "                out[i] += signal[s_idx] * kernel[k_idx]\n",
    "            else:\n",
    "                k_idx = kernel.shape[0]-1-k\n",
    "                out[i] += padding_value * kernel[k_idx]\n",
    "        \n",
    "    return out\n",
    "\n",
    "\n",
    "\n",
    "def convolve1D_zero_padding_v2(signal: numpy.ndarray, kernel: numpy.ndarray) -> numpy.ndarray:\n",
    "\n",
    "    out_shape = signal.shape[0] + kernel.shape[0] - 1\n",
    "    out = numpy.zeros(shape=out_shape)\n",
    "\n",
    "    for i in range(0, out_shape):\n",
    "        for k in range(0, kernel.shape[0]):\n",
    "            s_idx = i - (kernel.shape[0]//2 - 1) + k\n",
    "            if (0 <= s_idx) and (s_idx < signal.shape[0]):\n",
    "                k_idx = kernel.shape[0]-1-k\n",
    "                out[i] += signal[s_idx] * kernel[k_idx]\n",
    "        \n",
    "    return out\n",
    "\n",
    "\n",
    "\n",
    "\n",
    "\n",
    "\n",
    "def convolve1D_full(signal: numpy.ndarray, kernel: numpy.ndarray) -> numpy.ndarray:\n",
    "    \n",
    "    out_shape = signal.shape[0] + kernel.shape[0] - 1\n",
    "    \n",
    "    to_convolve = numpy.zeros(shape=signal.shape[0] + 2*(kernel.shape[0]-1))\n",
    "    to_convolve[kernel.shape[0]-1:-(kernel.shape[0]-1)] = signal\n",
    "    \n",
    "    out = numpy.zeros(shape=out_shape)\n",
    "    reversed_kernel = kernel[::-1]\n",
    "    \n",
    "    for i in range(0, out_shape):\n",
    "        for k in range(0, kernel.shape[0]):\n",
    "            out[i] += to_convolve[i+k]*reversed_kernel[k]\n",
    "            \n",
    "    return out\n",
    "\n",
    "    \n",
    "def convolve2D_full(signal: numpy.ndarray, kernel: numpy.ndarray) -> numpy.ndarray:\n",
    "    \n",
    "    out_shape = [\n",
    "        signal.shape[0] + kernel.shape[0] - 1,\n",
    "        signal.shape[1] + kernel.shape[1] - 1\n",
    "    ]\n",
    "    \n",
    "    to_convolve = numpy.zeros(\n",
    "        shape = [\n",
    "            signal.shape[0] + 2*(kernel.shape[0]-1),\n",
    "            signal.shape[1] + 2*(kernel.shape[1]-1)\n",
    "        ]\n",
    "    )\n",
    "    \n",
    "    to_convolve[\n",
    "        kernel.shape[0]-1:-(kernel.shape[0]-1),\n",
    "        kernel.shape[1]-1:-(kernel.shape[1]-1)\n",
    "    ] = signal\n",
    "    \n",
    "    out = numpy.zeros(shape=out_shape)\n",
    "    reversed_kernel = kernel[::-1, ::-1]\n",
    "    \n",
    "    for i in range(0, out_shape[0]):\n",
    "        for j in range(0, out_shape[1]):\n",
    "            for k1 in range(0, kernel.shape[0]):\n",
    "                for k2 in range(0, kernel.shape[1]):\n",
    "                    out[i, j] += to_convolve[i+k1, j+k2]*reversed_kernel[k1, k2]\n",
    "            \n",
    "    return out\n",
    "\n",
    "def gaussian1D(value: float, mu: float, sigma: float) -> typing.Union[float, numpy.ndarray]:\n",
    "    out = numpy.exp( - (value - mu)**2 / (2*sigma**2) )\n",
    "    # out /= ( 2*numpy.pi) ** (1/2)\n",
    "    out /= numpy.sqrt(2*numpy.pi)\n",
    "    out /= sigma\n",
    "    return out\n",
    "    \n",
    "# @classmethod\n",
    "# def gaussian2D(cls, x: float, y:float, mu_x: float, mu_y: float, sigma_x: float, sigma_y: float) -> float :\n",
    "#     out_x = numpy.exp( - (x - mu_x)**2 / sigma_x**2 )\n",
    "#     out_x /= ( 2*numpy.pi) ** (1/2) * sigma_x\n",
    "#     out_y = numpy.exp( - (y - mu_y)**2 / sigma_y**2 )\n",
    "#     out_y /= ( 2*numpy.pi) ** (1/2) * sigma_y\n",
    "#     return out_x * out_y\n",
    "\n",
    "\n",
    "def gaussian2D(x: float, y: float, mu_x: float, mu_y: float, sigma_x: float, sigma_y: float) -> typing.Union[float, numpy.ndarray]:\n",
    "    gaussian_x = gaussian1D(x, mu_x, sigma_x)\n",
    "    gaussian_y = gaussian1D(y, mu_y, sigma_y)\n",
    "    return gaussian_x*gaussian_y\n",
    "    \n",
    "\n",
    "def gaussianND(xi: numpy.ndarray, mu: numpy.ndarray, sigma: numpy.ndarray) -> typing.Union[float, numpy.ndarray]:\n",
    "    dim = len(xi)\n",
    "    gauss1D =  [ gaussian1D(xi[i], mu[i], sigma[i]) for i in range(0, dim) ]\n",
    "    out = numpy.multiply(*gauss1D)\n",
    "    return out"
   ]
  },
  {
   "cell_type": "code",
   "execution_count": 3,
   "metadata": {},
   "outputs": [
    {
     "data": {
      "text/plain": [
       "array([[0.05854983, 0.09653235, 0.05854983],\n",
       "       [0.09653235, 0.15915494, 0.09653235],\n",
       "       [0.05854983, 0.09653235, 0.05854983]])"
      ]
     },
     "execution_count": 3,
     "metadata": {},
     "output_type": "execute_result"
    }
   ],
   "source": [
    "size = numpy.array([3, 3])\n",
    "dim = 2\n",
    "params = [ numpy.arange(-size[i]//2+1, size[i]//2+1) for i in range(0, size.shape[0]) ]\n",
    "xi = numpy.meshgrid(*params)\n",
    "mu, sigma = 0.0, 1.0\n",
    "gaussian2D(*xi, mu, mu, sigma, sigma)"
   ]
  },
  {
   "cell_type": "code",
   "execution_count": 4,
   "metadata": {},
   "outputs": [
    {
     "data": {
      "text/plain": [
       "array([[[0.05854983, 0.05854983, 0.05854983],\n",
       "        [0.09653235, 0.09653235, 0.09653235],\n",
       "        [0.05854983, 0.05854983, 0.05854983]],\n",
       "\n",
       "       [[0.09653235, 0.09653235, 0.09653235],\n",
       "        [0.15915494, 0.15915494, 0.15915494],\n",
       "        [0.09653235, 0.09653235, 0.09653235]],\n",
       "\n",
       "       [[0.05854983, 0.05854983, 0.05854983],\n",
       "        [0.09653235, 0.09653235, 0.09653235],\n",
       "        [0.05854983, 0.05854983, 0.05854983]]])"
      ]
     },
     "execution_count": 4,
     "metadata": {},
     "output_type": "execute_result"
    }
   ],
   "source": [
    "size = numpy.array([3, 3, 3])\n",
    "params = [ numpy.arange(-size[i]//2+1, size[i]//2+1) for i in range(0, size.shape[0]) ]\n",
    "xi = numpy.meshgrid(*params)\n",
    "mu = numpy.array([0.0, 0.0, 0.0])\n",
    "sigma = numpy.array([1.0, 1.0, 1.0])\n",
    "gaussianND(xi, mu, sigma)"
   ]
  },
  {
   "cell_type": "code",
   "execution_count": 5,
   "metadata": {},
   "outputs": [
    {
     "ename": "SyntaxError",
     "evalue": "expected ':' (2849319849.py, line 14)",
     "output_type": "error",
     "traceback": [
      "\u001b[0;36m  Cell \u001b[0;32mIn[5], line 14\u001b[0;36m\u001b[0m\n\u001b[0;31m    def convolve_same(x: numpy.ndarray, kernel: numpy.ndarray, )\u001b[0m\n\u001b[0m                                                                ^\u001b[0m\n\u001b[0;31mSyntaxError\u001b[0m\u001b[0;31m:\u001b[0m expected ':'\n"
     ]
    }
   ],
   "source": [
    "import abc\n",
    "import enum\n",
    "\n",
    "class BoundaryCondition(enum.Enum):\n",
    "    PERIODIC = 0\n",
    "    CIRCULAR = 1\n",
    "    ZEROS = 2\n",
    "\n",
    "class ConvolveType(enum.Enum):\n",
    "    FULL = 0\n",
    "    SAME = 0\n",
    "\n",
    "\n",
    "# def convolve_same(x: numpy.ndarray, kernel: numpy.ndarray, )\n",
    "\n",
    "\n",
    "class Filter(abc.ABC):\n",
    "        \n",
    "    @abc.abstractmethod\n",
    "    def __call__(self, x: numpy.ndarray) -> numpy.ndarray:\n",
    "        pass\n",
    "\n",
    "\n",
    "class GaussianFilter1D(Filter):\n",
    "    \n",
    "    def __init__(self, size: int, mu: float, sigma: float) -> None:\n",
    "        x = numpy.arange(-size//2 + 1, size//2 + 1)\n",
    "        self.kernel = gaussian1D(x, mu, sigma)\n",
    "        self.__mu = mu\n",
    "        self.__sigma = sigma\n",
    "\n",
    "    @property\n",
    "    def mu(self) -> float:\n",
    "        return self.__mu\n",
    "    \n",
    "    @mu.setter\n",
    "    def mu(self, value) -> float:\n",
    "        raise AssertionError('You cant set mu !')\n",
    "    \n",
    "    @property\n",
    "    def sigma(self) -> float:\n",
    "        return self.__sigma\n",
    "    \n",
    "    @sigma.setter\n",
    "    def sigma(self, value) -> float:\n",
    "        raise AssertionError('You cant set sigma !')\n",
    "        \n",
    "    def __call__(self, x) -> numpy.array:\n",
    "        return convolve1D_full(x, self.kernel)\n",
    "        \n",
    "\n",
    "\n",
    "# class SeparableGaussianFilterND:\n",
    "    \n",
    "#     def __init__(self, size: numpy.ndarray, sigmas: numpy.ndarray) -> None:\n",
    "#         dim = size.shape[0]\n",
    "#         params = numpy.array([ numpy.arange(-size[i]//2+1, size[i]//2+1) for i in range(0, dim) ])\n",
    "#         xi = numpy.meshgrid(*params)\n",
    "#         self.filters = [ Functional.gaussian1D(x, sigma) for x, sigma in zip(xi, sigmas) ]\n",
    "        \n",
    "#     def __call__(self, signal: float) -> numpy.array:\n",
    "#         out = numpy.copy(signal)\n",
    "#         for filter in self.filters:\n",
    "#             out = filter(out)\n",
    "#         return out\n",
    "     \n",
    "\n",
    "class GaussianFilter2D(Filter):\n",
    "    \n",
    "    def __init__(self, size: numpy.ndarray, mu: numpy.ndarray, sigma: numpy.ndarray) -> None:\n",
    "        dim = size.shape[0]\n",
    "        params = [ numpy.arange(-size[i]//2 + 1, size[i]//2 + 1) for i in range(0, dim) ]\n",
    "        xi = numpy.meshgrid(*params)\n",
    "        self.kernel = gaussian2D(*xi, *mu, *sigma)\n",
    "\n",
    "    def __call__(self, x: numpy.ndarray) -> numpy.ndarray:\n",
    "        return convolve2D_full(x, self.kernel)\n",
    "\n",
    "class GaussianFilterND(Filter):\n",
    "    \n",
    "    def __init__(self, size: numpy.ndarray, mu: numpy.ndarray, sigma: numpy.ndarray) -> None:\n",
    "        dim = size.shape[0]\n",
    "        params = [ numpy.arange(-size[i]//2 + 1, size[i]//2 + 1) for i in range(0, dim) ]\n",
    "        xi = numpy.meshgrid(*params)\n",
    "        self.kernel = gaussianND(xi, mu, sigma)\n",
    "\n",
    "\n",
    "# class SequentialFilter:\n",
    "\n",
    "#     def __init__(self, filters: list[filter]) -> None:\n",
    "    "
   ]
  },
  {
   "cell_type": "code",
   "execution_count": null,
   "metadata": {},
   "outputs": [],
   "source": []
  },
  {
   "cell_type": "code",
   "execution_count": 136,
   "metadata": {},
   "outputs": [
    {
     "ename": "TypeError",
     "evalue": "Can't instantiate abstract class GaussianFilterND with abstract method __call__",
     "output_type": "error",
     "traceback": [
      "\u001b[0;31m---------------------------------------------------------------------------\u001b[0m",
      "\u001b[0;31mTypeError\u001b[0m                                 Traceback (most recent call last)",
      "Cell \u001b[0;32mIn[136], line 2\u001b[0m\n\u001b[1;32m      1\u001b[0m \u001b[39m#kernel = GaussianFilter1D(size=3, sigma=1.0)\u001b[39;00m\n\u001b[0;32m----> 2\u001b[0m gaussian2D \u001b[39m=\u001b[39m GaussianFilterND(\n\u001b[1;32m      3\u001b[0m     size \u001b[39m=\u001b[39;49m numpy\u001b[39m.\u001b[39;49marray([\u001b[39m3\u001b[39;49m, \u001b[39m3\u001b[39;49m]),\n\u001b[1;32m      4\u001b[0m     mu \u001b[39m=\u001b[39;49m numpy\u001b[39m.\u001b[39;49marray([\u001b[39m0.0\u001b[39;49m, \u001b[39m0.0\u001b[39;49m]),\n\u001b[1;32m      5\u001b[0m     sigma \u001b[39m=\u001b[39;49m numpy\u001b[39m.\u001b[39;49marray([\u001b[39m1.0\u001b[39;49m, \u001b[39m1.0\u001b[39;49m])\n\u001b[1;32m      6\u001b[0m )\n\u001b[1;32m      8\u001b[0m \u001b[39m# nd = SeparableGaussianFilterND(\u001b[39;00m\n\u001b[1;32m      9\u001b[0m \u001b[39m#     size = numpy.array([3, 3]),\u001b[39;00m\n\u001b[1;32m     10\u001b[0m \u001b[39m#     sigmas = numpy.array([ 1.0, 1.0 ])\u001b[39;00m\n\u001b[1;32m     11\u001b[0m \u001b[39m# )\u001b[39;00m\n\u001b[1;32m     13\u001b[0m \u001b[39mprint\u001b[39m(gaussian2D\u001b[39m.\u001b[39mkernel)\n",
      "\u001b[0;31mTypeError\u001b[0m: Can't instantiate abstract class GaussianFilterND with abstract method __call__"
     ]
    }
   ],
   "source": [
    "#kernel = GaussianFilter1D(size=3, sigma=1.0)\n",
    "gaussian2D = GaussianFilterND(\n",
    "    size = numpy.array([3, 3]),\n",
    "    mu = numpy.array([0.0, 0.0]),\n",
    "    sigma = numpy.array([1.0, 1.0])\n",
    ")\n",
    "\n",
    "# nd = SeparableGaussianFilterND(\n",
    "#     size = numpy.array([3, 3]),\n",
    "#     sigmas = numpy.array([ 1.0, 1.0 ])\n",
    "# )\n",
    "\n",
    "print(gaussian2D.kernel)\n",
    "\n",
    "#print(kernel.array)\n",
    "#print(kernel(numpy.ones(4)))\n",
    "#print(grid)\n",
    "\n",
    "# print(numpy.reshape(numpy.arange(0, 16), (4, 4))[::-1, ::-1])"
   ]
  },
  {
   "cell_type": "code",
   "execution_count": 127,
   "metadata": {},
   "outputs": [
    {
     "data": {
      "text/plain": [
       "array([[0.05854983, 0.09653235, 0.05854983],\n",
       "       [0.09653235, 0.15915494, 0.09653235],\n",
       "       [0.05854983, 0.09653235, 0.05854983]])"
      ]
     },
     "execution_count": 127,
     "metadata": {},
     "output_type": "execute_result"
    }
   ],
   "source": [
    "import lasp.filters.linear\n",
    "lasp.filters.linear.gaussian_filter(size=3, sigma=1.0)"
   ]
  },
  {
   "cell_type": "code",
   "execution_count": 128,
   "metadata": {},
   "outputs": [
    {
     "data": {
      "text/plain": [
       "array([[1., 1., 1., 1., 1.],\n",
       "       [1., 1., 1., 1., 1.],\n",
       "       [1., 1., 1., 1., 1.],\n",
       "       [1., 1., 1., 1., 1.],\n",
       "       [1., 1., 1., 1., 1.]])"
      ]
     },
     "execution_count": 128,
     "metadata": {},
     "output_type": "execute_result"
    }
   ],
   "source": [
    "ones = numpy.ones((5, 5))\n",
    "ones"
   ]
  },
  {
   "cell_type": "code",
   "execution_count": 129,
   "metadata": {},
   "outputs": [
    {
     "data": {
      "text/plain": [
       "array([[0.05854983, 0.15508218, 0.21363202, 0.21363202, 0.21363202,\n",
       "        0.15508218, 0.05854983],\n",
       "       [0.15508218, 0.41076948, 0.56585166, 0.56585166, 0.56585166,\n",
       "        0.41076948, 0.15508218],\n",
       "       [0.21363202, 0.56585166, 0.77948368, 0.77948368, 0.77948368,\n",
       "        0.56585166, 0.21363202],\n",
       "       [0.21363202, 0.56585166, 0.77948368, 0.77948368, 0.77948368,\n",
       "        0.56585166, 0.21363202],\n",
       "       [0.21363202, 0.56585166, 0.77948368, 0.77948368, 0.77948368,\n",
       "        0.56585166, 0.21363202],\n",
       "       [0.15508218, 0.41076948, 0.56585166, 0.56585166, 0.56585166,\n",
       "        0.41076948, 0.15508218],\n",
       "       [0.05854983, 0.15508218, 0.21363202, 0.21363202, 0.21363202,\n",
       "        0.15508218, 0.05854983]])"
      ]
     },
     "execution_count": 129,
     "metadata": {},
     "output_type": "execute_result"
    }
   ],
   "source": [
    "convolve2D_full(ones, gaussian2D.kernel)"
   ]
  },
  {
   "cell_type": "code",
   "execution_count": 137,
   "metadata": {},
   "outputs": [
    {
     "data": {
      "text/plain": [
       "array([[0.77948368, 0.77948368, 0.77948368],\n",
       "       [0.77948368, 0.77948368, 0.77948368],\n",
       "       [0.77948368, 0.77948368, 0.77948368]])"
      ]
     },
     "execution_count": 137,
     "metadata": {},
     "output_type": "execute_result"
    }
   ],
   "source": [
    "import scipy.signal\n",
    "scipy.signal.convolve2d(ones, gaussian2D.kernel, mode='valid')"
   ]
  },
  {
   "cell_type": "code",
   "execution_count": null,
   "metadata": {},
   "outputs": [],
   "source": []
  }
 ],
 "metadata": {
  "kernelspec": {
   "display_name": "Python 3",
   "language": "python",
   "name": "python3"
  },
  "language_info": {
   "codemirror_mode": {
    "name": "ipython",
    "version": 3
   },
   "file_extension": ".py",
   "mimetype": "text/x-python",
   "name": "python",
   "nbconvert_exporter": "python",
   "pygments_lexer": "ipython3",
   "version": "3.10.12"
  },
  "orig_nbformat": 4
 },
 "nbformat": 4,
 "nbformat_minor": 2
}
