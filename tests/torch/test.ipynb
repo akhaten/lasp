{
 "cells": [
  {
   "cell_type": "code",
   "execution_count": 70,
   "metadata": {},
   "outputs": [],
   "source": [
    "import torch\n",
    "import torch.nn.functional"
   ]
  },
  {
   "cell_type": "code",
   "execution_count": 71,
   "metadata": {},
   "outputs": [
    {
     "data": {
      "text/plain": [
       "tensor([[ 0.,  1.,  2.,  3.],\n",
       "        [ 4.,  5.,  6.,  7.],\n",
       "        [ 8.,  9., 10., 11.],\n",
       "        [12., 13., 14., 15.]], grad_fn=<ViewBackward0>)"
      ]
     },
     "execution_count": 71,
     "metadata": {},
     "output_type": "execute_result"
    }
   ],
   "source": [
    "arr4x4 = torch.arange(0., 16., requires_grad=True).view(4, 4)\n",
    "arr4x4"
   ]
  },
  {
   "cell_type": "code",
   "execution_count": 72,
   "metadata": {},
   "outputs": [
    {
     "data": {
      "text/plain": [
       "tensor([[ 0.,  0.,  1.,  2.,  3.,  0.],\n",
       "        [ 0.,  4.,  5.,  6.,  7.,  0.],\n",
       "        [ 0.,  8.,  9., 10., 11.,  0.],\n",
       "        [ 0., 12., 13., 14., 15.,  0.]], grad_fn=<ConstantPadNdBackward0>)"
      ]
     },
     "execution_count": 72,
     "metadata": {},
     "output_type": "execute_result"
    }
   ],
   "source": [
    "torch.nn.functional.pad(arr4x4, ((1, 1)), mode='constant')\n",
    "# arr4x4.take(index=0)"
   ]
  },
  {
   "cell_type": "code",
   "execution_count": 73,
   "metadata": {},
   "outputs": [
    {
     "data": {
      "text/plain": [
       "tensor([[ 3.,  0.,  1.,  2.,  3.,  0.],\n",
       "        [ 7.,  4.,  5.,  6.,  7.,  4.],\n",
       "        [11.,  8.,  9., 10., 11.,  8.],\n",
       "        [15., 12., 13., 14., 15., 12.]], grad_fn=<SqueezeBackward1>)"
      ]
     },
     "execution_count": 73,
     "metadata": {},
     "output_type": "execute_result"
    }
   ],
   "source": [
    "# 'constant', 'reflect', 'replicate' or 'circular'\n",
    "mode = 'circular'\n",
    "tmp = torch.nn.functional.pad(arr4x4.unsqueeze(0), pad=(1, 1), mode=mode)\n",
    "tmp = tmp.squeeze(0)\n",
    "tmp"
   ]
  },
  {
   "cell_type": "code",
   "execution_count": 74,
   "metadata": {},
   "outputs": [
    {
     "data": {
      "text/plain": [
       "tensor([[[15.,  3.,  7., 11., 15.,  3.],\n",
       "         [12.,  0.,  4.,  8., 12.,  0.],\n",
       "         [13.,  1.,  5.,  9., 13.,  1.],\n",
       "         [14.,  2.,  6., 10., 14.,  2.],\n",
       "         [15.,  3.,  7., 11., 15.,  3.],\n",
       "         [12.,  0.,  4.,  8., 12.,  0.]]], grad_fn=<CopySlices>)"
      ]
     },
     "execution_count": 74,
     "metadata": {},
     "output_type": "execute_result"
    }
   ],
   "source": [
    "tmp = torch.nn.functional.pad((tmp.T).unsqueeze(0), pad=(1, 1), mode=mode)\n",
    "tmp\n",
    "# torch.nn.functional.pad(arr4x4.take(index=1), ((1, 1)), mode='constant')"
   ]
  },
  {
   "cell_type": "code",
   "execution_count": 75,
   "metadata": {},
   "outputs": [
    {
     "data": {
      "text/plain": [
       "tensor([[[15.,  3.,  7., 11., 15.,  3.],\n",
       "         [12.,  1.,  4.,  8., 12.,  0.],\n",
       "         [13.,  1.,  5.,  9., 13.,  1.],\n",
       "         [14.,  2.,  6., 10., 14.,  2.],\n",
       "         [15.,  3.,  7., 11., 15.,  3.],\n",
       "         [12.,  0.,  4.,  8., 12.,  0.]]], grad_fn=<CopySlices>)"
      ]
     },
     "execution_count": 75,
     "metadata": {},
     "output_type": "execute_result"
    }
   ],
   "source": [
    "tmp[0, 1, 1] = 1.\n",
    "tmp"
   ]
  },
  {
   "cell_type": "code",
   "execution_count": 77,
   "metadata": {},
   "outputs": [
    {
     "data": {
      "text/plain": [
       "tensor([[ 0.,  1.,  2.,  3.],\n",
       "        [ 4.,  5.,  6.,  7.],\n",
       "        [ 8.,  9., 10., 11.],\n",
       "        [12., 13., 14., 15.]], grad_fn=<ViewBackward0>)"
      ]
     },
     "execution_count": 77,
     "metadata": {},
     "output_type": "execute_result"
    }
   ],
   "source": [
    "arr4x4"
   ]
  },
  {
   "cell_type": "code",
   "execution_count": 76,
   "metadata": {},
   "outputs": [
    {
     "data": {
      "text/plain": [
       "True"
      ]
     },
     "execution_count": 76,
     "metadata": {},
     "output_type": "execute_result"
    }
   ],
   "source": [
    "# import torch\n",
    "# dx = torch.zeros(size=(4, 4), requires_grad=True)\n",
    "# dy = torch.zeros(size=(4, 4), requires_grad=True)\n",
    "\n",
    "# tv_iso = torch.sum(torch.sqrt( dx**2 + dy**2 ))\n",
    "# tv_iso.backward()\n",
    "tmp.requires_grad"
   ]
  },
  {
   "cell_type": "code",
   "execution_count": 60,
   "metadata": {},
   "outputs": [
    {
     "data": {
      "text/plain": [
       "tensor([[ 0.,  1.,  2.,  3.],\n",
       "        [ 4.,  5.,  6.,  7.],\n",
       "        [ 8.,  9., 10., 11.],\n",
       "        [12., 13., 14., 15.]])"
      ]
     },
     "execution_count": 60,
     "metadata": {},
     "output_type": "execute_result"
    }
   ],
   "source": [
    "arr4x4 = torch.arange(0., 16.).view(4, 4)\n",
    "arr4x4"
   ]
  },
  {
   "cell_type": "code",
   "execution_count": 62,
   "metadata": {},
   "outputs": [
    {
     "name": "stdout",
     "output_type": "stream",
     "text": [
      "tensor([[-12., -12., -12., -12.],\n",
      "        [  4.,   4.,   4.,   4.],\n",
      "        [  4.,   4.,   4.,   4.],\n",
      "        [  4.,   4.,   4.,   4.]])\n"
     ]
    },
    {
     "data": {
      "text/plain": [
       "tensor([[ 0.,  1.,  2.,  3.],\n",
       "        [ 4.,  5.,  6.,  7.],\n",
       "        [ 8.,  9., 10., 11.],\n",
       "        [12., 13., 14., 15.]])"
      ]
     },
     "execution_count": 62,
     "metadata": {},
     "output_type": "execute_result"
    }
   ],
   "source": [
    "derivation(arr4x4, axis=1, detach=False)"
   ]
  },
  {
   "cell_type": "code",
   "execution_count": 38,
   "metadata": {},
   "outputs": [
    {
     "data": {
      "text/plain": [
       "tensor([[-1.,  0.,  1.,  2.],\n",
       "        [ 3.,  4.,  5.,  6.]])"
      ]
     },
     "execution_count": 38,
     "metadata": {},
     "output_type": "execute_result"
    }
   ],
   "source": [
    "t = torch.narrow(arr4x4, dim=0, start=0, length=2)\n",
    "t -= 1\n",
    "t"
   ]
  },
  {
   "cell_type": "code",
   "execution_count": 39,
   "metadata": {},
   "outputs": [
    {
     "data": {
      "text/plain": [
       "tensor([[-1.,  0.,  1.,  2.],\n",
       "        [ 3.,  4.,  5.,  6.],\n",
       "        [ 8.,  9., 10., 11.],\n",
       "        [12., 13., 14., 15.]])"
      ]
     },
     "execution_count": 39,
     "metadata": {},
     "output_type": "execute_result"
    }
   ],
   "source": [
    "arr4x4"
   ]
  },
  {
   "cell_type": "code",
   "execution_count": 52,
   "metadata": {},
   "outputs": [
    {
     "name": "stdout",
     "output_type": "stream",
     "text": [
      "torch.Size([4, 4])\n"
     ]
    }
   ],
   "source": [
    "import torch\n",
    "\n",
    "# Example tensor with 4 dimensions\n",
    "my_tensor = arr4x4\n",
    "\n",
    "# Index of the dimension you want to select\n",
    "index = 0\n",
    "\n",
    "# Determine the number of dimensions\n",
    "num_dims = my_tensor.dim()\n",
    "\n",
    "# Create a range of indices to select the desired dimension\n",
    "indices = torch.arange(0, num_dims)\n",
    "\n",
    "# Replace the index with the desired dimension index\n",
    "indices[index] = num_dims - 1\n",
    "\n",
    "# Use torch.index_select to select the dimension\n",
    "t = torch.index_select(my_tensor, dim=indices[index], index=torch.arange(my_tensor.size(index)))\n",
    "\n",
    "# Print the resulting tensor\n",
    "print(t.shape)"
   ]
  },
  {
   "cell_type": "code",
   "execution_count": 78,
   "metadata": {},
   "outputs": [
    {
     "data": {
      "text/plain": [
       "True"
      ]
     },
     "execution_count": 78,
     "metadata": {},
     "output_type": "execute_result"
    }
   ],
   "source": [
    "import torch\n",
    "dx = torch.zeros(size=(4, 4), requires_grad=False)\n",
    "dy = torch.zeros(size=(4, 4), requires_grad=True)\n",
    "d = dx + dy\n",
    "d.requires_grad"
   ]
  },
  {
   "cell_type": "code",
   "execution_count": null,
   "metadata": {},
   "outputs": [],
   "source": []
  }
 ],
 "metadata": {
  "kernelspec": {
   "display_name": "Python 3",
   "language": "python",
   "name": "python3"
  },
  "language_info": {
   "codemirror_mode": {
    "name": "ipython",
    "version": 3
   },
   "file_extension": ".py",
   "mimetype": "text/x-python",
   "name": "python",
   "nbconvert_exporter": "python",
   "pygments_lexer": "ipython3",
   "version": "3.10.12"
  },
  "orig_nbformat": 4
 },
 "nbformat": 4,
 "nbformat_minor": 2
}
