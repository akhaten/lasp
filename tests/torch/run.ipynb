{
 "cells": [
  {
   "cell_type": "code",
   "execution_count": 4,
   "metadata": {},
   "outputs": [],
   "source": [
    "import sys\n",
    "sys.path.append('../..')"
   ]
  },
  {
   "cell_type": "code",
   "execution_count": null,
   "metadata": {},
   "outputs": [],
   "source": [
    "import pathlib\n",
    "\n",
    "import Datas\n",
    "import Model\n",
    "\n",
    "import torch\n",
    "import torch.optim\n",
    "\n",
    "import ignite.engine\n",
    "\n",
    "import CustomTrainer"
   ]
  },
  {
   "cell_type": "code",
   "execution_count": 6,
   "metadata": {},
   "outputs": [],
   "source": [
    "config = {\n",
    "    'model' : {\n",
    "        'device' : 'cpu',\n",
    "        'kernel_size' : (3, 3),\n",
    "        'nb_iterations' : 5,\n",
    "        'lamda' : {\n",
    "            'initialize' : 5e-2,\n",
    "            'requires_grad' : True\n",
    "        },\n",
    "        'sigma' : {\n",
    "            'initialize' : 5e-3,\n",
    "            'requires_grad' : True\n",
    "        }\n",
    "    }\n",
    "}"
   ]
  },
  {
   "cell_type": "code",
   "execution_count": null,
   "metadata": {},
   "outputs": [],
   "source": [
    "dataloader_train, dataloader_validation = Datas.from_config(config)"
   ]
  },
  {
   "cell_type": "code",
   "execution_count": 8,
   "metadata": {},
   "outputs": [
    {
     "data": {
      "text/plain": [
       "TotalVariation(\n",
       "  (layers): ModuleList(\n",
       "    (0-4): 5 x Layer(\n",
       "      (inv): Conv2d(1, 1, kernel_size=(3, 3), stride=(1, 1), padding=same)\n",
       "      (HT): Conv2d(1, 1, kernel_size=(3, 3), stride=(1, 1), padding=same)\n",
       "    )\n",
       "  )\n",
       ")"
      ]
     },
     "execution_count": 8,
     "metadata": {},
     "output_type": "execute_result"
    }
   ],
   "source": [
    "model = Model.TotalVariation.from_config(config)"
   ]
  },
  {
   "cell_type": "code",
   "execution_count": null,
   "metadata": {},
   "outputs": [],
   "source": [
    "train_folder = '.'\n",
    "\n",
    "# Make outputs paths\n",
    "output_path = pathlib.Path(config['output'].get('folder', train_folder))\n",
    "if not(output_path.exists()):\n",
    "    output_path.mkdir()\n",
    "\n",
    "models_save_path = output_path / config['output']['models_save']['path']\n",
    "if not(models_save_path.exists()):\n",
    "    models_save_path.mkdir()\n",
    "models_save_every = config['output']['models_save']['every']\n",
    "\n",
    "imgs_save_path = output_path / config['output']['imgs_save']['path']\n",
    "if not(imgs_save_path.exists()):\n",
    "    imgs_save_path.mkdir()\n",
    "\n",
    "path_imgs_train = imgs_save_path / 'train_datas'\n",
    "if not(path_imgs_train.exists()):\n",
    "    path_imgs_train.mkdir()\n",
    "\n",
    "path_imgs_eval = imgs_save_path / 'eval_datas'\n",
    "if not(path_imgs_eval.exists()):\n",
    "    path_imgs_eval.mkdir()\n",
    "\n",
    "\n",
    "nb_epochs = config['train']['nb_epochs']\n",
    "learning_rate = config['train']['learning_rate']\n",
    "criterion = eval(config['train']['loss'])\n",
    "\n",
    "imgs_save_every = config['output']['imgs_save']['every']\n",
    "\n",
    "df_training_path = output_path / config['output']['metrics']['train']\n",
    "df_validation_path = output_path / config['output']['metrics']['validation']\n",
    "loss_path = output_path / config['output']['loss']\n",
    "\n",
    "datas_device = config['dataset']['device']\n",
    "model_device = config['model']['device']\n"
   ]
  },
  {
   "cell_type": "code",
   "execution_count": null,
   "metadata": {},
   "outputs": [],
   "source": [
    "optimizer = torch.optim.Adam(\n",
    "    params=model.parameters(),\n",
    "    lr = learning_rate\n",
    ")\n",
    "\n",
    "criterion = torch.nn.MSELoss()\n",
    "\n",
    "train_step = CustomTrainer.create_train_step(\n",
    "    model, model_device, datas_device, optimizer, criterion\n",
    ")\n",
    "\n",
    "trainer = CustomTrainer.CustomEngine(train_step)\n",
    "trainer.add_event_handler(\n",
    "    ignite.engine.Events.ITERATION_COMPLETED,\n",
    "    CustomTrainer.update_epoch_loss\n",
    ")\n",
    "trainer.add_event_handler(\n",
    "    ignite.engine.Events.EPOCH_COMPLETED,\n",
    "    CustomTrainer.compute_epoch_loss\n",
    ")\n",
    "trainer.add_event_handler(\n",
    "    ignite.engine.Events.EPOCH_COMPLETED,\n",
    "    CustomTrainer.save_epoch_loss,\n",
    "    loss_path\n",
    ")\n",
    "trainer.add_event_handler(\n",
    "    ignite.engine.Events.EPOCH_COMPLETED,\n",
    "    CustomTrainer.print_logs\n",
    ")"
   ]
  },
  {
   "cell_type": "code",
   "execution_count": null,
   "metadata": {},
   "outputs": [],
   "source": [
    "trainer.add_event_handler(\n",
    "    # ignite.engine.Events.COMPLETED,\n",
    "    ignite.engine.Events.EPOCH_COMPLETED(every=models_save_every) \n",
    "    | ignite.engine.Events.COMPLETED,\n",
    "    # Callback\n",
    "    CustomTrainer.save_model,\n",
    "    # Parameters of callback\n",
    "    model,\n",
    "    models_save_path\n",
    ")\n",
    "\n",
    "\n",
    "import Evaluator\n",
    "# Make evaluator\n",
    "evaluate_function = Evaluator.create_evaluate_function(\n",
    "    model, model_device, datas_device\n",
    ")\n",
    "evaluator = ignite.engine.Engine(evaluate_function)\n",
    "\n",
    "trainer.add_event_handler(\n",
    "    ignite.engine.Events.EPOCH_COMPLETED(every=imgs_save_every) \n",
    "    | ignite.engine.Events.COMPLETED,\n",
    "    # Callback\n",
    "    Evaluator.evaluate_dataloader_with_variable_size_image,\n",
    "    # Parameters of callback\n",
    "    evaluator,\n",
    "    model,\n",
    "    model_device,\n",
    "    datas_device,\n",
    "    dataloader_train,\n",
    "    path_imgs_train\n",
    ")\n",
    "\n",
    "trainer.add_event_handler(\n",
    "    ignite.engine.Events.EPOCH_COMPLETED(every=imgs_save_every)\n",
    "    | ignite.engine.Events.COMPLETED,\n",
    "    # Callback\n",
    "    Evaluator.evaluate_dataloader_with_variable_size_image,\n",
    "    # Parameters of callback\n",
    "    evaluator,\n",
    "    model,\n",
    "    model_device,\n",
    "    datas_device,\n",
    "    dataloader_validation,\n",
    "    path_imgs_eval\n",
    ")"
   ]
  }
 ],
 "metadata": {
  "kernelspec": {
   "display_name": "Python 3",
   "language": "python",
   "name": "python3"
  },
  "language_info": {
   "codemirror_mode": {
    "name": "ipython",
    "version": 3
   },
   "file_extension": ".py",
   "mimetype": "text/x-python",
   "name": "python",
   "nbconvert_exporter": "python",
   "pygments_lexer": "ipython3",
   "version": "3.10.12"
  },
  "orig_nbformat": 4
 },
 "nbformat": 4,
 "nbformat_minor": 2
}
